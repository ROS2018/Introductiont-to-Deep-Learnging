{
 "cells": [
  {
   "cell_type": "markdown",
   "metadata": {},
   "source": [
    "<img width=\"800px\" src=\"../fidle/img/00-Fidle-header-01.svg\"></img>\n",
    "\n",
    "# <!-- TITLE --> [BHPD2] - Regression with a Dense Network (DNN) - Advanced code\n",
    "  <!-- DESC -->  A more advanced implementation of the precedent example\n",
    "  <!-- AUTHOR : Jean-Luc Parouty (CNRS/SIMaP) -->\n",
    "\n",
    "## Objectives :\n",
    " - Predicts **housing prices** from a set of house features. \n",
    " - Understanding the principle and the architecture of a regression with a dense neural network with backup and restore of the trained model. \n",
    "\n",
    "The **[Boston Housing Prices Dataset](https://www.cs.toronto.edu/~delve/data/boston/bostonDetail.html)** consists of price of houses in various places in Boston.  \n",
    "Alongside with price, the dataset also provide these information :\n",
    "\n",
    " - CRIM: This is the per capita crime rate by town\n",
    " - ZN: This is the proportion of residential land zoned for lots larger than 25,000 sq.ft\n",
    " - INDUS: This is the proportion of non-retail business acres per town\n",
    " - CHAS: This is the Charles River dummy variable (this is equal to 1 if tract bounds river; 0 otherwise)\n",
    " - NOX: This is the nitric oxides concentration (parts per 10 million)\n",
    " - RM: This is the average number of rooms per dwelling\n",
    " - AGE: This is the proportion of owner-occupied units built prior to 1940\n",
    " - DIS: This is the weighted distances to five Boston employment centers\n",
    " - RAD: This is the index of accessibility to radial highways\n",
    " - TAX: This is the full-value property-tax rate per 10,000 dollars\n",
    " - PTRATIO: This is the pupil-teacher ratio by town\n",
    " - B: This is calculated as 1000(Bk — 0.63)^2, where Bk is the proportion of people of African American descent by town\n",
    " - LSTAT: This is the percentage lower status of the population\n",
    " - MEDV: This is the median value of owner-occupied homes in 1000 dollars\n",
    "\n",
    "## What we're going to do :\n",
    "\n",
    " - (Retrieve data)\n",
    " - (Preparing the data)\n",
    " - (Build a model)\n",
    " - Train and save the model\n",
    " - Restore saved model\n",
    " - Evaluate the model\n",
    " - Make some predictions\n"
   ]
  },
  {
   "cell_type": "markdown",
   "metadata": {},
   "source": [
    "## Step 1 - Import and init"
   ]
  },
  {
   "cell_type": "code",
   "execution_count": 1,
   "metadata": {},
   "outputs": [
    {
     "data": {
      "text/html": [
       "<style>\n",
       "\n",
       "div.warn {    \n",
       "    background-color: #fcf2f2;\n",
       "    border-color: #dFb5b4;\n",
       "    border-left: 5px solid #dfb5b4;\n",
       "    padding: 0.5em;\n",
       "    font-weight: bold;\n",
       "    font-size: 1.1em;;\n",
       "    }\n",
       "\n",
       "\n",
       "\n",
       "div.nota {    \n",
       "    background-color: #DAFFDE;\n",
       "    border-left: 5px solid #92CC99;\n",
       "    padding: 0.5em;\n",
       "    }\n",
       "\n",
       "div.todo:before { content:url(data:image/svg+xml;base64,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);\n",
       "    float:left;\n",
       "    margin-right:20px;\n",
       "    margin-top:-20px;\n",
       "    margin-bottom:20px;\n",
       "}\n",
       "div.todo{\n",
       "    font-weight: bold;\n",
       "    font-size: 1.1em;\n",
       "    margin-top:40px;\n",
       "}\n",
       "div.todo ul{\n",
       "    margin: 0.2em;\n",
       "}\n",
       "div.todo li{\n",
       "    margin-left:60px;\n",
       "    margin-top:0;\n",
       "    margin-bottom:0;\n",
       "}\n",
       "\n",
       "div .comment{\n",
       "    font-size:0.8em;\n",
       "    color:#696969;\n",
       "}\n",
       "\n",
       "\n",
       "\n",
       "</style>\n",
       "\n"
      ],
      "text/plain": [
       "<IPython.core.display.HTML object>"
      ]
     },
     "metadata": {},
     "output_type": "display_data"
    },
    {
     "data": {
      "text/markdown": [
       "<br>**FIDLE 2020 - Practical Work Module**"
      ],
      "text/plain": [
       "<IPython.core.display.Markdown object>"
      ]
     },
     "metadata": {},
     "output_type": "display_data"
    },
    {
     "name": "stdout",
     "output_type": "stream",
     "text": [
      "Version              : 2.0.7\n",
      "Notebook id          : BHPD2\n",
      "Run time             : Wednesday 27 January 2021, 18:22:00\n",
      "TensorFlow version   : 2.2.0\n",
      "Keras version        : 2.3.0-tf\n",
      "Datasets dir         : /gpfswork/rech/mlh/uja62cb/datasets\n",
      "Run dir              : ./run\n",
      "Update keras cache   : False\n",
      "Save figs            : True\n",
      "Path figs            : ./run/figs\n"
     ]
    }
   ],
   "source": [
    "import tensorflow as tf\n",
    "from tensorflow import keras\n",
    "\n",
    "import numpy as np\n",
    "import matplotlib.pyplot as plt\n",
    "import pandas as pd\n",
    "import os,sys\n",
    "\n",
    "from IPython.display import Markdown\n",
    "from importlib import reload\n",
    "\n",
    "sys.path.append('..')\n",
    "import fidle.pwk as pwk\n",
    "\n",
    "datasets_dir = pwk.init('BHPD2')"
   ]
  },
  {
   "cell_type": "markdown",
   "metadata": {},
   "source": [
    "## Step 2 - Retrieve data\n",
    "\n",
    "### 2.1 - Option 1  : From Keras\n",
    "Boston housing is a famous historic dataset, so we can get it directly from [Keras datasets](https://www.tensorflow.org/api_docs/python/tf/keras/datasets)  "
   ]
  },
  {
   "cell_type": "code",
   "execution_count": 2,
   "metadata": {},
   "outputs": [],
   "source": [
    "# (x_train, y_train), (x_test, y_test) = keras.datasets.boston_housing.load_data(test_split=0.2, seed=113)"
   ]
  },
  {
   "cell_type": "markdown",
   "metadata": {},
   "source": [
    "### 2.2 - Option 2 : From a csv file\n",
    "More fun !"
   ]
  },
  {
   "cell_type": "code",
   "execution_count": 3,
   "metadata": {},
   "outputs": [
    {
     "data": {
      "text/html": [
       "<style  type=\"text/css\" >\n",
       "</style><table id=\"T_2a24b7ba_60c4_11eb_8311_ac1f6bce5dd9\" ><thead>    <tr>        <th class=\"blank level0\" ></th>        <th class=\"col_heading level0 col0\" >crim</th>        <th class=\"col_heading level0 col1\" >zn</th>        <th class=\"col_heading level0 col2\" >indus</th>        <th class=\"col_heading level0 col3\" >chas</th>        <th class=\"col_heading level0 col4\" >nox</th>        <th class=\"col_heading level0 col5\" >rm</th>        <th class=\"col_heading level0 col6\" >age</th>        <th class=\"col_heading level0 col7\" >dis</th>        <th class=\"col_heading level0 col8\" >rad</th>        <th class=\"col_heading level0 col9\" >tax</th>        <th class=\"col_heading level0 col10\" >ptratio</th>        <th class=\"col_heading level0 col11\" >b</th>        <th class=\"col_heading level0 col12\" >lstat</th>        <th class=\"col_heading level0 col13\" >medv</th>    </tr></thead><tbody>\n",
       "                <tr>\n",
       "                        <th id=\"T_2a24b7ba_60c4_11eb_8311_ac1f6bce5dd9level0_row0\" class=\"row_heading level0 row0\" >0</th>\n",
       "                        <td id=\"T_2a24b7ba_60c4_11eb_8311_ac1f6bce5dd9row0_col0\" class=\"data row0 col0\" >0.01</td>\n",
       "                        <td id=\"T_2a24b7ba_60c4_11eb_8311_ac1f6bce5dd9row0_col1\" class=\"data row0 col1\" >18.00</td>\n",
       "                        <td id=\"T_2a24b7ba_60c4_11eb_8311_ac1f6bce5dd9row0_col2\" class=\"data row0 col2\" >2.31</td>\n",
       "                        <td id=\"T_2a24b7ba_60c4_11eb_8311_ac1f6bce5dd9row0_col3\" class=\"data row0 col3\" >0.00</td>\n",
       "                        <td id=\"T_2a24b7ba_60c4_11eb_8311_ac1f6bce5dd9row0_col4\" class=\"data row0 col4\" >0.54</td>\n",
       "                        <td id=\"T_2a24b7ba_60c4_11eb_8311_ac1f6bce5dd9row0_col5\" class=\"data row0 col5\" >6.58</td>\n",
       "                        <td id=\"T_2a24b7ba_60c4_11eb_8311_ac1f6bce5dd9row0_col6\" class=\"data row0 col6\" >65.20</td>\n",
       "                        <td id=\"T_2a24b7ba_60c4_11eb_8311_ac1f6bce5dd9row0_col7\" class=\"data row0 col7\" >4.09</td>\n",
       "                        <td id=\"T_2a24b7ba_60c4_11eb_8311_ac1f6bce5dd9row0_col8\" class=\"data row0 col8\" >1.00</td>\n",
       "                        <td id=\"T_2a24b7ba_60c4_11eb_8311_ac1f6bce5dd9row0_col9\" class=\"data row0 col9\" >296.00</td>\n",
       "                        <td id=\"T_2a24b7ba_60c4_11eb_8311_ac1f6bce5dd9row0_col10\" class=\"data row0 col10\" >15.30</td>\n",
       "                        <td id=\"T_2a24b7ba_60c4_11eb_8311_ac1f6bce5dd9row0_col11\" class=\"data row0 col11\" >396.90</td>\n",
       "                        <td id=\"T_2a24b7ba_60c4_11eb_8311_ac1f6bce5dd9row0_col12\" class=\"data row0 col12\" >4.98</td>\n",
       "                        <td id=\"T_2a24b7ba_60c4_11eb_8311_ac1f6bce5dd9row0_col13\" class=\"data row0 col13\" >24.00</td>\n",
       "            </tr>\n",
       "            <tr>\n",
       "                        <th id=\"T_2a24b7ba_60c4_11eb_8311_ac1f6bce5dd9level0_row1\" class=\"row_heading level0 row1\" >1</th>\n",
       "                        <td id=\"T_2a24b7ba_60c4_11eb_8311_ac1f6bce5dd9row1_col0\" class=\"data row1 col0\" >0.03</td>\n",
       "                        <td id=\"T_2a24b7ba_60c4_11eb_8311_ac1f6bce5dd9row1_col1\" class=\"data row1 col1\" >0.00</td>\n",
       "                        <td id=\"T_2a24b7ba_60c4_11eb_8311_ac1f6bce5dd9row1_col2\" class=\"data row1 col2\" >7.07</td>\n",
       "                        <td id=\"T_2a24b7ba_60c4_11eb_8311_ac1f6bce5dd9row1_col3\" class=\"data row1 col3\" >0.00</td>\n",
       "                        <td id=\"T_2a24b7ba_60c4_11eb_8311_ac1f6bce5dd9row1_col4\" class=\"data row1 col4\" >0.47</td>\n",
       "                        <td id=\"T_2a24b7ba_60c4_11eb_8311_ac1f6bce5dd9row1_col5\" class=\"data row1 col5\" >6.42</td>\n",
       "                        <td id=\"T_2a24b7ba_60c4_11eb_8311_ac1f6bce5dd9row1_col6\" class=\"data row1 col6\" >78.90</td>\n",
       "                        <td id=\"T_2a24b7ba_60c4_11eb_8311_ac1f6bce5dd9row1_col7\" class=\"data row1 col7\" >4.97</td>\n",
       "                        <td id=\"T_2a24b7ba_60c4_11eb_8311_ac1f6bce5dd9row1_col8\" class=\"data row1 col8\" >2.00</td>\n",
       "                        <td id=\"T_2a24b7ba_60c4_11eb_8311_ac1f6bce5dd9row1_col9\" class=\"data row1 col9\" >242.00</td>\n",
       "                        <td id=\"T_2a24b7ba_60c4_11eb_8311_ac1f6bce5dd9row1_col10\" class=\"data row1 col10\" >17.80</td>\n",
       "                        <td id=\"T_2a24b7ba_60c4_11eb_8311_ac1f6bce5dd9row1_col11\" class=\"data row1 col11\" >396.90</td>\n",
       "                        <td id=\"T_2a24b7ba_60c4_11eb_8311_ac1f6bce5dd9row1_col12\" class=\"data row1 col12\" >9.14</td>\n",
       "                        <td id=\"T_2a24b7ba_60c4_11eb_8311_ac1f6bce5dd9row1_col13\" class=\"data row1 col13\" >21.60</td>\n",
       "            </tr>\n",
       "            <tr>\n",
       "                        <th id=\"T_2a24b7ba_60c4_11eb_8311_ac1f6bce5dd9level0_row2\" class=\"row_heading level0 row2\" >2</th>\n",
       "                        <td id=\"T_2a24b7ba_60c4_11eb_8311_ac1f6bce5dd9row2_col0\" class=\"data row2 col0\" >0.03</td>\n",
       "                        <td id=\"T_2a24b7ba_60c4_11eb_8311_ac1f6bce5dd9row2_col1\" class=\"data row2 col1\" >0.00</td>\n",
       "                        <td id=\"T_2a24b7ba_60c4_11eb_8311_ac1f6bce5dd9row2_col2\" class=\"data row2 col2\" >7.07</td>\n",
       "                        <td id=\"T_2a24b7ba_60c4_11eb_8311_ac1f6bce5dd9row2_col3\" class=\"data row2 col3\" >0.00</td>\n",
       "                        <td id=\"T_2a24b7ba_60c4_11eb_8311_ac1f6bce5dd9row2_col4\" class=\"data row2 col4\" >0.47</td>\n",
       "                        <td id=\"T_2a24b7ba_60c4_11eb_8311_ac1f6bce5dd9row2_col5\" class=\"data row2 col5\" >7.18</td>\n",
       "                        <td id=\"T_2a24b7ba_60c4_11eb_8311_ac1f6bce5dd9row2_col6\" class=\"data row2 col6\" >61.10</td>\n",
       "                        <td id=\"T_2a24b7ba_60c4_11eb_8311_ac1f6bce5dd9row2_col7\" class=\"data row2 col7\" >4.97</td>\n",
       "                        <td id=\"T_2a24b7ba_60c4_11eb_8311_ac1f6bce5dd9row2_col8\" class=\"data row2 col8\" >2.00</td>\n",
       "                        <td id=\"T_2a24b7ba_60c4_11eb_8311_ac1f6bce5dd9row2_col9\" class=\"data row2 col9\" >242.00</td>\n",
       "                        <td id=\"T_2a24b7ba_60c4_11eb_8311_ac1f6bce5dd9row2_col10\" class=\"data row2 col10\" >17.80</td>\n",
       "                        <td id=\"T_2a24b7ba_60c4_11eb_8311_ac1f6bce5dd9row2_col11\" class=\"data row2 col11\" >392.83</td>\n",
       "                        <td id=\"T_2a24b7ba_60c4_11eb_8311_ac1f6bce5dd9row2_col12\" class=\"data row2 col12\" >4.03</td>\n",
       "                        <td id=\"T_2a24b7ba_60c4_11eb_8311_ac1f6bce5dd9row2_col13\" class=\"data row2 col13\" >34.70</td>\n",
       "            </tr>\n",
       "            <tr>\n",
       "                        <th id=\"T_2a24b7ba_60c4_11eb_8311_ac1f6bce5dd9level0_row3\" class=\"row_heading level0 row3\" >3</th>\n",
       "                        <td id=\"T_2a24b7ba_60c4_11eb_8311_ac1f6bce5dd9row3_col0\" class=\"data row3 col0\" >0.03</td>\n",
       "                        <td id=\"T_2a24b7ba_60c4_11eb_8311_ac1f6bce5dd9row3_col1\" class=\"data row3 col1\" >0.00</td>\n",
       "                        <td id=\"T_2a24b7ba_60c4_11eb_8311_ac1f6bce5dd9row3_col2\" class=\"data row3 col2\" >2.18</td>\n",
       "                        <td id=\"T_2a24b7ba_60c4_11eb_8311_ac1f6bce5dd9row3_col3\" class=\"data row3 col3\" >0.00</td>\n",
       "                        <td id=\"T_2a24b7ba_60c4_11eb_8311_ac1f6bce5dd9row3_col4\" class=\"data row3 col4\" >0.46</td>\n",
       "                        <td id=\"T_2a24b7ba_60c4_11eb_8311_ac1f6bce5dd9row3_col5\" class=\"data row3 col5\" >7.00</td>\n",
       "                        <td id=\"T_2a24b7ba_60c4_11eb_8311_ac1f6bce5dd9row3_col6\" class=\"data row3 col6\" >45.80</td>\n",
       "                        <td id=\"T_2a24b7ba_60c4_11eb_8311_ac1f6bce5dd9row3_col7\" class=\"data row3 col7\" >6.06</td>\n",
       "                        <td id=\"T_2a24b7ba_60c4_11eb_8311_ac1f6bce5dd9row3_col8\" class=\"data row3 col8\" >3.00</td>\n",
       "                        <td id=\"T_2a24b7ba_60c4_11eb_8311_ac1f6bce5dd9row3_col9\" class=\"data row3 col9\" >222.00</td>\n",
       "                        <td id=\"T_2a24b7ba_60c4_11eb_8311_ac1f6bce5dd9row3_col10\" class=\"data row3 col10\" >18.70</td>\n",
       "                        <td id=\"T_2a24b7ba_60c4_11eb_8311_ac1f6bce5dd9row3_col11\" class=\"data row3 col11\" >394.63</td>\n",
       "                        <td id=\"T_2a24b7ba_60c4_11eb_8311_ac1f6bce5dd9row3_col12\" class=\"data row3 col12\" >2.94</td>\n",
       "                        <td id=\"T_2a24b7ba_60c4_11eb_8311_ac1f6bce5dd9row3_col13\" class=\"data row3 col13\" >33.40</td>\n",
       "            </tr>\n",
       "            <tr>\n",
       "                        <th id=\"T_2a24b7ba_60c4_11eb_8311_ac1f6bce5dd9level0_row4\" class=\"row_heading level0 row4\" >4</th>\n",
       "                        <td id=\"T_2a24b7ba_60c4_11eb_8311_ac1f6bce5dd9row4_col0\" class=\"data row4 col0\" >0.07</td>\n",
       "                        <td id=\"T_2a24b7ba_60c4_11eb_8311_ac1f6bce5dd9row4_col1\" class=\"data row4 col1\" >0.00</td>\n",
       "                        <td id=\"T_2a24b7ba_60c4_11eb_8311_ac1f6bce5dd9row4_col2\" class=\"data row4 col2\" >2.18</td>\n",
       "                        <td id=\"T_2a24b7ba_60c4_11eb_8311_ac1f6bce5dd9row4_col3\" class=\"data row4 col3\" >0.00</td>\n",
       "                        <td id=\"T_2a24b7ba_60c4_11eb_8311_ac1f6bce5dd9row4_col4\" class=\"data row4 col4\" >0.46</td>\n",
       "                        <td id=\"T_2a24b7ba_60c4_11eb_8311_ac1f6bce5dd9row4_col5\" class=\"data row4 col5\" >7.15</td>\n",
       "                        <td id=\"T_2a24b7ba_60c4_11eb_8311_ac1f6bce5dd9row4_col6\" class=\"data row4 col6\" >54.20</td>\n",
       "                        <td id=\"T_2a24b7ba_60c4_11eb_8311_ac1f6bce5dd9row4_col7\" class=\"data row4 col7\" >6.06</td>\n",
       "                        <td id=\"T_2a24b7ba_60c4_11eb_8311_ac1f6bce5dd9row4_col8\" class=\"data row4 col8\" >3.00</td>\n",
       "                        <td id=\"T_2a24b7ba_60c4_11eb_8311_ac1f6bce5dd9row4_col9\" class=\"data row4 col9\" >222.00</td>\n",
       "                        <td id=\"T_2a24b7ba_60c4_11eb_8311_ac1f6bce5dd9row4_col10\" class=\"data row4 col10\" >18.70</td>\n",
       "                        <td id=\"T_2a24b7ba_60c4_11eb_8311_ac1f6bce5dd9row4_col11\" class=\"data row4 col11\" >396.90</td>\n",
       "                        <td id=\"T_2a24b7ba_60c4_11eb_8311_ac1f6bce5dd9row4_col12\" class=\"data row4 col12\" >5.33</td>\n",
       "                        <td id=\"T_2a24b7ba_60c4_11eb_8311_ac1f6bce5dd9row4_col13\" class=\"data row4 col13\" >36.20</td>\n",
       "            </tr>\n",
       "    </tbody></table>"
      ],
      "text/plain": [
       "<pandas.io.formats.style.Styler at 0x14b3318dbd90>"
      ]
     },
     "metadata": {},
     "output_type": "display_data"
    },
    {
     "name": "stdout",
     "output_type": "stream",
     "text": [
      "Missing Data :  0   Shape is :  (506, 14)\n"
     ]
    }
   ],
   "source": [
    "data = pd.read_csv(f'{datasets_dir}/BHPD/origine/BostonHousing.csv', header=0)\n",
    "\n",
    "display(data.head(5).style.format(\"{0:.2f}\"))\n",
    "print('Missing Data : ',data.isna().sum().sum(), '  Shape is : ', data.shape)"
   ]
  },
  {
   "cell_type": "markdown",
   "metadata": {},
   "source": [
    "## Step 3 - Preparing the data\n",
    "### 3.1 - Split data\n",
    "We will use 80% of the data for training and 20% for validation.  \n",
    "x will be input data and y the expected output"
   ]
  },
  {
   "cell_type": "code",
   "execution_count": 4,
   "metadata": {},
   "outputs": [
    {
     "name": "stdout",
     "output_type": "stream",
     "text": [
      "Original data shape was :  (506, 14)\n",
      "x_train :  (354, 13) y_train :  (354,)\n",
      "x_test  :  (152, 13) y_test  :  (152,)\n"
     ]
    }
   ],
   "source": [
    "# ---- Split => train, test\n",
    "#\n",
    "data_train = data.sample(frac=0.7, axis=0)\n",
    "data_test  = data.drop(data_train.index)\n",
    "\n",
    "# ---- Split => x,y (medv is price)\n",
    "#\n",
    "x_train = data_train.drop('medv',  axis=1)\n",
    "y_train = data_train['medv']\n",
    "x_test  = data_test.drop('medv',   axis=1)\n",
    "y_test  = data_test['medv']\n",
    "\n",
    "print('Original data shape was : ',data.shape)\n",
    "print('x_train : ',x_train.shape, 'y_train : ',y_train.shape)\n",
    "print('x_test  : ',x_test.shape,  'y_test  : ',y_test.shape)"
   ]
  },
  {
   "cell_type": "markdown",
   "metadata": {},
   "source": [
    "### 3.2 - Data normalization\n",
    "**Note :** \n",
    " - All input data must be normalized, train and test.  \n",
    " - To do this we will subtract the mean and divide by the standard deviation.  \n",
    " - But test data should not be used in any way, even for normalization.  \n",
    " - The mean and the standard deviation will therefore only be calculated with the train data."
   ]
  },
  {
   "cell_type": "code",
   "execution_count": 5,
   "metadata": {},
   "outputs": [
    {
     "data": {
      "text/html": [
       "<style  type=\"text/css\" >\n",
       "</style><table id=\"T_2a2e1544_60c4_11eb_8311_ac1f6bce5dd9\" ><caption>Before normalization :</caption><thead>    <tr>        <th class=\"blank level0\" ></th>        <th class=\"col_heading level0 col0\" >crim</th>        <th class=\"col_heading level0 col1\" >zn</th>        <th class=\"col_heading level0 col2\" >indus</th>        <th class=\"col_heading level0 col3\" >chas</th>        <th class=\"col_heading level0 col4\" >nox</th>        <th class=\"col_heading level0 col5\" >rm</th>        <th class=\"col_heading level0 col6\" >age</th>        <th class=\"col_heading level0 col7\" >dis</th>        <th class=\"col_heading level0 col8\" >rad</th>        <th class=\"col_heading level0 col9\" >tax</th>        <th class=\"col_heading level0 col10\" >ptratio</th>        <th class=\"col_heading level0 col11\" >b</th>        <th class=\"col_heading level0 col12\" >lstat</th>    </tr></thead><tbody>\n",
       "                <tr>\n",
       "                        <th id=\"T_2a2e1544_60c4_11eb_8311_ac1f6bce5dd9level0_row0\" class=\"row_heading level0 row0\" >count</th>\n",
       "                        <td id=\"T_2a2e1544_60c4_11eb_8311_ac1f6bce5dd9row0_col0\" class=\"data row0 col0\" >354.00</td>\n",
       "                        <td id=\"T_2a2e1544_60c4_11eb_8311_ac1f6bce5dd9row0_col1\" class=\"data row0 col1\" >354.00</td>\n",
       "                        <td id=\"T_2a2e1544_60c4_11eb_8311_ac1f6bce5dd9row0_col2\" class=\"data row0 col2\" >354.00</td>\n",
       "                        <td id=\"T_2a2e1544_60c4_11eb_8311_ac1f6bce5dd9row0_col3\" class=\"data row0 col3\" >354.00</td>\n",
       "                        <td id=\"T_2a2e1544_60c4_11eb_8311_ac1f6bce5dd9row0_col4\" class=\"data row0 col4\" >354.00</td>\n",
       "                        <td id=\"T_2a2e1544_60c4_11eb_8311_ac1f6bce5dd9row0_col5\" class=\"data row0 col5\" >354.00</td>\n",
       "                        <td id=\"T_2a2e1544_60c4_11eb_8311_ac1f6bce5dd9row0_col6\" class=\"data row0 col6\" >354.00</td>\n",
       "                        <td id=\"T_2a2e1544_60c4_11eb_8311_ac1f6bce5dd9row0_col7\" class=\"data row0 col7\" >354.00</td>\n",
       "                        <td id=\"T_2a2e1544_60c4_11eb_8311_ac1f6bce5dd9row0_col8\" class=\"data row0 col8\" >354.00</td>\n",
       "                        <td id=\"T_2a2e1544_60c4_11eb_8311_ac1f6bce5dd9row0_col9\" class=\"data row0 col9\" >354.00</td>\n",
       "                        <td id=\"T_2a2e1544_60c4_11eb_8311_ac1f6bce5dd9row0_col10\" class=\"data row0 col10\" >354.00</td>\n",
       "                        <td id=\"T_2a2e1544_60c4_11eb_8311_ac1f6bce5dd9row0_col11\" class=\"data row0 col11\" >354.00</td>\n",
       "                        <td id=\"T_2a2e1544_60c4_11eb_8311_ac1f6bce5dd9row0_col12\" class=\"data row0 col12\" >354.00</td>\n",
       "            </tr>\n",
       "            <tr>\n",
       "                        <th id=\"T_2a2e1544_60c4_11eb_8311_ac1f6bce5dd9level0_row1\" class=\"row_heading level0 row1\" >mean</th>\n",
       "                        <td id=\"T_2a2e1544_60c4_11eb_8311_ac1f6bce5dd9row1_col0\" class=\"data row1 col0\" >3.53</td>\n",
       "                        <td id=\"T_2a2e1544_60c4_11eb_8311_ac1f6bce5dd9row1_col1\" class=\"data row1 col1\" >10.39</td>\n",
       "                        <td id=\"T_2a2e1544_60c4_11eb_8311_ac1f6bce5dd9row1_col2\" class=\"data row1 col2\" >11.16</td>\n",
       "                        <td id=\"T_2a2e1544_60c4_11eb_8311_ac1f6bce5dd9row1_col3\" class=\"data row1 col3\" >0.08</td>\n",
       "                        <td id=\"T_2a2e1544_60c4_11eb_8311_ac1f6bce5dd9row1_col4\" class=\"data row1 col4\" >0.56</td>\n",
       "                        <td id=\"T_2a2e1544_60c4_11eb_8311_ac1f6bce5dd9row1_col5\" class=\"data row1 col5\" >6.27</td>\n",
       "                        <td id=\"T_2a2e1544_60c4_11eb_8311_ac1f6bce5dd9row1_col6\" class=\"data row1 col6\" >69.21</td>\n",
       "                        <td id=\"T_2a2e1544_60c4_11eb_8311_ac1f6bce5dd9row1_col7\" class=\"data row1 col7\" >3.69</td>\n",
       "                        <td id=\"T_2a2e1544_60c4_11eb_8311_ac1f6bce5dd9row1_col8\" class=\"data row1 col8\" >9.73</td>\n",
       "                        <td id=\"T_2a2e1544_60c4_11eb_8311_ac1f6bce5dd9row1_col9\" class=\"data row1 col9\" >408.19</td>\n",
       "                        <td id=\"T_2a2e1544_60c4_11eb_8311_ac1f6bce5dd9row1_col10\" class=\"data row1 col10\" >18.44</td>\n",
       "                        <td id=\"T_2a2e1544_60c4_11eb_8311_ac1f6bce5dd9row1_col11\" class=\"data row1 col11\" >357.89</td>\n",
       "                        <td id=\"T_2a2e1544_60c4_11eb_8311_ac1f6bce5dd9row1_col12\" class=\"data row1 col12\" >12.71</td>\n",
       "            </tr>\n",
       "            <tr>\n",
       "                        <th id=\"T_2a2e1544_60c4_11eb_8311_ac1f6bce5dd9level0_row2\" class=\"row_heading level0 row2\" >std</th>\n",
       "                        <td id=\"T_2a2e1544_60c4_11eb_8311_ac1f6bce5dd9row2_col0\" class=\"data row2 col0\" >7.98</td>\n",
       "                        <td id=\"T_2a2e1544_60c4_11eb_8311_ac1f6bce5dd9row2_col1\" class=\"data row2 col1\" >22.23</td>\n",
       "                        <td id=\"T_2a2e1544_60c4_11eb_8311_ac1f6bce5dd9row2_col2\" class=\"data row2 col2\" >6.77</td>\n",
       "                        <td id=\"T_2a2e1544_60c4_11eb_8311_ac1f6bce5dd9row2_col3\" class=\"data row2 col3\" >0.27</td>\n",
       "                        <td id=\"T_2a2e1544_60c4_11eb_8311_ac1f6bce5dd9row2_col4\" class=\"data row2 col4\" >0.11</td>\n",
       "                        <td id=\"T_2a2e1544_60c4_11eb_8311_ac1f6bce5dd9row2_col5\" class=\"data row2 col5\" >0.72</td>\n",
       "                        <td id=\"T_2a2e1544_60c4_11eb_8311_ac1f6bce5dd9row2_col6\" class=\"data row2 col6\" >28.32</td>\n",
       "                        <td id=\"T_2a2e1544_60c4_11eb_8311_ac1f6bce5dd9row2_col7\" class=\"data row2 col7\" >2.04</td>\n",
       "                        <td id=\"T_2a2e1544_60c4_11eb_8311_ac1f6bce5dd9row2_col8\" class=\"data row2 col8\" >8.77</td>\n",
       "                        <td id=\"T_2a2e1544_60c4_11eb_8311_ac1f6bce5dd9row2_col9\" class=\"data row2 col9\" >169.72</td>\n",
       "                        <td id=\"T_2a2e1544_60c4_11eb_8311_ac1f6bce5dd9row2_col10\" class=\"data row2 col10\" >2.19</td>\n",
       "                        <td id=\"T_2a2e1544_60c4_11eb_8311_ac1f6bce5dd9row2_col11\" class=\"data row2 col11\" >89.02</td>\n",
       "                        <td id=\"T_2a2e1544_60c4_11eb_8311_ac1f6bce5dd9row2_col12\" class=\"data row2 col12\" >7.18</td>\n",
       "            </tr>\n",
       "            <tr>\n",
       "                        <th id=\"T_2a2e1544_60c4_11eb_8311_ac1f6bce5dd9level0_row3\" class=\"row_heading level0 row3\" >min</th>\n",
       "                        <td id=\"T_2a2e1544_60c4_11eb_8311_ac1f6bce5dd9row3_col0\" class=\"data row3 col0\" >0.01</td>\n",
       "                        <td id=\"T_2a2e1544_60c4_11eb_8311_ac1f6bce5dd9row3_col1\" class=\"data row3 col1\" >0.00</td>\n",
       "                        <td id=\"T_2a2e1544_60c4_11eb_8311_ac1f6bce5dd9row3_col2\" class=\"data row3 col2\" >0.74</td>\n",
       "                        <td id=\"T_2a2e1544_60c4_11eb_8311_ac1f6bce5dd9row3_col3\" class=\"data row3 col3\" >0.00</td>\n",
       "                        <td id=\"T_2a2e1544_60c4_11eb_8311_ac1f6bce5dd9row3_col4\" class=\"data row3 col4\" >0.39</td>\n",
       "                        <td id=\"T_2a2e1544_60c4_11eb_8311_ac1f6bce5dd9row3_col5\" class=\"data row3 col5\" >3.56</td>\n",
       "                        <td id=\"T_2a2e1544_60c4_11eb_8311_ac1f6bce5dd9row3_col6\" class=\"data row3 col6\" >2.90</td>\n",
       "                        <td id=\"T_2a2e1544_60c4_11eb_8311_ac1f6bce5dd9row3_col7\" class=\"data row3 col7\" >1.13</td>\n",
       "                        <td id=\"T_2a2e1544_60c4_11eb_8311_ac1f6bce5dd9row3_col8\" class=\"data row3 col8\" >1.00</td>\n",
       "                        <td id=\"T_2a2e1544_60c4_11eb_8311_ac1f6bce5dd9row3_col9\" class=\"data row3 col9\" >187.00</td>\n",
       "                        <td id=\"T_2a2e1544_60c4_11eb_8311_ac1f6bce5dd9row3_col10\" class=\"data row3 col10\" >12.60</td>\n",
       "                        <td id=\"T_2a2e1544_60c4_11eb_8311_ac1f6bce5dd9row3_col11\" class=\"data row3 col11\" >0.32</td>\n",
       "                        <td id=\"T_2a2e1544_60c4_11eb_8311_ac1f6bce5dd9row3_col12\" class=\"data row3 col12\" >1.73</td>\n",
       "            </tr>\n",
       "            <tr>\n",
       "                        <th id=\"T_2a2e1544_60c4_11eb_8311_ac1f6bce5dd9level0_row4\" class=\"row_heading level0 row4\" >25%</th>\n",
       "                        <td id=\"T_2a2e1544_60c4_11eb_8311_ac1f6bce5dd9row4_col0\" class=\"data row4 col0\" >0.09</td>\n",
       "                        <td id=\"T_2a2e1544_60c4_11eb_8311_ac1f6bce5dd9row4_col1\" class=\"data row4 col1\" >0.00</td>\n",
       "                        <td id=\"T_2a2e1544_60c4_11eb_8311_ac1f6bce5dd9row4_col2\" class=\"data row4 col2\" >5.32</td>\n",
       "                        <td id=\"T_2a2e1544_60c4_11eb_8311_ac1f6bce5dd9row4_col3\" class=\"data row4 col3\" >0.00</td>\n",
       "                        <td id=\"T_2a2e1544_60c4_11eb_8311_ac1f6bce5dd9row4_col4\" class=\"data row4 col4\" >0.46</td>\n",
       "                        <td id=\"T_2a2e1544_60c4_11eb_8311_ac1f6bce5dd9row4_col5\" class=\"data row4 col5\" >5.86</td>\n",
       "                        <td id=\"T_2a2e1544_60c4_11eb_8311_ac1f6bce5dd9row4_col6\" class=\"data row4 col6\" >46.52</td>\n",
       "                        <td id=\"T_2a2e1544_60c4_11eb_8311_ac1f6bce5dd9row4_col7\" class=\"data row4 col7\" >2.06</td>\n",
       "                        <td id=\"T_2a2e1544_60c4_11eb_8311_ac1f6bce5dd9row4_col8\" class=\"data row4 col8\" >4.00</td>\n",
       "                        <td id=\"T_2a2e1544_60c4_11eb_8311_ac1f6bce5dd9row4_col9\" class=\"data row4 col9\" >277.00</td>\n",
       "                        <td id=\"T_2a2e1544_60c4_11eb_8311_ac1f6bce5dd9row4_col10\" class=\"data row4 col10\" >17.40</td>\n",
       "                        <td id=\"T_2a2e1544_60c4_11eb_8311_ac1f6bce5dd9row4_col11\" class=\"data row4 col11\" >375.24</td>\n",
       "                        <td id=\"T_2a2e1544_60c4_11eb_8311_ac1f6bce5dd9row4_col12\" class=\"data row4 col12\" >6.80</td>\n",
       "            </tr>\n",
       "            <tr>\n",
       "                        <th id=\"T_2a2e1544_60c4_11eb_8311_ac1f6bce5dd9level0_row5\" class=\"row_heading level0 row5\" >50%</th>\n",
       "                        <td id=\"T_2a2e1544_60c4_11eb_8311_ac1f6bce5dd9row5_col0\" class=\"data row5 col0\" >0.29</td>\n",
       "                        <td id=\"T_2a2e1544_60c4_11eb_8311_ac1f6bce5dd9row5_col1\" class=\"data row5 col1\" >0.00</td>\n",
       "                        <td id=\"T_2a2e1544_60c4_11eb_8311_ac1f6bce5dd9row5_col2\" class=\"data row5 col2\" >9.69</td>\n",
       "                        <td id=\"T_2a2e1544_60c4_11eb_8311_ac1f6bce5dd9row5_col3\" class=\"data row5 col3\" >0.00</td>\n",
       "                        <td id=\"T_2a2e1544_60c4_11eb_8311_ac1f6bce5dd9row5_col4\" class=\"data row5 col4\" >0.54</td>\n",
       "                        <td id=\"T_2a2e1544_60c4_11eb_8311_ac1f6bce5dd9row5_col5\" class=\"data row5 col5\" >6.21</td>\n",
       "                        <td id=\"T_2a2e1544_60c4_11eb_8311_ac1f6bce5dd9row5_col6\" class=\"data row5 col6\" >79.85</td>\n",
       "                        <td id=\"T_2a2e1544_60c4_11eb_8311_ac1f6bce5dd9row5_col7\" class=\"data row5 col7\" >3.08</td>\n",
       "                        <td id=\"T_2a2e1544_60c4_11eb_8311_ac1f6bce5dd9row5_col8\" class=\"data row5 col8\" >5.00</td>\n",
       "                        <td id=\"T_2a2e1544_60c4_11eb_8311_ac1f6bce5dd9row5_col9\" class=\"data row5 col9\" >330.00</td>\n",
       "                        <td id=\"T_2a2e1544_60c4_11eb_8311_ac1f6bce5dd9row5_col10\" class=\"data row5 col10\" >18.95</td>\n",
       "                        <td id=\"T_2a2e1544_60c4_11eb_8311_ac1f6bce5dd9row5_col11\" class=\"data row5 col11\" >391.60</td>\n",
       "                        <td id=\"T_2a2e1544_60c4_11eb_8311_ac1f6bce5dd9row5_col12\" class=\"data row5 col12\" >11.57</td>\n",
       "            </tr>\n",
       "            <tr>\n",
       "                        <th id=\"T_2a2e1544_60c4_11eb_8311_ac1f6bce5dd9level0_row6\" class=\"row_heading level0 row6\" >75%</th>\n",
       "                        <td id=\"T_2a2e1544_60c4_11eb_8311_ac1f6bce5dd9row6_col0\" class=\"data row6 col0\" >3.76</td>\n",
       "                        <td id=\"T_2a2e1544_60c4_11eb_8311_ac1f6bce5dd9row6_col1\" class=\"data row6 col1\" >9.38</td>\n",
       "                        <td id=\"T_2a2e1544_60c4_11eb_8311_ac1f6bce5dd9row6_col2\" class=\"data row6 col2\" >18.10</td>\n",
       "                        <td id=\"T_2a2e1544_60c4_11eb_8311_ac1f6bce5dd9row6_col3\" class=\"data row6 col3\" >0.00</td>\n",
       "                        <td id=\"T_2a2e1544_60c4_11eb_8311_ac1f6bce5dd9row6_col4\" class=\"data row6 col4\" >0.63</td>\n",
       "                        <td id=\"T_2a2e1544_60c4_11eb_8311_ac1f6bce5dd9row6_col5\" class=\"data row6 col5\" >6.64</td>\n",
       "                        <td id=\"T_2a2e1544_60c4_11eb_8311_ac1f6bce5dd9row6_col6\" class=\"data row6 col6\" >94.10</td>\n",
       "                        <td id=\"T_2a2e1544_60c4_11eb_8311_ac1f6bce5dd9row6_col7\" class=\"data row6 col7\" >4.81</td>\n",
       "                        <td id=\"T_2a2e1544_60c4_11eb_8311_ac1f6bce5dd9row6_col8\" class=\"data row6 col8\" >24.00</td>\n",
       "                        <td id=\"T_2a2e1544_60c4_11eb_8311_ac1f6bce5dd9row6_col9\" class=\"data row6 col9\" >666.00</td>\n",
       "                        <td id=\"T_2a2e1544_60c4_11eb_8311_ac1f6bce5dd9row6_col10\" class=\"data row6 col10\" >20.20</td>\n",
       "                        <td id=\"T_2a2e1544_60c4_11eb_8311_ac1f6bce5dd9row6_col11\" class=\"data row6 col11\" >396.12</td>\n",
       "                        <td id=\"T_2a2e1544_60c4_11eb_8311_ac1f6bce5dd9row6_col12\" class=\"data row6 col12\" >16.96</td>\n",
       "            </tr>\n",
       "            <tr>\n",
       "                        <th id=\"T_2a2e1544_60c4_11eb_8311_ac1f6bce5dd9level0_row7\" class=\"row_heading level0 row7\" >max</th>\n",
       "                        <td id=\"T_2a2e1544_60c4_11eb_8311_ac1f6bce5dd9row7_col0\" class=\"data row7 col0\" >88.98</td>\n",
       "                        <td id=\"T_2a2e1544_60c4_11eb_8311_ac1f6bce5dd9row7_col1\" class=\"data row7 col1\" >100.00</td>\n",
       "                        <td id=\"T_2a2e1544_60c4_11eb_8311_ac1f6bce5dd9row7_col2\" class=\"data row7 col2\" >27.74</td>\n",
       "                        <td id=\"T_2a2e1544_60c4_11eb_8311_ac1f6bce5dd9row7_col3\" class=\"data row7 col3\" >1.00</td>\n",
       "                        <td id=\"T_2a2e1544_60c4_11eb_8311_ac1f6bce5dd9row7_col4\" class=\"data row7 col4\" >0.87</td>\n",
       "                        <td id=\"T_2a2e1544_60c4_11eb_8311_ac1f6bce5dd9row7_col5\" class=\"data row7 col5\" >8.78</td>\n",
       "                        <td id=\"T_2a2e1544_60c4_11eb_8311_ac1f6bce5dd9row7_col6\" class=\"data row7 col6\" >100.00</td>\n",
       "                        <td id=\"T_2a2e1544_60c4_11eb_8311_ac1f6bce5dd9row7_col7\" class=\"data row7 col7\" >12.13</td>\n",
       "                        <td id=\"T_2a2e1544_60c4_11eb_8311_ac1f6bce5dd9row7_col8\" class=\"data row7 col8\" >24.00</td>\n",
       "                        <td id=\"T_2a2e1544_60c4_11eb_8311_ac1f6bce5dd9row7_col9\" class=\"data row7 col9\" >711.00</td>\n",
       "                        <td id=\"T_2a2e1544_60c4_11eb_8311_ac1f6bce5dd9row7_col10\" class=\"data row7 col10\" >21.20</td>\n",
       "                        <td id=\"T_2a2e1544_60c4_11eb_8311_ac1f6bce5dd9row7_col11\" class=\"data row7 col11\" >396.90</td>\n",
       "                        <td id=\"T_2a2e1544_60c4_11eb_8311_ac1f6bce5dd9row7_col12\" class=\"data row7 col12\" >36.98</td>\n",
       "            </tr>\n",
       "    </tbody></table>"
      ],
      "text/plain": [
       "<pandas.io.formats.style.Styler at 0x14b29ecc9a90>"
      ]
     },
     "metadata": {},
     "output_type": "display_data"
    },
    {
     "data": {
      "text/html": [
       "<style  type=\"text/css\" >\n",
       "</style><table id=\"T_2a35c276_60c4_11eb_8311_ac1f6bce5dd9\" ><caption>After normalization :</caption><thead>    <tr>        <th class=\"blank level0\" ></th>        <th class=\"col_heading level0 col0\" >crim</th>        <th class=\"col_heading level0 col1\" >zn</th>        <th class=\"col_heading level0 col2\" >indus</th>        <th class=\"col_heading level0 col3\" >chas</th>        <th class=\"col_heading level0 col4\" >nox</th>        <th class=\"col_heading level0 col5\" >rm</th>        <th class=\"col_heading level0 col6\" >age</th>        <th class=\"col_heading level0 col7\" >dis</th>        <th class=\"col_heading level0 col8\" >rad</th>        <th class=\"col_heading level0 col9\" >tax</th>        <th class=\"col_heading level0 col10\" >ptratio</th>        <th class=\"col_heading level0 col11\" >b</th>        <th class=\"col_heading level0 col12\" >lstat</th>    </tr></thead><tbody>\n",
       "                <tr>\n",
       "                        <th id=\"T_2a35c276_60c4_11eb_8311_ac1f6bce5dd9level0_row0\" class=\"row_heading level0 row0\" >count</th>\n",
       "                        <td id=\"T_2a35c276_60c4_11eb_8311_ac1f6bce5dd9row0_col0\" class=\"data row0 col0\" >354.00</td>\n",
       "                        <td id=\"T_2a35c276_60c4_11eb_8311_ac1f6bce5dd9row0_col1\" class=\"data row0 col1\" >354.00</td>\n",
       "                        <td id=\"T_2a35c276_60c4_11eb_8311_ac1f6bce5dd9row0_col2\" class=\"data row0 col2\" >354.00</td>\n",
       "                        <td id=\"T_2a35c276_60c4_11eb_8311_ac1f6bce5dd9row0_col3\" class=\"data row0 col3\" >354.00</td>\n",
       "                        <td id=\"T_2a35c276_60c4_11eb_8311_ac1f6bce5dd9row0_col4\" class=\"data row0 col4\" >354.00</td>\n",
       "                        <td id=\"T_2a35c276_60c4_11eb_8311_ac1f6bce5dd9row0_col5\" class=\"data row0 col5\" >354.00</td>\n",
       "                        <td id=\"T_2a35c276_60c4_11eb_8311_ac1f6bce5dd9row0_col6\" class=\"data row0 col6\" >354.00</td>\n",
       "                        <td id=\"T_2a35c276_60c4_11eb_8311_ac1f6bce5dd9row0_col7\" class=\"data row0 col7\" >354.00</td>\n",
       "                        <td id=\"T_2a35c276_60c4_11eb_8311_ac1f6bce5dd9row0_col8\" class=\"data row0 col8\" >354.00</td>\n",
       "                        <td id=\"T_2a35c276_60c4_11eb_8311_ac1f6bce5dd9row0_col9\" class=\"data row0 col9\" >354.00</td>\n",
       "                        <td id=\"T_2a35c276_60c4_11eb_8311_ac1f6bce5dd9row0_col10\" class=\"data row0 col10\" >354.00</td>\n",
       "                        <td id=\"T_2a35c276_60c4_11eb_8311_ac1f6bce5dd9row0_col11\" class=\"data row0 col11\" >354.00</td>\n",
       "                        <td id=\"T_2a35c276_60c4_11eb_8311_ac1f6bce5dd9row0_col12\" class=\"data row0 col12\" >354.00</td>\n",
       "            </tr>\n",
       "            <tr>\n",
       "                        <th id=\"T_2a35c276_60c4_11eb_8311_ac1f6bce5dd9level0_row1\" class=\"row_heading level0 row1\" >mean</th>\n",
       "                        <td id=\"T_2a35c276_60c4_11eb_8311_ac1f6bce5dd9row1_col0\" class=\"data row1 col0\" >0.00</td>\n",
       "                        <td id=\"T_2a35c276_60c4_11eb_8311_ac1f6bce5dd9row1_col1\" class=\"data row1 col1\" >0.00</td>\n",
       "                        <td id=\"T_2a35c276_60c4_11eb_8311_ac1f6bce5dd9row1_col2\" class=\"data row1 col2\" >0.00</td>\n",
       "                        <td id=\"T_2a35c276_60c4_11eb_8311_ac1f6bce5dd9row1_col3\" class=\"data row1 col3\" >0.00</td>\n",
       "                        <td id=\"T_2a35c276_60c4_11eb_8311_ac1f6bce5dd9row1_col4\" class=\"data row1 col4\" >-0.00</td>\n",
       "                        <td id=\"T_2a35c276_60c4_11eb_8311_ac1f6bce5dd9row1_col5\" class=\"data row1 col5\" >0.00</td>\n",
       "                        <td id=\"T_2a35c276_60c4_11eb_8311_ac1f6bce5dd9row1_col6\" class=\"data row1 col6\" >0.00</td>\n",
       "                        <td id=\"T_2a35c276_60c4_11eb_8311_ac1f6bce5dd9row1_col7\" class=\"data row1 col7\" >0.00</td>\n",
       "                        <td id=\"T_2a35c276_60c4_11eb_8311_ac1f6bce5dd9row1_col8\" class=\"data row1 col8\" >-0.00</td>\n",
       "                        <td id=\"T_2a35c276_60c4_11eb_8311_ac1f6bce5dd9row1_col9\" class=\"data row1 col9\" >-0.00</td>\n",
       "                        <td id=\"T_2a35c276_60c4_11eb_8311_ac1f6bce5dd9row1_col10\" class=\"data row1 col10\" >0.00</td>\n",
       "                        <td id=\"T_2a35c276_60c4_11eb_8311_ac1f6bce5dd9row1_col11\" class=\"data row1 col11\" >0.00</td>\n",
       "                        <td id=\"T_2a35c276_60c4_11eb_8311_ac1f6bce5dd9row1_col12\" class=\"data row1 col12\" >-0.00</td>\n",
       "            </tr>\n",
       "            <tr>\n",
       "                        <th id=\"T_2a35c276_60c4_11eb_8311_ac1f6bce5dd9level0_row2\" class=\"row_heading level0 row2\" >std</th>\n",
       "                        <td id=\"T_2a35c276_60c4_11eb_8311_ac1f6bce5dd9row2_col0\" class=\"data row2 col0\" >1.00</td>\n",
       "                        <td id=\"T_2a35c276_60c4_11eb_8311_ac1f6bce5dd9row2_col1\" class=\"data row2 col1\" >1.00</td>\n",
       "                        <td id=\"T_2a35c276_60c4_11eb_8311_ac1f6bce5dd9row2_col2\" class=\"data row2 col2\" >1.00</td>\n",
       "                        <td id=\"T_2a35c276_60c4_11eb_8311_ac1f6bce5dd9row2_col3\" class=\"data row2 col3\" >1.00</td>\n",
       "                        <td id=\"T_2a35c276_60c4_11eb_8311_ac1f6bce5dd9row2_col4\" class=\"data row2 col4\" >1.00</td>\n",
       "                        <td id=\"T_2a35c276_60c4_11eb_8311_ac1f6bce5dd9row2_col5\" class=\"data row2 col5\" >1.00</td>\n",
       "                        <td id=\"T_2a35c276_60c4_11eb_8311_ac1f6bce5dd9row2_col6\" class=\"data row2 col6\" >1.00</td>\n",
       "                        <td id=\"T_2a35c276_60c4_11eb_8311_ac1f6bce5dd9row2_col7\" class=\"data row2 col7\" >1.00</td>\n",
       "                        <td id=\"T_2a35c276_60c4_11eb_8311_ac1f6bce5dd9row2_col8\" class=\"data row2 col8\" >1.00</td>\n",
       "                        <td id=\"T_2a35c276_60c4_11eb_8311_ac1f6bce5dd9row2_col9\" class=\"data row2 col9\" >1.00</td>\n",
       "                        <td id=\"T_2a35c276_60c4_11eb_8311_ac1f6bce5dd9row2_col10\" class=\"data row2 col10\" >1.00</td>\n",
       "                        <td id=\"T_2a35c276_60c4_11eb_8311_ac1f6bce5dd9row2_col11\" class=\"data row2 col11\" >1.00</td>\n",
       "                        <td id=\"T_2a35c276_60c4_11eb_8311_ac1f6bce5dd9row2_col12\" class=\"data row2 col12\" >1.00</td>\n",
       "            </tr>\n",
       "            <tr>\n",
       "                        <th id=\"T_2a35c276_60c4_11eb_8311_ac1f6bce5dd9level0_row3\" class=\"row_heading level0 row3\" >min</th>\n",
       "                        <td id=\"T_2a35c276_60c4_11eb_8311_ac1f6bce5dd9row3_col0\" class=\"data row3 col0\" >-0.44</td>\n",
       "                        <td id=\"T_2a35c276_60c4_11eb_8311_ac1f6bce5dd9row3_col1\" class=\"data row3 col1\" >-0.47</td>\n",
       "                        <td id=\"T_2a35c276_60c4_11eb_8311_ac1f6bce5dd9row3_col2\" class=\"data row3 col2\" >-1.54</td>\n",
       "                        <td id=\"T_2a35c276_60c4_11eb_8311_ac1f6bce5dd9row3_col3\" class=\"data row3 col3\" >-0.29</td>\n",
       "                        <td id=\"T_2a35c276_60c4_11eb_8311_ac1f6bce5dd9row3_col4\" class=\"data row3 col4\" >-1.47</td>\n",
       "                        <td id=\"T_2a35c276_60c4_11eb_8311_ac1f6bce5dd9row3_col5\" class=\"data row3 col5\" >-3.74</td>\n",
       "                        <td id=\"T_2a35c276_60c4_11eb_8311_ac1f6bce5dd9row3_col6\" class=\"data row3 col6\" >-2.34</td>\n",
       "                        <td id=\"T_2a35c276_60c4_11eb_8311_ac1f6bce5dd9row3_col7\" class=\"data row3 col7\" >-1.25</td>\n",
       "                        <td id=\"T_2a35c276_60c4_11eb_8311_ac1f6bce5dd9row3_col8\" class=\"data row3 col8\" >-1.00</td>\n",
       "                        <td id=\"T_2a35c276_60c4_11eb_8311_ac1f6bce5dd9row3_col9\" class=\"data row3 col9\" >-1.30</td>\n",
       "                        <td id=\"T_2a35c276_60c4_11eb_8311_ac1f6bce5dd9row3_col10\" class=\"data row3 col10\" >-2.67</td>\n",
       "                        <td id=\"T_2a35c276_60c4_11eb_8311_ac1f6bce5dd9row3_col11\" class=\"data row3 col11\" >-4.02</td>\n",
       "                        <td id=\"T_2a35c276_60c4_11eb_8311_ac1f6bce5dd9row3_col12\" class=\"data row3 col12\" >-1.53</td>\n",
       "            </tr>\n",
       "            <tr>\n",
       "                        <th id=\"T_2a35c276_60c4_11eb_8311_ac1f6bce5dd9level0_row4\" class=\"row_heading level0 row4\" >25%</th>\n",
       "                        <td id=\"T_2a35c276_60c4_11eb_8311_ac1f6bce5dd9row4_col0\" class=\"data row4 col0\" >-0.43</td>\n",
       "                        <td id=\"T_2a35c276_60c4_11eb_8311_ac1f6bce5dd9row4_col1\" class=\"data row4 col1\" >-0.47</td>\n",
       "                        <td id=\"T_2a35c276_60c4_11eb_8311_ac1f6bce5dd9row4_col2\" class=\"data row4 col2\" >-0.86</td>\n",
       "                        <td id=\"T_2a35c276_60c4_11eb_8311_ac1f6bce5dd9row4_col3\" class=\"data row4 col3\" >-0.29</td>\n",
       "                        <td id=\"T_2a35c276_60c4_11eb_8311_ac1f6bce5dd9row4_col4\" class=\"data row4 col4\" >-0.85</td>\n",
       "                        <td id=\"T_2a35c276_60c4_11eb_8311_ac1f6bce5dd9row4_col5\" class=\"data row4 col5\" >-0.57</td>\n",
       "                        <td id=\"T_2a35c276_60c4_11eb_8311_ac1f6bce5dd9row4_col6\" class=\"data row4 col6\" >-0.80</td>\n",
       "                        <td id=\"T_2a35c276_60c4_11eb_8311_ac1f6bce5dd9row4_col7\" class=\"data row4 col7\" >-0.80</td>\n",
       "                        <td id=\"T_2a35c276_60c4_11eb_8311_ac1f6bce5dd9row4_col8\" class=\"data row4 col8\" >-0.65</td>\n",
       "                        <td id=\"T_2a35c276_60c4_11eb_8311_ac1f6bce5dd9row4_col9\" class=\"data row4 col9\" >-0.77</td>\n",
       "                        <td id=\"T_2a35c276_60c4_11eb_8311_ac1f6bce5dd9row4_col10\" class=\"data row4 col10\" >-0.48</td>\n",
       "                        <td id=\"T_2a35c276_60c4_11eb_8311_ac1f6bce5dd9row4_col11\" class=\"data row4 col11\" >0.19</td>\n",
       "                        <td id=\"T_2a35c276_60c4_11eb_8311_ac1f6bce5dd9row4_col12\" class=\"data row4 col12\" >-0.82</td>\n",
       "            </tr>\n",
       "            <tr>\n",
       "                        <th id=\"T_2a35c276_60c4_11eb_8311_ac1f6bce5dd9level0_row5\" class=\"row_heading level0 row5\" >50%</th>\n",
       "                        <td id=\"T_2a35c276_60c4_11eb_8311_ac1f6bce5dd9row5_col0\" class=\"data row5 col0\" >-0.41</td>\n",
       "                        <td id=\"T_2a35c276_60c4_11eb_8311_ac1f6bce5dd9row5_col1\" class=\"data row5 col1\" >-0.47</td>\n",
       "                        <td id=\"T_2a35c276_60c4_11eb_8311_ac1f6bce5dd9row5_col2\" class=\"data row5 col2\" >-0.22</td>\n",
       "                        <td id=\"T_2a35c276_60c4_11eb_8311_ac1f6bce5dd9row5_col3\" class=\"data row5 col3\" >-0.29</td>\n",
       "                        <td id=\"T_2a35c276_60c4_11eb_8311_ac1f6bce5dd9row5_col4\" class=\"data row5 col4\" >-0.17</td>\n",
       "                        <td id=\"T_2a35c276_60c4_11eb_8311_ac1f6bce5dd9row5_col5\" class=\"data row5 col5\" >-0.09</td>\n",
       "                        <td id=\"T_2a35c276_60c4_11eb_8311_ac1f6bce5dd9row5_col6\" class=\"data row5 col6\" >0.38</td>\n",
       "                        <td id=\"T_2a35c276_60c4_11eb_8311_ac1f6bce5dd9row5_col7\" class=\"data row5 col7\" >-0.30</td>\n",
       "                        <td id=\"T_2a35c276_60c4_11eb_8311_ac1f6bce5dd9row5_col8\" class=\"data row5 col8\" >-0.54</td>\n",
       "                        <td id=\"T_2a35c276_60c4_11eb_8311_ac1f6bce5dd9row5_col9\" class=\"data row5 col9\" >-0.46</td>\n",
       "                        <td id=\"T_2a35c276_60c4_11eb_8311_ac1f6bce5dd9row5_col10\" class=\"data row5 col10\" >0.23</td>\n",
       "                        <td id=\"T_2a35c276_60c4_11eb_8311_ac1f6bce5dd9row5_col11\" class=\"data row5 col11\" >0.38</td>\n",
       "                        <td id=\"T_2a35c276_60c4_11eb_8311_ac1f6bce5dd9row5_col12\" class=\"data row5 col12\" >-0.16</td>\n",
       "            </tr>\n",
       "            <tr>\n",
       "                        <th id=\"T_2a35c276_60c4_11eb_8311_ac1f6bce5dd9level0_row6\" class=\"row_heading level0 row6\" >75%</th>\n",
       "                        <td id=\"T_2a35c276_60c4_11eb_8311_ac1f6bce5dd9row6_col0\" class=\"data row6 col0\" >0.03</td>\n",
       "                        <td id=\"T_2a35c276_60c4_11eb_8311_ac1f6bce5dd9row6_col1\" class=\"data row6 col1\" >-0.05</td>\n",
       "                        <td id=\"T_2a35c276_60c4_11eb_8311_ac1f6bce5dd9row6_col2\" class=\"data row6 col2\" >1.03</td>\n",
       "                        <td id=\"T_2a35c276_60c4_11eb_8311_ac1f6bce5dd9row6_col3\" class=\"data row6 col3\" >-0.29</td>\n",
       "                        <td id=\"T_2a35c276_60c4_11eb_8311_ac1f6bce5dd9row6_col4\" class=\"data row6 col4\" >0.63</td>\n",
       "                        <td id=\"T_2a35c276_60c4_11eb_8311_ac1f6bce5dd9row6_col5\" class=\"data row6 col5\" >0.51</td>\n",
       "                        <td id=\"T_2a35c276_60c4_11eb_8311_ac1f6bce5dd9row6_col6\" class=\"data row6 col6\" >0.88</td>\n",
       "                        <td id=\"T_2a35c276_60c4_11eb_8311_ac1f6bce5dd9row6_col7\" class=\"data row6 col7\" >0.54</td>\n",
       "                        <td id=\"T_2a35c276_60c4_11eb_8311_ac1f6bce5dd9row6_col8\" class=\"data row6 col8\" >1.63</td>\n",
       "                        <td id=\"T_2a35c276_60c4_11eb_8311_ac1f6bce5dd9row6_col9\" class=\"data row6 col9\" >1.52</td>\n",
       "                        <td id=\"T_2a35c276_60c4_11eb_8311_ac1f6bce5dd9row6_col10\" class=\"data row6 col10\" >0.81</td>\n",
       "                        <td id=\"T_2a35c276_60c4_11eb_8311_ac1f6bce5dd9row6_col11\" class=\"data row6 col11\" >0.43</td>\n",
       "                        <td id=\"T_2a35c276_60c4_11eb_8311_ac1f6bce5dd9row6_col12\" class=\"data row6 col12\" >0.59</td>\n",
       "            </tr>\n",
       "            <tr>\n",
       "                        <th id=\"T_2a35c276_60c4_11eb_8311_ac1f6bce5dd9level0_row7\" class=\"row_heading level0 row7\" >max</th>\n",
       "                        <td id=\"T_2a35c276_60c4_11eb_8311_ac1f6bce5dd9row7_col0\" class=\"data row7 col0\" >10.70</td>\n",
       "                        <td id=\"T_2a35c276_60c4_11eb_8311_ac1f6bce5dd9row7_col1\" class=\"data row7 col1\" >4.03</td>\n",
       "                        <td id=\"T_2a35c276_60c4_11eb_8311_ac1f6bce5dd9row7_col2\" class=\"data row7 col2\" >2.45</td>\n",
       "                        <td id=\"T_2a35c276_60c4_11eb_8311_ac1f6bce5dd9row7_col3\" class=\"data row7 col3\" >3.48</td>\n",
       "                        <td id=\"T_2a35c276_60c4_11eb_8311_ac1f6bce5dd9row7_col4\" class=\"data row7 col4\" >2.74</td>\n",
       "                        <td id=\"T_2a35c276_60c4_11eb_8311_ac1f6bce5dd9row7_col5\" class=\"data row7 col5\" >3.46</td>\n",
       "                        <td id=\"T_2a35c276_60c4_11eb_8311_ac1f6bce5dd9row7_col6\" class=\"data row7 col6\" >1.09</td>\n",
       "                        <td id=\"T_2a35c276_60c4_11eb_8311_ac1f6bce5dd9row7_col7\" class=\"data row7 col7\" >4.13</td>\n",
       "                        <td id=\"T_2a35c276_60c4_11eb_8311_ac1f6bce5dd9row7_col8\" class=\"data row7 col8\" >1.63</td>\n",
       "                        <td id=\"T_2a35c276_60c4_11eb_8311_ac1f6bce5dd9row7_col9\" class=\"data row7 col9\" >1.78</td>\n",
       "                        <td id=\"T_2a35c276_60c4_11eb_8311_ac1f6bce5dd9row7_col10\" class=\"data row7 col10\" >1.26</td>\n",
       "                        <td id=\"T_2a35c276_60c4_11eb_8311_ac1f6bce5dd9row7_col11\" class=\"data row7 col11\" >0.44</td>\n",
       "                        <td id=\"T_2a35c276_60c4_11eb_8311_ac1f6bce5dd9row7_col12\" class=\"data row7 col12\" >3.38</td>\n",
       "            </tr>\n",
       "    </tbody></table>"
      ],
      "text/plain": [
       "<pandas.io.formats.style.Styler at 0x14b29e93ed10>"
      ]
     },
     "metadata": {},
     "output_type": "display_data"
    }
   ],
   "source": [
    "display(x_train.describe().style.format(\"{0:.2f}\").set_caption(\"Before normalization :\"))\n",
    "\n",
    "mean = x_train.mean()\n",
    "std  = x_train.std()\n",
    "x_train = (x_train - mean) / std\n",
    "x_test  = (x_test  - mean) / std\n",
    "\n",
    "display(x_train.describe().style.format(\"{0:.2f}\").set_caption(\"After normalization :\"))\n",
    "\n",
    "x_train, y_train = np.array(x_train), np.array(y_train)\n",
    "x_test,  y_test  = np.array(x_test),  np.array(y_test)\n"
   ]
  },
  {
   "cell_type": "markdown",
   "metadata": {},
   "source": [
    "## Step 4 - Build a model\n",
    "More informations about : \n",
    " - [Optimizer](https://www.tensorflow.org/api_docs/python/tf/keras/optimizers)\n",
    " - [Activation](https://www.tensorflow.org/api_docs/python/tf/keras/activations)\n",
    " - [Loss](https://www.tensorflow.org/api_docs/python/tf/keras/losses)\n",
    " - [Metrics](https://www.tensorflow.org/api_docs/python/tf/keras/metrics)"
   ]
  },
  {
   "cell_type": "code",
   "execution_count": 6,
   "metadata": {},
   "outputs": [],
   "source": [
    "  def get_model_v1(shape):\n",
    "    \n",
    "    model = keras.models.Sequential()\n",
    "    model.add(keras.layers.Input(shape, name=\"InputLayer\"))\n",
    "    model.add(keras.layers.Dense(64, activation='relu', name='Dense_n1'))\n",
    "    model.add(keras.layers.Dense(64, activation='relu', name='Dense_n2'))\n",
    "    model.add(keras.layers.Dense(1, name='Output'))\n",
    "    \n",
    "    model.compile(optimizer = 'rmsprop',\n",
    "                  loss      = 'mse',\n",
    "                  metrics   = ['mae', 'mse'] )\n",
    "    return model"
   ]
  },
  {
   "cell_type": "markdown",
   "metadata": {},
   "source": [
    "## 5 - Train the model\n",
    "### 5.1 - Get it"
   ]
  },
  {
   "cell_type": "code",
   "execution_count": 7,
   "metadata": {},
   "outputs": [
    {
     "name": "stdout",
     "output_type": "stream",
     "text": [
      "Model: \"sequential\"\n",
      "_________________________________________________________________\n",
      "Layer (type)                 Output Shape              Param #   \n",
      "=================================================================\n",
      "Dense_n1 (Dense)             (None, 64)                896       \n",
      "_________________________________________________________________\n",
      "Dense_n2 (Dense)             (None, 64)                4160      \n",
      "_________________________________________________________________\n",
      "Output (Dense)               (None, 1)                 65        \n",
      "=================================================================\n",
      "Total params: 5,121\n",
      "Trainable params: 5,121\n",
      "Non-trainable params: 0\n",
      "_________________________________________________________________\n"
     ]
    }
   ],
   "source": [
    "model=get_model_v1( (13,) )\n",
    "\n",
    "model.summary()\n",
    "# img=keras.utils.plot_model( model, to_file='./run/model.png', show_shapes=True, show_layer_names=True, dpi=96)\n",
    "# display(img)"
   ]
  },
  {
   "cell_type": "markdown",
   "metadata": {},
   "source": [
    "### 5.2 - Add callback"
   ]
  },
  {
   "cell_type": "code",
   "execution_count": 8,
   "metadata": {},
   "outputs": [],
   "source": [
    "os.makedirs('./run/models',   mode=0o750, exist_ok=True)\n",
    "save_dir = \"./run/models/best_model.h5\"\n",
    "\n",
    "savemodel_callback = tf.keras.callbacks.ModelCheckpoint(filepath=save_dir, verbose=0, save_best_only=True)"
   ]
  },
  {
   "cell_type": "markdown",
   "metadata": {},
   "source": [
    "### 5.3 - Train it"
   ]
  },
  {
   "cell_type": "code",
   "execution_count": 9,
   "metadata": {},
   "outputs": [
    {
     "name": "stdout",
     "output_type": "stream",
     "text": [
      "Epoch 1/100\n"
     ]
    },
    {
     "name": "stdout",
     "output_type": "stream",
     "text": [
      "\r",
      " 1/36 [..............................] - ETA: 0s - loss: 650.2097 - mae: 24.3200 - mse: 650.2097"
     ]
    },
    {
     "name": "stdout",
     "output_type": "stream",
     "text": [
      "\b\b\b\b\b\b\b\b\b\b\b\b\b\b\b\b\b\b\b\b\b\b\b\b\b\b\b\b\b\b\b\b\b\b\b\b\b\b\b\b\b\b\b\b\b\b\b\b\b\b\b\b\b\b\b\b\b\b\b\b\b\b\b\b\b\b\b\b\b\b\b\b\b\b\b\b\b\b\b\b\b\b\b\b\b\b\b\b\b\b\b\b\b\b\b\b\r",
      "31/36 [========================>.....] - ETA: 0s - loss: 506.4228 - mae: 20.6021 - mse: 506.4228"
     ]
    },
    {
     "name": "stdout",
     "output_type": "stream",
     "text": [
      "\b\b\b\b\b\b\b\b\b\b\b\b\b\b\b\b\b\b\b\b\b\b\b\b\b\b\b\b\b\b\b\b\b\b\b\b\b\b\b\b\b\b\b\b\b\b\b\b\b\b\b\b\b\b\b\b\b\b\b\b\b\b\b\b\b\b\b\b\b\b\b\b\b\b\b\b\b\b\b\b\b\b\b\b\b\b\b\b\b\b\b\b\b\b\b\b\r",
      "36/36 [==============================] - 0s 11ms/step - loss: 487.8593 - mae: 20.1665 - mse: 487.8593 - val_loss: 371.3030 - val_mae: 17.1120 - val_mse: 371.3030\n"
     ]
    },
    {
     "name": "stdout",
     "output_type": "stream",
     "text": [
      "Epoch 2/100\n",
      "\r",
      " 1/36 [..............................] - ETA: 0s - loss: 457.1164 - mae: 19.3226 - mse: 457.1164"
     ]
    },
    {
     "name": "stdout",
     "output_type": "stream",
     "text": [
      "\b\b\b\b\b\b\b\b\b\b\b\b\b\b\b\b\b\b\b\b\b\b\b\b\b\b\b\b\b\b\b\b\b\b\b\b\b\b\b\b\b\b\b\b\b\b\b\b\b\b\b\b\b\b\b\b\b\b\b\b\b\b\b\b\b\b\b\b\b\b\b\b\b\b\b\b\b\b\b\b\b\b\b\b\b\b\b\b\b\b\b\b\b\b\b\b\r",
      "32/36 [=========================>....] - ETA: 0s - loss: 272.2232 - mae: 14.5274 - mse: 272.2232"
     ]
    },
    {
     "name": "stdout",
     "output_type": "stream",
     "text": [
      "\b\b\b\b\b\b\b\b\b\b\b\b\b\b\b\b\b\b\b\b\b\b\b\b\b\b\b\b\b\b\b\b\b\b\b\b\b\b\b\b\b\b\b\b\b\b\b\b\b\b\b\b\b\b\b\b\b\b\b\b\b\b\b\b\b\b\b\b\b\b\b\b\b\b\b\b\b\b\b\b\b\b\b\b\b\b\b\b\b\b\b\b\b\b\b\b\r",
      "36/36 [==============================] - 0s 3ms/step - loss: 263.9458 - mae: 14.2286 - mse: 263.9458 - val_loss: 153.6606 - val_mae: 10.0381 - val_mse: 153.6606\n"
     ]
    },
    {
     "name": "stdout",
     "output_type": "stream",
     "text": [
      "Epoch 3/100\n",
      "\r",
      " 1/36 [..............................] - ETA: 0s - loss: 86.4851 - mae: 7.0558 - mse: 86.4851"
     ]
    },
    {
     "name": "stdout",
     "output_type": "stream",
     "text": [
      "\b\b\b\b\b\b\b\b\b\b\b\b\b\b\b\b\b\b\b\b\b\b\b\b\b\b\b\b\b\b\b\b\b\b\b\b\b\b\b\b\b\b\b\b\b\b\b\b\b\b\b\b\b\b\b\b\b\b\b\b\b\b\b\b\b\b\b\b\b\b\b\b\b\b\b\b\b\b\b\b\b\b\b\b\b\b\b\b\b\b\b\b\b\r",
      "32/36 [=========================>....] - ETA: 0s - loss: 90.6959 - mae: 7.5660 - mse: 90.6959"
     ]
    },
    {
     "name": "stdout",
     "output_type": "stream",
     "text": [
      "\b\b\b\b\b\b\b\b\b\b\b\b\b\b\b\b\b\b\b\b\b\b\b\b\b\b\b\b\b\b\b\b\b\b\b\b\b\b\b\b\b\b\b\b\b\b\b\b\b\b\b\b\b\b\b\b\b\b\b\b\b\b\b\b\b\b\b\b\b\b\b\b\b\b\b\b\b\b\b\b\b\b\b\b\b\b\b\b\b\b\b\b\b\r",
      "36/36 [==============================] - 0s 3ms/step - loss: 92.9459 - mae: 7.5311 - mse: 92.9459 - val_loss: 67.3085 - val_mae: 5.9670 - val_mse: 67.3085\n"
     ]
    },
    {
     "name": "stdout",
     "output_type": "stream",
     "text": [
      "Epoch 4/100\n",
      "\r",
      " 1/36 [..............................] - ETA: 0s - loss: 31.7458 - mae: 4.7901 - mse: 31.7458"
     ]
    },
    {
     "name": "stdout",
     "output_type": "stream",
     "text": [
      "\b\b\b\b\b\b\b\b\b\b\b\b\b\b\b\b\b\b\b\b\b\b\b\b\b\b\b\b\b\b\b\b\b\b\b\b\b\b\b\b\b\b\b\b\b\b\b\b\b\b\b\b\b\b\b\b\b\b\b\b\b\b\b\b\b\b\b\b\b\b\b\b\b\b\b\b\b\b\b\b\b\b\b\b\b\b\b\b\b\b\b\b\b\r",
      "32/36 [=========================>....] - ETA: 0s - loss: 42.9880 - mae: 4.7321 - mse: 42.9880"
     ]
    },
    {
     "name": "stdout",
     "output_type": "stream",
     "text": [
      "\b\b\b\b\b\b\b\b\b\b\b\b\b\b\b\b\b\b\b\b\b\b\b\b\b\b\b\b\b\b\b\b\b\b\b\b\b\b\b\b\b\b\b\b\b\b\b\b\b\b\b\b\b\b\b\b\b\b\b\b\b\b\b\b\b\b\b\b\b\b\b\b\b\b\b\b\b\b\b\b\b\b\b\b\b\b\b\b\b\b\b\b\b\r",
      "36/36 [==============================] - 0s 3ms/step - loss: 42.3191 - mae: 4.7278 - mse: 42.3191 - val_loss: 42.5559 - val_mae: 4.6381 - val_mse: 42.5559\n"
     ]
    },
    {
     "name": "stdout",
     "output_type": "stream",
     "text": [
      "Epoch 5/100\n",
      "\r",
      " 1/36 [..............................] - ETA: 0s - loss: 11.0846 - mae: 2.5174 - mse: 11.0846"
     ]
    },
    {
     "name": "stdout",
     "output_type": "stream",
     "text": [
      "\b\b\b\b\b\b\b\b\b\b\b\b\b\b\b\b\b\b\b\b\b\b\b\b\b\b\b\b\b\b\b\b\b\b\b\b\b\b\b\b\b\b\b\b\b\b\b\b\b\b\b\b\b\b\b\b\b\b\b\b\b\b\b\b\b\b\b\b\b\b\b\b\b\b\b\b\b\b\b\b\b\b\b\b\b\b\b\b\b\b\b\b\b\r",
      "32/36 [=========================>....] - ETA: 0s - loss: 31.0288 - mae: 3.9733 - mse: 31.0288"
     ]
    },
    {
     "name": "stdout",
     "output_type": "stream",
     "text": [
      "\b\b\b\b\b\b\b\b\b\b\b\b\b\b\b\b\b\b\b\b\b\b\b\b\b\b\b\b\b\b\b\b\b\b\b\b\b\b\b\b\b\b\b\b\b\b\b\b\b\b\b\b\b\b\b\b\b\b\b\b\b\b\b\b\b\b\b\b\b\b\b\b\b\b\b\b\b\b\b\b\b\b\b\b\b\b\b\b\b\b\b\b\b\r",
      "36/36 [==============================] - 0s 3ms/step - loss: 29.2148 - mae: 3.8585 - mse: 29.2148 - val_loss: 33.4394 - val_mae: 4.0292 - val_mse: 33.4394\n"
     ]
    },
    {
     "name": "stdout",
     "output_type": "stream",
     "text": [
      "Epoch 6/100\n",
      "\r",
      " 1/36 [..............................] - ETA: 0s - loss: 8.9692 - mae: 2.6639 - mse: 8.9692"
     ]
    },
    {
     "name": "stdout",
     "output_type": "stream",
     "text": [
      "\b\b\b\b\b\b\b\b\b\b\b\b\b\b\b\b\b\b\b\b\b\b\b\b\b\b\b\b\b\b\b\b\b\b\b\b\b\b\b\b\b\b\b\b\b\b\b\b\b\b\b\b\b\b\b\b\b\b\b\b\b\b\b\b\b\b\b\b\b\b\b\b\b\b\b\b\b\b\b\b\b\b\b\b\b\b\b\b\b\b\b\r",
      "33/36 [==========================>...] - ETA: 0s - loss: 23.7496 - mae: 3.4442 - mse: 23.7496"
     ]
    },
    {
     "name": "stdout",
     "output_type": "stream",
     "text": [
      "\b\b\b\b\b\b\b\b\b\b\b\b\b\b\b\b\b\b\b\b\b\b\b\b\b\b\b\b\b\b\b\b\b\b\b\b\b\b\b\b\b\b\b\b\b\b\b\b\b\b\b\b\b\b\b\b\b\b\b\b\b\b\b\b\b\b\b\b\b\b\b\b\b\b\b\b\b\b\b\b\b\b\b\b\b\b\b\b\b\b\b\b\b\r",
      "36/36 [==============================] - 0s 3ms/step - loss: 24.0123 - mae: 3.4826 - mse: 24.0123 - val_loss: 26.6059 - val_mae: 3.5880 - val_mse: 26.6059\n"
     ]
    },
    {
     "name": "stdout",
     "output_type": "stream",
     "text": [
      "Epoch 7/100\n",
      "\r",
      " 1/36 [..............................] - ETA: 0s - loss: 75.0032 - mae: 4.4771 - mse: 75.0032"
     ]
    },
    {
     "name": "stdout",
     "output_type": "stream",
     "text": [
      "\b\b\b\b\b\b\b\b\b\b\b\b\b\b\b\b\b\b\b\b\b\b\b\b\b\b\b\b\b\b\b\b\b\b\b\b\b\b\b\b\b\b\b\b\b\b\b\b\b\b\b\b\b\b\b\b\b\b\b\b\b\b\b\b\b\b\b\b\b\b\b\b\b\b\b\b\b\b\b\b\b\b\b\b\b\b\b\b\b\b\b\b\b\r",
      "32/36 [=========================>....] - ETA: 0s - loss: 20.6871 - mae: 3.1766 - mse: 20.6871"
     ]
    },
    {
     "name": "stdout",
     "output_type": "stream",
     "text": [
      "\b\b\b\b\b\b\b\b\b\b\b\b\b\b\b\b\b\b\b\b\b\b\b\b\b\b\b\b\b\b\b\b\b\b\b\b\b\b\b\b\b\b\b\b\b\b\b\b\b\b\b\b\b\b\b\b\b\b\b\b\b\b\b\b\b\b\b\b\b\b\b\b\b\b\b\b\b\b\b\b\b\b\b\b\b\b\b\b\b\b\b\b\b\r",
      "36/36 [==============================] - 0s 3ms/step - loss: 20.7966 - mae: 3.2107 - mse: 20.7966 - val_loss: 25.0494 - val_mae: 3.4403 - val_mse: 25.0494\n"
     ]
    },
    {
     "name": "stdout",
     "output_type": "stream",
     "text": [
      "Epoch 8/100\n",
      "\r",
      " 1/36 [..............................] - ETA: 0s - loss: 16.9560 - mae: 2.9498 - mse: 16.9560"
     ]
    },
    {
     "name": "stdout",
     "output_type": "stream",
     "text": [
      "\b\b\b\b\b\b\b\b\b\b\b\b\b\b\b\b\b\b\b\b\b\b\b\b\b\b\b\b\b\b\b\b\b\b\b\b\b\b\b\b\b\b\b\b\b\b\b\b\b\b\b\b\b\b\b\b\b\b\b\b\b\b\b\b\b\b\b\b\b\b\b\b\b\b\b\b\b\b\b\b\b\b\b\b\b\b\b\b\b\b\b\b\b\r",
      "32/36 [=========================>....] - ETA: 0s - loss: 19.9091 - mae: 3.0904 - mse: 19.9091"
     ]
    },
    {
     "name": "stdout",
     "output_type": "stream",
     "text": [
      "\b\b\b\b\b\b\b\b\b\b\b\b\b\b\b\b\b\b\b\b\b\b\b\b\b\b\b\b\b\b\b\b\b\b\b\b\b\b\b\b\b\b\b\b\b\b\b\b\b\b\b\b\b\b\b\b\b\b\b\b\b\b\b\b\b\b\b\b\b\b\b\b\b\b\b\b\b\b\b\b\b\b\b\b\b\b\b\b\b\b\b\b\b\r",
      "36/36 [==============================] - 0s 3ms/step - loss: 19.3268 - mae: 3.0746 - mse: 19.3268 - val_loss: 22.6187 - val_mae: 3.3072 - val_mse: 22.6187\n"
     ]
    },
    {
     "name": "stdout",
     "output_type": "stream",
     "text": [
      "Epoch 9/100\n",
      "\r",
      " 1/36 [..............................] - ETA: 0s - loss: 79.2165 - mae: 5.1093 - mse: 79.2165"
     ]
    },
    {
     "name": "stdout",
     "output_type": "stream",
     "text": [
      "\b\b\b\b\b\b\b\b\b\b\b\b\b\b\b\b\b\b\b\b\b\b\b\b\b\b\b\b\b\b\b\b\b\b\b\b\b\b\b\b\b\b\b\b\b\b\b\b\b\b\b\b\b\b\b\b\b\b\b\b\b\b\b\b\b\b\b\b\b\b\b\b\b\b\b\b\b\b\b\b\b\b\b\b\b\b\b\b\b\b\b\b\b\r",
      "33/36 [==========================>...] - ETA: 0s - loss: 17.6263 - mae: 2.9114 - mse: 17.6263"
     ]
    },
    {
     "name": "stdout",
     "output_type": "stream",
     "text": [
      "\b\b\b\b\b\b\b\b\b\b\b\b\b\b\b\b\b\b\b\b\b\b\b\b\b\b\b\b\b\b\b\b\b\b\b\b\b\b\b\b\b\b\b\b\b\b\b\b\b\b\b\b\b\b\b\b\b\b\b\b\b\b\b\b\b\b\b\b\b\b\b\b\b\b\b\b\b\b\b\b\b\b\b\b\b\b\b\b\b\b\b\b\b\r",
      "36/36 [==============================] - 0s 3ms/step - loss: 17.5231 - mae: 2.9108 - mse: 17.5231 - val_loss: 19.9930 - val_mae: 3.1727 - val_mse: 19.9930\n"
     ]
    },
    {
     "name": "stdout",
     "output_type": "stream",
     "text": [
      "Epoch 10/100\n",
      "\r",
      " 1/36 [..............................] - ETA: 0s - loss: 18.8025 - mae: 3.6267 - mse: 18.8025"
     ]
    },
    {
     "name": "stdout",
     "output_type": "stream",
     "text": [
      "\b\b\b\b\b\b\b\b\b\b\b\b\b\b\b\b\b\b\b\b\b\b\b\b\b\b\b\b\b\b\b\b\b\b\b\b\b\b\b\b\b\b\b\b\b\b\b\b\b\b\b\b\b\b\b\b\b\b\b\b\b\b\b\b\b\b\b\b\b\b\b\b\b\b\b\b\b\b\b\b\b\b\b\b\b\b\b\b\b\b\b\b\b\r",
      "32/36 [=========================>....] - ETA: 0s - loss: 16.7122 - mae: 2.8045 - mse: 16.7122"
     ]
    },
    {
     "name": "stdout",
     "output_type": "stream",
     "text": [
      "\b\b\b\b\b\b\b\b\b\b\b\b\b\b\b\b\b\b\b\b\b\b\b\b\b\b\b\b\b\b\b\b\b\b\b\b\b\b\b\b\b\b\b\b\b\b\b\b\b\b\b\b\b\b\b\b\b\b\b\b\b\b\b\b\b\b\b\b\b\b\b\b\b\b\b\b\b\b\b\b\b\b\b\b\b\b\b\b\b\b\b\b\b\r",
      "36/36 [==============================] - 0s 3ms/step - loss: 16.0697 - mae: 2.7698 - mse: 16.0697 - val_loss: 18.9307 - val_mae: 3.1631 - val_mse: 18.9307\n"
     ]
    },
    {
     "name": "stdout",
     "output_type": "stream",
     "text": [
      "Epoch 11/100\n",
      "\r",
      " 1/36 [..............................] - ETA: 0s - loss: 11.8221 - mae: 2.8684 - mse: 11.8221"
     ]
    },
    {
     "name": "stdout",
     "output_type": "stream",
     "text": [
      "\b\b\b\b\b\b\b\b\b\b\b\b\b\b\b\b\b\b\b\b\b\b\b\b\b\b\b\b\b\b\b\b\b\b\b\b\b\b\b\b\b\b\b\b\b\b\b\b\b\b\b\b\b\b\b\b\b\b\b\b\b\b\b\b\b\b\b\b\b\b\b\b\b\b\b\b\b\b\b\b\b\b\b\b\b\b\b\b\b\b\b\b\b\r",
      "33/36 [==========================>...] - ETA: 0s - loss: 15.2447 - mae: 2.6681 - mse: 15.2447"
     ]
    },
    {
     "name": "stdout",
     "output_type": "stream",
     "text": [
      "\b\b\b\b\b\b\b\b\b\b\b\b\b\b\b\b\b\b\b\b\b\b\b\b\b\b\b\b\b\b\b\b\b\b\b\b\b\b\b\b\b\b\b\b\b\b\b\b\b\b\b\b\b\b\b\b\b\b\b\b\b\b\b\b\b\b\b\b\b\b\b\b\b\b\b\b\b\b\b\b\b\b\b\b\b\b\b\b\b\b\b\b\b\r",
      "36/36 [==============================] - 0s 3ms/step - loss: 14.9827 - mae: 2.6761 - mse: 14.9827 - val_loss: 18.3378 - val_mae: 3.0912 - val_mse: 18.3378\n"
     ]
    },
    {
     "name": "stdout",
     "output_type": "stream",
     "text": [
      "Epoch 12/100\n",
      "\r",
      " 1/36 [..............................] - ETA: 0s - loss: 1.6263 - mae: 1.0248 - mse: 1.6263"
     ]
    },
    {
     "name": "stdout",
     "output_type": "stream",
     "text": [
      "\b\b\b\b\b\b\b\b\b\b\b\b\b\b\b\b\b\b\b\b\b\b\b\b\b\b\b\b\b\b\b\b\b\b\b\b\b\b\b\b\b\b\b\b\b\b\b\b\b\b\b\b\b\b\b\b\b\b\b\b\b\b\b\b\b\b\b\b\b\b\b\b\b\b\b\b\b\b\b\b\b\b\b\b\b\b\b\b\b\b\b\r",
      "32/36 [=========================>....] - ETA: 0s - loss: 13.4981 - mae: 2.5773 - mse: 13.4981"
     ]
    },
    {
     "name": "stdout",
     "output_type": "stream",
     "text": [
      "\b\b\b\b\b\b\b\b\b\b\b\b\b\b\b\b\b\b\b\b\b\b\b\b\b\b\b\b\b\b\b\b\b\b\b\b\b\b\b\b\b\b\b\b\b\b\b\b\b\b\b\b\b\b\b\b\b\b\b\b\b\b\b\b\b\b\b\b\b\b\b\b\b\b\b\b\b\b\b\b\b\b\b\b\b\b\b\b\b\b\b\b\b\r",
      "36/36 [==============================] - 0s 4ms/step - loss: 14.4603 - mae: 2.6062 - mse: 14.4603 - val_loss: 17.9904 - val_mae: 3.0344 - val_mse: 17.9904\n"
     ]
    },
    {
     "name": "stdout",
     "output_type": "stream",
     "text": [
      "Epoch 13/100\n",
      "\r",
      " 1/36 [..............................] - ETA: 0s - loss: 6.1783 - mae: 1.9720 - mse: 6.1783"
     ]
    },
    {
     "name": "stdout",
     "output_type": "stream",
     "text": [
      "\b\b\b\b\b\b\b\b\b\b\b\b\b\b\b\b\b\b\b\b\b\b\b\b\b\b\b\b\b\b\b\b\b\b\b\b\b\b\b\b\b\b\b\b\b\b\b\b\b\b\b\b\b\b\b\b\b\b\b\b\b\b\b\b\b\b\b\b\b\b\b\b\b\b\b\b\b\b\b\b\b\b\b\b\b\b\b\b\b\b\b\r",
      "33/36 [==========================>...] - ETA: 0s - loss: 13.9801 - mae: 2.5305 - mse: 13.9801"
     ]
    },
    {
     "name": "stdout",
     "output_type": "stream",
     "text": [
      "\b\b\b\b\b\b\b\b\b\b\b\b\b\b\b\b\b\b\b\b\b\b\b\b\b\b\b\b\b\b\b\b\b\b\b\b\b\b\b\b\b\b\b\b\b\b\b\b\b\b\b\b\b\b\b\b\b\b\b\b\b\b\b\b\b\b\b\b\b\b\b\b\b\b\b\b\b\b\b\b\b\b\b\b\b\b\b\b\b\b\b\b\b\r",
      "36/36 [==============================] - 0s 3ms/step - loss: 13.5569 - mae: 2.5030 - mse: 13.5569 - val_loss: 16.9653 - val_mae: 3.0156 - val_mse: 16.9653\n"
     ]
    },
    {
     "name": "stdout",
     "output_type": "stream",
     "text": [
      "Epoch 14/100\n",
      "\r",
      " 1/36 [..............................] - ETA: 0s - loss: 5.5907 - mae: 1.7901 - mse: 5.5907"
     ]
    },
    {
     "name": "stdout",
     "output_type": "stream",
     "text": [
      "\b\b\b\b\b\b\b\b\b\b\b\b\b\b\b\b\b\b\b\b\b\b\b\b\b\b\b\b\b\b\b\b\b\b\b\b\b\b\b\b\b\b\b\b\b\b\b\b\b\b\b\b\b\b\b\b\b\b\b\b\b\b\b\b\b\b\b\b\b\b\b\b\b\b\b\b\b\b\b\b\b\b\b\b\b\b\b\b\b\b\b\r",
      "32/36 [=========================>....] - ETA: 0s - loss: 12.4185 - mae: 2.4524 - mse: 12.4185"
     ]
    },
    {
     "name": "stdout",
     "output_type": "stream",
     "text": [
      "\b\b\b\b\b\b\b\b\b\b\b\b\b\b\b\b\b\b\b\b\b\b\b\b\b\b\b\b\b\b\b\b\b\b\b\b\b\b\b\b\b\b\b\b\b\b\b\b\b\b\b\b\b\b\b\b\b\b\b\b\b\b\b\b\b\b\b\b\b\b\b\b\b\b\b\b\b\b\b\b\b\b\b\b\b\b\b\b\b\b\b\b\b\r",
      "36/36 [==============================] - 0s 3ms/step - loss: 13.2135 - mae: 2.4640 - mse: 13.2135 - val_loss: 16.6383 - val_mae: 2.9509 - val_mse: 16.6383\n"
     ]
    },
    {
     "name": "stdout",
     "output_type": "stream",
     "text": [
      "Epoch 15/100\n",
      "\r",
      " 1/36 [..............................] - ETA: 0s - loss: 5.5526 - mae: 1.9723 - mse: 5.5526"
     ]
    },
    {
     "name": "stdout",
     "output_type": "stream",
     "text": [
      "\b\b\b\b\b\b\b\b\b\b\b\b\b\b\b\b\b\b\b\b\b\b\b\b\b\b\b\b\b\b\b\b\b\b\b\b\b\b\b\b\b\b\b\b\b\b\b\b\b\b\b\b\b\b\b\b\b\b\b\b\b\b\b\b\b\b\b\b\b\b\b\b\b\b\b\b\b\b\b\b\b\b\b\b\b\b\b\b\b\b\b\r",
      "33/36 [==========================>...] - ETA: 0s - loss: 13.0692 - mae: 2.4392 - mse: 13.0692"
     ]
    },
    {
     "name": "stdout",
     "output_type": "stream",
     "text": [
      "\b\b\b\b\b\b\b\b\b\b\b\b\b\b\b\b\b\b\b\b\b\b\b\b\b\b\b\b\b\b\b\b\b\b\b\b\b\b\b\b\b\b\b\b\b\b\b\b\b\b\b\b\b\b\b\b\b\b\b\b\b\b\b\b\b\b\b\b\b\b\b\b\b\b\b\b\b\b\b\b\b\b\b\b\b\b\b\b\b\b\b\b\b\r",
      "36/36 [==============================] - 0s 4ms/step - loss: 12.8308 - mae: 2.4266 - mse: 12.8308 - val_loss: 16.0902 - val_mae: 2.9658 - val_mse: 16.0902\n"
     ]
    },
    {
     "name": "stdout",
     "output_type": "stream",
     "text": [
      "Epoch 16/100\n",
      "\r",
      " 1/36 [..............................] - ETA: 0s - loss: 5.6606 - mae: 1.8794 - mse: 5.6606"
     ]
    },
    {
     "name": "stdout",
     "output_type": "stream",
     "text": [
      "\b\b\b\b\b\b\b\b\b\b\b\b\b\b\b\b\b\b\b\b\b\b\b\b\b\b\b\b\b\b\b\b\b\b\b\b\b\b\b\b\b\b\b\b\b\b\b\b\b\b\b\b\b\b\b\b\b\b\b\b\b\b\b\b\b\b\b\b\b\b\b\b\b\b\b\b\b\b\b\b\b\b\b\b\b\b\b\b\b\b\b\r",
      "32/36 [=========================>....] - ETA: 0s - loss: 11.8948 - mae: 2.4129 - mse: 11.8948"
     ]
    },
    {
     "name": "stdout",
     "output_type": "stream",
     "text": [
      "\b\b\b\b\b\b\b\b\b\b\b\b\b\b\b\b\b\b\b\b\b\b\b\b\b\b\b\b\b\b\b\b\b\b\b\b\b\b\b\b\b\b\b\b\b\b\b\b\b\b\b\b\b\b\b\b\b\b\b\b\b\b\b\b\b\b\b\b\b\b\b\b\b\b\b\b\b\b\b\b\b\b\b\b\b\b\b\b\b\b\b\b\b\r",
      "36/36 [==============================] - 0s 3ms/step - loss: 12.2701 - mae: 2.3987 - mse: 12.2701 - val_loss: 16.2828 - val_mae: 2.9206 - val_mse: 16.2828\n"
     ]
    },
    {
     "name": "stdout",
     "output_type": "stream",
     "text": [
      "Epoch 17/100\n",
      "\r",
      " 1/36 [..............................] - ETA: 0s - loss: 15.7075 - mae: 3.4142 - mse: 15.7075"
     ]
    },
    {
     "name": "stdout",
     "output_type": "stream",
     "text": [
      "\b\b\b\b\b\b\b\b\b\b\b\b\b\b\b\b\b\b\b\b\b\b\b\b\b\b\b\b\b\b\b\b\b\b\b\b\b\b\b\b\b\b\b\b\b\b\b\b\b\b\b\b\b\b\b\b\b\b\b\b\b\b\b\b\b\b\b\b\b\b\b\b\b\b\b\b\b\b\b\b\b\b\b\b\b\b\b\b\b\b\b\b\b\r",
      "32/36 [=========================>....] - ETA: 0s - loss: 11.6606 - mae: 2.3317 - mse: 11.6606"
     ]
    },
    {
     "name": "stdout",
     "output_type": "stream",
     "text": [
      "\b\b\b\b\b\b\b\b\b\b\b\b\b\b\b\b\b\b\b\b\b\b\b\b\b\b\b\b\b\b\b\b\b\b\b\b\b\b\b\b\b\b\b\b\b\b\b\b\b\b\b\b\b\b\b\b\b\b\b\b\b\b\b\b\b\b\b\b\b\b\b\b\b\b\b\b\b\b\b\b\b\b\b\b\b\b\b\b\b\b\b\b\b\r",
      "36/36 [==============================] - 0s 3ms/step - loss: 11.9364 - mae: 2.3501 - mse: 11.9364 - val_loss: 16.3826 - val_mae: 2.9105 - val_mse: 16.3826\n"
     ]
    },
    {
     "name": "stdout",
     "output_type": "stream",
     "text": [
      "Epoch 18/100\n"
     ]
    },
    {
     "name": "stdout",
     "output_type": "stream",
     "text": [
      "\r",
      " 1/36 [..............................] - ETA: 0s - loss: 3.7957 - mae: 1.6568 - mse: 3.7957"
     ]
    },
    {
     "name": "stdout",
     "output_type": "stream",
     "text": [
      "\b\b\b\b\b\b\b\b\b\b\b\b\b\b\b\b\b\b\b\b\b\b\b\b\b\b\b\b\b\b\b\b\b\b\b\b\b\b\b\b\b\b\b\b\b\b\b\b\b\b\b\b\b\b\b\b\b\b\b\b\b\b\b\b\b\b\b\b\b\b\b\b\b\b\b\b\b\b\b\b\b\b\b\b\b\b\b\b\b\b\b\r",
      "32/36 [=========================>....] - ETA: 0s - loss: 11.8351 - mae: 2.3723 - mse: 11.8351"
     ]
    },
    {
     "name": "stdout",
     "output_type": "stream",
     "text": [
      "\b\b\b\b\b\b\b\b\b\b\b\b\b\b\b\b\b\b\b\b\b\b\b\b\b\b\b\b\b\b\b\b\b\b\b\b\b\b\b\b\b\b\b\b\b\b\b\b\b\b\b\b\b\b\b\b\b\b\b\b\b\b\b\b\b\b\b\b\b\b\b\b\b\b\b\b\b\b\b\b\b\b\b\b\b\b\b\b\b\b\b\b\b\r",
      "36/36 [==============================] - 0s 4ms/step - loss: 11.6662 - mae: 2.3700 - mse: 11.6662 - val_loss: 15.6663 - val_mae: 2.8278 - val_mse: 15.6663\n"
     ]
    },
    {
     "name": "stdout",
     "output_type": "stream",
     "text": [
      "Epoch 19/100\n",
      "\r",
      " 1/36 [..............................] - ETA: 0s - loss: 11.2464 - mae: 2.8432 - mse: 11.2464"
     ]
    },
    {
     "name": "stdout",
     "output_type": "stream",
     "text": [
      "\b\b\b\b\b\b\b\b\b\b\b\b\b\b\b\b\b\b\b\b\b\b\b\b\b\b\b\b\b\b\b\b\b\b\b\b\b\b\b\b\b\b\b\b\b\b\b\b\b\b\b\b\b\b\b\b\b\b\b\b\b\b\b\b\b\b\b\b\b\b\b\b\b\b\b\b\b\b\b\b\b\b\b\b\b\b\b\b\b\b\b\b\b\r",
      "32/36 [=========================>....] - ETA: 0s - loss: 12.0824 - mae: 2.3821 - mse: 12.0824"
     ]
    },
    {
     "name": "stdout",
     "output_type": "stream",
     "text": [
      "\b\b\b\b\b\b\b\b\b\b\b\b\b\b\b\b\b\b\b\b\b\b\b\b\b\b\b\b\b\b\b\b\b\b\b\b\b\b\b\b\b\b\b\b\b\b\b\b\b\b\b\b\b\b\b\b\b\b\b\b\b\b\b\b\b\b\b\b\b\b\b\b\b\b\b\b\b\b\b\b\b\b\b\b\b\b\b\b\b\b\b\b\b\r",
      "36/36 [==============================] - 1s 20ms/step - loss: 11.3430 - mae: 2.3113 - mse: 11.3430 - val_loss: 14.8180 - val_mae: 2.7661 - val_mse: 14.8180\n"
     ]
    },
    {
     "name": "stdout",
     "output_type": "stream",
     "text": [
      "Epoch 20/100\n",
      "\r",
      " 1/36 [..............................] - ETA: 0s - loss: 7.1291 - mae: 2.1578 - mse: 7.1291"
     ]
    },
    {
     "name": "stdout",
     "output_type": "stream",
     "text": [
      "\b\b\b\b\b\b\b\b\b\b\b\b\b\b\b\b\b\b\b\b\b\b\b\b\b\b\b\b\b\b\b\b\b\b\b\b\b\b\b\b\b\b\b\b\b\b\b\b\b\b\b\b\b\b\b\b\b\b\b\b\b\b\b\b\b\b\b\b\b\b\b\b\b\b\b\b\b\b\b\b\b\b\b\b\b\b\b\b\b\b\b\r",
      "32/36 [=========================>....] - ETA: 0s - loss: 10.1320 - mae: 2.2219 - mse: 10.1320"
     ]
    },
    {
     "name": "stdout",
     "output_type": "stream",
     "text": [
      "\b\b\b\b\b\b\b\b\b\b\b\b\b\b\b\b\b\b\b\b\b\b\b\b\b\b\b\b\b\b\b\b\b\b\b\b\b\b\b\b\b\b\b\b\b\b\b\b\b\b\b\b\b\b\b\b\b\b\b\b\b\b\b\b\b\b\b\b\b\b\b\b\b\b\b\b\b\b\b\b\b\b\b\b\b\b\b\b\b\b\b\b\b\r",
      "36/36 [==============================] - 0s 3ms/step - loss: 11.2473 - mae: 2.2680 - mse: 11.2473 - val_loss: 14.7309 - val_mae: 2.7871 - val_mse: 14.7309\n"
     ]
    },
    {
     "name": "stdout",
     "output_type": "stream",
     "text": [
      "Epoch 21/100\n",
      "\r",
      " 1/36 [..............................] - ETA: 0s - loss: 1.6492 - mae: 1.0671 - mse: 1.6492"
     ]
    },
    {
     "name": "stdout",
     "output_type": "stream",
     "text": [
      "\b\b\b\b\b\b\b\b\b\b\b\b\b\b\b\b\b\b\b\b\b\b\b\b\b\b\b\b\b\b\b\b\b\b\b\b\b\b\b\b\b\b\b\b\b\b\b\b\b\b\b\b\b\b\b\b\b\b\b\b\b\b\b\b\b\b\b\b\b\b\b\b\b\b\b\b\b\b\b\b\b\b\b\b\b\b\b\b\b\b\b\r",
      "32/36 [=========================>....] - ETA: 0s - loss: 11.5149 - mae: 2.3190 - mse: 11.5149"
     ]
    },
    {
     "name": "stdout",
     "output_type": "stream",
     "text": [
      "\b\b\b\b\b\b\b\b\b\b\b\b\b\b\b\b\b\b\b\b\b\b\b\b\b\b\b\b\b\b\b\b\b\b\b\b\b\b\b\b\b\b\b\b\b\b\b\b\b\b\b\b\b\b\b\b\b\b\b\b\b\b\b\b\b\b\b\b\b\b\b\b\b\b\b\b\b\b\b\b\b\b\b\b\b\b\b\b\b\b\b\b\b\r",
      "36/36 [==============================] - 0s 3ms/step - loss: 10.9338 - mae: 2.2621 - mse: 10.9338 - val_loss: 15.1076 - val_mae: 2.7590 - val_mse: 15.1076\n"
     ]
    },
    {
     "name": "stdout",
     "output_type": "stream",
     "text": [
      "Epoch 22/100\n",
      "\r",
      " 1/36 [..............................] - ETA: 0s - loss: 2.2461 - mae: 1.3930 - mse: 2.2461"
     ]
    },
    {
     "name": "stdout",
     "output_type": "stream",
     "text": [
      "\b\b\b\b\b\b\b\b\b\b\b\b\b\b\b\b\b\b\b\b\b\b\b\b\b\b\b\b\b\b\b\b\b\b\b\b\b\b\b\b\b\b\b\b\b\b\b\b\b\b\b\b\b\b\b\b\b\b\b\b\b\b\b\b\b\b\b\b\b\b\b\b\b\b\b\b\b\b\b\b\b\b\b\b\b\b\b\b\b\b\b\r",
      "33/36 [==========================>...] - ETA: 0s - loss: 10.6446 - mae: 2.2257 - mse: 10.6446"
     ]
    },
    {
     "name": "stdout",
     "output_type": "stream",
     "text": [
      "\b\b\b\b\b\b\b\b\b\b\b\b\b\b\b\b\b\b\b\b\b\b\b\b\b\b\b\b\b\b\b\b\b\b\b\b\b\b\b\b\b\b\b\b\b\b\b\b\b\b\b\b\b\b\b\b\b\b\b\b\b\b\b\b\b\b\b\b\b\b\b\b\b\b\b\b\b\b\b\b\b\b\b\b\b\b\b\b\b\b\b\b\b\r",
      "36/36 [==============================] - 0s 3ms/step - loss: 10.5842 - mae: 2.2373 - mse: 10.5842 - val_loss: 14.4242 - val_mae: 2.7934 - val_mse: 14.4242\n"
     ]
    },
    {
     "name": "stdout",
     "output_type": "stream",
     "text": [
      "Epoch 23/100\n",
      "\r",
      " 1/36 [..............................] - ETA: 0s - loss: 3.5432 - mae: 1.5405 - mse: 3.5432"
     ]
    },
    {
     "name": "stdout",
     "output_type": "stream",
     "text": [
      "\b\b\b\b\b\b\b\b\b\b\b\b\b\b\b\b\b\b\b\b\b\b\b\b\b\b\b\b\b\b\b\b\b\b\b\b\b\b\b\b\b\b\b\b\b\b\b\b\b\b\b\b\b\b\b\b\b\b\b\b\b\b\b\b\b\b\b\b\b\b\b\b\b\b\b\b\b\b\b\b\b\b\b\b\b\b\b\b\b\b\b\r",
      "32/36 [=========================>....] - ETA: 0s - loss: 10.9358 - mae: 2.2506 - mse: 10.9358"
     ]
    },
    {
     "name": "stdout",
     "output_type": "stream",
     "text": [
      "\b\b\b\b\b\b\b\b\b\b\b\b\b\b\b\b\b\b\b\b\b\b\b\b\b\b\b\b\b\b\b\b\b\b\b\b\b\b\b\b\b\b\b\b\b\b\b\b\b\b\b\b\b\b\b\b\b\b\b\b\b\b\b\b\b\b\b\b\b\b\b\b\b\b\b\b\b\b\b\b\b\b\b\b\b\b\b\b\b\b\b\b\b\r",
      "36/36 [==============================] - 0s 3ms/step - loss: 10.5017 - mae: 2.2176 - mse: 10.5017 - val_loss: 15.5430 - val_mae: 2.8467 - val_mse: 15.5430\n"
     ]
    },
    {
     "name": "stdout",
     "output_type": "stream",
     "text": [
      "Epoch 24/100\n",
      "\r",
      " 1/36 [..............................] - ETA: 0s - loss: 9.1264 - mae: 2.0383 - mse: 9.1264"
     ]
    },
    {
     "name": "stdout",
     "output_type": "stream",
     "text": [
      "\b\b\b\b\b\b\b\b\b\b\b\b\b\b\b\b\b\b\b\b\b\b\b\b\b\b\b\b\b\b\b\b\b\b\b\b\b\b\b\b\b\b\b\b\b\b\b\b\b\b\b\b\b\b\b\b\b\b\b\b\b\b\b\b\b\b\b\b\b\b\b\b\b\b\b\b\b\b\b\b\b\b\b\b\b\b\b\b\b\b\b\r",
      "32/36 [=========================>....] - ETA: 0s - loss: 10.2289 - mae: 2.1826 - mse: 10.2289"
     ]
    },
    {
     "name": "stdout",
     "output_type": "stream",
     "text": [
      "\b\b\b\b\b\b\b\b\b\b\b\b\b\b\b\b\b\b\b\b\b\b\b\b\b\b\b\b\b\b\b\b\b\b\b\b\b\b\b\b\b\b\b\b\b\b\b\b\b\b\b\b\b\b\b\b\b\b\b\b\b\b\b\b\b\b\b\b\b\b\b\b\b\b\b\b\b\b\b\b\b\b\b\b\b\b\b\b\b\b\b\b\b\r",
      "36/36 [==============================] - 0s 3ms/step - loss: 10.2317 - mae: 2.1974 - mse: 10.2317 - val_loss: 13.6854 - val_mae: 2.6584 - val_mse: 13.6854\n"
     ]
    },
    {
     "name": "stdout",
     "output_type": "stream",
     "text": [
      "Epoch 25/100\n",
      "\r",
      " 1/36 [..............................] - ETA: 0s - loss: 12.2879 - mae: 2.6405 - mse: 12.2879"
     ]
    },
    {
     "name": "stdout",
     "output_type": "stream",
     "text": [
      "\b\b\b\b\b\b\b\b\b\b\b\b\b\b\b\b\b\b\b\b\b\b\b\b\b\b\b\b\b\b\b\b\b\b\b\b\b\b\b\b\b\b\b\b\b\b\b\b\b\b\b\b\b\b\b\b\b\b\b\b\b\b\b\b\b\b\b\b\b\b\b\b\b\b\b\b\b\b\b\b\b\b\b\b\b\b\b\b\b\b\b\b\b\r",
      "32/36 [=========================>....] - ETA: 0s - loss: 10.3714 - mae: 2.1971 - mse: 10.3714"
     ]
    },
    {
     "name": "stdout",
     "output_type": "stream",
     "text": [
      "\b\b\b\b\b\b\b\b\b\b\b\b\b\b\b\b\b\b\b\b\b\b\b\b\b\b\b\b\b\b\b\b\b\b\b\b\b\b\b\b\b\b\b\b\b\b\b\b\b\b\b\b\b\b\b\b\b\b\b\b\b\b\b\b\b\b\b\b\b\b\b\b\b\b\b\b\b\b\b\b\b\b\b\b\b\b\b\b\b\b\b\b\b\r",
      "36/36 [==============================] - 0s 3ms/step - loss: 10.1377 - mae: 2.1815 - mse: 10.1377 - val_loss: 13.5194 - val_mae: 2.5896 - val_mse: 13.5194\n"
     ]
    },
    {
     "name": "stdout",
     "output_type": "stream",
     "text": [
      "Epoch 26/100\n",
      "\r",
      " 1/36 [..............................] - ETA: 0s - loss: 2.5982 - mae: 1.2959 - mse: 2.5982"
     ]
    },
    {
     "name": "stdout",
     "output_type": "stream",
     "text": [
      "\b\b\b\b\b\b\b\b\b\b\b\b\b\b\b\b\b\b\b\b\b\b\b\b\b\b\b\b\b\b\b\b\b\b\b\b\b\b\b\b\b\b\b\b\b\b\b\b\b\b\b\b\b\b\b\b\b\b\b\b\b\b\b\b\b\b\b\b\b\b\b\b\b\b\b\b\b\b\b\b\b\b\b\b\b\b\b\b\b\b\b\r",
      "33/36 [==========================>...] - ETA: 0s - loss: 10.1730 - mae: 2.1751 - mse: 10.1730"
     ]
    },
    {
     "name": "stdout",
     "output_type": "stream",
     "text": [
      "\b\b\b\b\b\b\b\b\b\b\b\b\b\b\b\b\b\b\b\b\b\b\b\b\b\b\b\b\b\b\b\b\b\b\b\b\b\b\b\b\b\b\b\b\b\b\b\b\b\b\b\b\b\b\b\b\b\b\b\b\b\b\b\b\b\b\b\b\b\b\b\b\b\b\b\b\b\b\b\b\b\b\b\b\b\b\b\b\b\b\b\b\b\r",
      "36/36 [==============================] - 0s 3ms/step - loss: 9.8901 - mae: 2.1627 - mse: 9.8901 - val_loss: 14.0073 - val_mae: 2.7238 - val_mse: 14.0073\n"
     ]
    },
    {
     "name": "stdout",
     "output_type": "stream",
     "text": [
      "Epoch 27/100\n",
      "\r",
      " 1/36 [..............................] - ETA: 0s - loss: 5.2337 - mae: 1.6694 - mse: 5.2337"
     ]
    },
    {
     "name": "stdout",
     "output_type": "stream",
     "text": [
      "\b\b\b\b\b\b\b\b\b\b\b\b\b\b\b\b\b\b\b\b\b\b\b\b\b\b\b\b\b\b\b\b\b\b\b\b\b\b\b\b\b\b\b\b\b\b\b\b\b\b\b\b\b\b\b\b\b\b\b\b\b\b\b\b\b\b\b\b\b\b\b\b\b\b\b\b\b\b\b\b\b\b\b\b\b\b\b\b\b\b\b\r",
      "32/36 [=========================>....] - ETA: 0s - loss: 9.8083 - mae: 2.1338 - mse: 9.8083"
     ]
    },
    {
     "name": "stdout",
     "output_type": "stream",
     "text": [
      "\b\b\b\b\b\b\b\b\b\b\b\b\b\b\b\b\b\b\b\b\b\b\b\b\b\b\b\b\b\b\b\b\b\b\b\b\b\b\b\b\b\b\b\b\b\b\b\b\b\b\b\b\b\b\b\b\b\b\b\b\b\b\b\b\b\b\b\b\b\b\b\b\b\b\b\b\b\b\b\b\b\b\b\b\b\b\b\b\b\b\b\r",
      "36/36 [==============================] - 0s 3ms/step - loss: 9.6460 - mae: 2.1477 - mse: 9.6460 - val_loss: 13.0115 - val_mae: 2.5437 - val_mse: 13.0115\n"
     ]
    },
    {
     "name": "stdout",
     "output_type": "stream",
     "text": [
      "Epoch 28/100\n",
      "\r",
      " 1/36 [..............................] - ETA: 0s - loss: 5.1569 - mae: 1.7751 - mse: 5.1569"
     ]
    },
    {
     "name": "stdout",
     "output_type": "stream",
     "text": [
      "\b\b\b\b\b\b\b\b\b\b\b\b\b\b\b\b\b\b\b\b\b\b\b\b\b\b\b\b\b\b\b\b\b\b\b\b\b\b\b\b\b\b\b\b\b\b\b\b\b\b\b\b\b\b\b\b\b\b\b\b\b\b\b\b\b\b\b\b\b\b\b\b\b\b\b\b\b\b\b\b\b\b\b\b\b\b\b\b\b\b\b\r",
      "33/36 [==========================>...] - ETA: 0s - loss: 10.0029 - mae: 2.1663 - mse: 10.0029"
     ]
    },
    {
     "name": "stdout",
     "output_type": "stream",
     "text": [
      "\b\b\b\b\b\b\b\b\b\b\b\b\b\b\b\b\b\b\b\b\b\b\b\b\b\b\b\b\b\b\b\b\b\b\b\b\b\b\b\b\b\b\b\b\b\b\b\b\b\b\b\b\b\b\b\b\b\b\b\b\b\b\b\b\b\b\b\b\b\b\b\b\b\b\b\b\b\b\b\b\b\b\b\b\b\b\b\b\b\b\b\b\b\r",
      "36/36 [==============================] - 0s 3ms/step - loss: 9.5482 - mae: 2.1272 - mse: 9.5482 - val_loss: 13.3540 - val_mae: 2.6001 - val_mse: 13.3540\n"
     ]
    },
    {
     "name": "stdout",
     "output_type": "stream",
     "text": [
      "Epoch 29/100\n",
      "\r",
      " 1/36 [..............................] - ETA: 0s - loss: 3.2065 - mae: 1.3825 - mse: 3.2065"
     ]
    },
    {
     "name": "stdout",
     "output_type": "stream",
     "text": [
      "\b\b\b\b\b\b\b\b\b\b\b\b\b\b\b\b\b\b\b\b\b\b\b\b\b\b\b\b\b\b\b\b\b\b\b\b\b\b\b\b\b\b\b\b\b\b\b\b\b\b\b\b\b\b\b\b\b\b\b\b\b\b\b\b\b\b\b\b\b\b\b\b\b\b\b\b\b\b\b\b\b\b\b\b\b\b\b\b\b\b\b\r",
      "33/36 [==========================>...] - ETA: 0s - loss: 9.6787 - mae: 2.1394 - mse: 9.6787"
     ]
    },
    {
     "name": "stdout",
     "output_type": "stream",
     "text": [
      "\b\b\b\b\b\b\b\b\b\b\b\b\b\b\b\b\b\b\b\b\b\b\b\b\b\b\b\b\b\b\b\b\b\b\b\b\b\b\b\b\b\b\b\b\b\b\b\b\b\b\b\b\b\b\b\b\b\b\b\b\b\b\b\b\b\b\b\b\b\b\b\b\b\b\b\b\b\b\b\b\b\b\b\b\b\b\b\b\b\b\b\r",
      "36/36 [==============================] - 0s 3ms/step - loss: 9.2975 - mae: 2.1065 - mse: 9.2975 - val_loss: 12.6968 - val_mae: 2.4941 - val_mse: 12.6968\n"
     ]
    },
    {
     "name": "stdout",
     "output_type": "stream",
     "text": [
      "Epoch 30/100\n",
      "\r",
      " 1/36 [..............................] - ETA: 0s - loss: 6.6045 - mae: 1.9971 - mse: 6.6045"
     ]
    },
    {
     "name": "stdout",
     "output_type": "stream",
     "text": [
      "\b\b\b\b\b\b\b\b\b\b\b\b\b\b\b\b\b\b\b\b\b\b\b\b\b\b\b\b\b\b\b\b\b\b\b\b\b\b\b\b\b\b\b\b\b\b\b\b\b\b\b\b\b\b\b\b\b\b\b\b\b\b\b\b\b\b\b\b\b\b\b\b\b\b\b\b\b\b\b\b\b\b\b\b\b\b\b\b\b\b\b\r",
      "33/36 [==========================>...] - ETA: 0s - loss: 9.7500 - mae: 2.1194 - mse: 9.7500"
     ]
    },
    {
     "name": "stdout",
     "output_type": "stream",
     "text": [
      "\b\b\b\b\b\b\b\b\b\b\b\b\b\b\b\b\b\b\b\b\b\b\b\b\b\b\b\b\b\b\b\b\b\b\b\b\b\b\b\b\b\b\b\b\b\b\b\b\b\b\b\b\b\b\b\b\b\b\b\b\b\b\b\b\b\b\b\b\b\b\b\b\b\b\b\b\b\b\b\b\b\b\b\b\b\b\b\b\b\b\b\r",
      "36/36 [==============================] - 0s 3ms/step - loss: 9.4078 - mae: 2.0914 - mse: 9.4078 - val_loss: 13.9425 - val_mae: 2.7077 - val_mse: 13.9425\n"
     ]
    },
    {
     "name": "stdout",
     "output_type": "stream",
     "text": [
      "Epoch 31/100\n",
      "\r",
      " 1/36 [..............................] - ETA: 0s - loss: 9.1990 - mae: 2.2580 - mse: 9.1990"
     ]
    },
    {
     "name": "stdout",
     "output_type": "stream",
     "text": [
      "\b\b\b\b\b\b\b\b\b\b\b\b\b\b\b\b\b\b\b\b\b\b\b\b\b\b\b\b\b\b\b\b\b\b\b\b\b\b\b\b\b\b\b\b\b\b\b\b\b\b\b\b\b\b\b\b\b\b\b\b\b\b\b\b\b\b\b\b\b\b\b\b\b\b\b\b\b\b\b\b\b\b\b\b\b\b\b\b\b\b\b\r",
      "33/36 [==========================>...] - ETA: 0s - loss: 9.3310 - mae: 2.1094 - mse: 9.3310"
     ]
    },
    {
     "name": "stdout",
     "output_type": "stream",
     "text": [
      "\b\b\b\b\b\b\b\b\b\b\b\b\b\b\b\b\b\b\b\b\b\b\b\b\b\b\b\b\b\b\b\b\b\b\b\b\b\b\b\b\b\b\b\b\b\b\b\b\b\b\b\b\b\b\b\b\b\b\b\b\b\b\b\b\b\b\b\b\b\b\b\b\b\b\b\b\b\b\b\b\b\b\b\b\b\b\b\b\b\b\b\r",
      "36/36 [==============================] - 0s 3ms/step - loss: 9.0858 - mae: 2.0797 - mse: 9.0858 - val_loss: 13.3827 - val_mae: 2.6040 - val_mse: 13.3827\n"
     ]
    },
    {
     "name": "stdout",
     "output_type": "stream",
     "text": [
      "Epoch 32/100\n"
     ]
    },
    {
     "name": "stdout",
     "output_type": "stream",
     "text": [
      "\r",
      " 1/36 [..............................] - ETA: 0s - loss: 7.5661 - mae: 2.1296 - mse: 7.5661"
     ]
    },
    {
     "name": "stdout",
     "output_type": "stream",
     "text": [
      "\b\b\b\b\b\b\b\b\b\b\b\b\b\b\b\b\b\b\b\b\b\b\b\b\b\b\b\b\b\b\b\b\b\b\b\b\b\b\b\b\b\b\b\b\b\b\b\b\b\b\b\b\b\b\b\b\b\b\b\b\b\b\b\b\b\b\b\b\b\b\b\b\b\b\b\b\b\b\b\b\b\b\b\b\b\b\b\b\b\b\b\r",
      "32/36 [=========================>....] - ETA: 0s - loss: 8.9988 - mae: 2.0381 - mse: 8.9988"
     ]
    },
    {
     "name": "stdout",
     "output_type": "stream",
     "text": [
      "\b\b\b\b\b\b\b\b\b\b\b\b\b\b\b\b\b\b\b\b\b\b\b\b\b\b\b\b\b\b\b\b\b\b\b\b\b\b\b\b\b\b\b\b\b\b\b\b\b\b\b\b\b\b\b\b\b\b\b\b\b\b\b\b\b\b\b\b\b\b\b\b\b\b\b\b\b\b\b\b\b\b\b\b\b\b\b\b\b\b\b\r",
      "36/36 [==============================] - 0s 3ms/step - loss: 8.8624 - mae: 2.0564 - mse: 8.8624 - val_loss: 12.3937 - val_mae: 2.5310 - val_mse: 12.3937\n"
     ]
    },
    {
     "name": "stdout",
     "output_type": "stream",
     "text": [
      "Epoch 33/100\n",
      "\r",
      " 1/36 [..............................] - ETA: 0s - loss: 2.6600 - mae: 1.4902 - mse: 2.6600"
     ]
    },
    {
     "name": "stdout",
     "output_type": "stream",
     "text": [
      "\b\b\b\b\b\b\b\b\b\b\b\b\b\b\b\b\b\b\b\b\b\b\b\b\b\b\b\b\b\b\b\b\b\b\b\b\b\b\b\b\b\b\b\b\b\b\b\b\b\b\b\b\b\b\b\b\b\b\b\b\b\b\b\b\b\b\b\b\b\b\b\b\b\b\b\b\b\b\b\b\b\b\b\b\b\b\b\b\b\b\b\r",
      "32/36 [=========================>....] - ETA: 0s - loss: 9.3202 - mae: 2.1069 - mse: 9.3202"
     ]
    },
    {
     "name": "stdout",
     "output_type": "stream",
     "text": [
      "\b\b\b\b\b\b\b\b\b\b\b\b\b\b\b\b\b\b\b\b\b\b\b\b\b\b\b\b\b\b\b\b\b\b\b\b\b\b\b\b\b\b\b\b\b\b\b\b\b\b\b\b\b\b\b\b\b\b\b\b\b\b\b\b\b\b\b\b\b\b\b\b\b\b\b\b\b\b\b\b\b\b\b\b\b\b\b\b\b\b\b\r",
      "36/36 [==============================] - 0s 3ms/step - loss: 9.0567 - mae: 2.0744 - mse: 9.0567 - val_loss: 12.8553 - val_mae: 2.5222 - val_mse: 12.8553\n"
     ]
    },
    {
     "name": "stdout",
     "output_type": "stream",
     "text": [
      "Epoch 34/100\n",
      "\r",
      " 1/36 [..............................] - ETA: 0s - loss: 0.5771 - mae: 0.6443 - mse: 0.5771"
     ]
    },
    {
     "name": "stdout",
     "output_type": "stream",
     "text": [
      "\b\b\b\b\b\b\b\b\b\b\b\b\b\b\b\b\b\b\b\b\b\b\b\b\b\b\b\b\b\b\b\b\b\b\b\b\b\b\b\b\b\b\b\b\b\b\b\b\b\b\b\b\b\b\b\b\b\b\b\b\b\b\b\b\b\b\b\b\b\b\b\b\b\b\b\b\b\b\b\b\b\b\b\b\b\b\b\b\b\b\b\r",
      "32/36 [=========================>....] - ETA: 0s - loss: 9.1446 - mae: 2.0690 - mse: 9.1446"
     ]
    },
    {
     "name": "stdout",
     "output_type": "stream",
     "text": [
      "\b\b\b\b\b\b\b\b\b\b\b\b\b\b\b\b\b\b\b\b\b\b\b\b\b\b\b\b\b\b\b\b\b\b\b\b\b\b\b\b\b\b\b\b\b\b\b\b\b\b\b\b\b\b\b\b\b\b\b\b\b\b\b\b\b\b\b\b\b\b\b\b\b\b\b\b\b\b\b\b\b\b\b\b\b\b\b\b\b\b\b\r",
      "36/36 [==============================] - 0s 3ms/step - loss: 8.9192 - mae: 2.0626 - mse: 8.9192 - val_loss: 12.3636 - val_mae: 2.4885 - val_mse: 12.3636\n"
     ]
    },
    {
     "name": "stdout",
     "output_type": "stream",
     "text": [
      "Epoch 35/100\n",
      "\r",
      " 1/36 [..............................] - ETA: 0s - loss: 3.8682 - mae: 1.5138 - mse: 3.8682"
     ]
    },
    {
     "name": "stdout",
     "output_type": "stream",
     "text": [
      "\b\b\b\b\b\b\b\b\b\b\b\b\b\b\b\b\b\b\b\b\b\b\b\b\b\b\b\b\b\b\b\b\b\b\b\b\b\b\b\b\b\b\b\b\b\b\b\b\b\b\b\b\b\b\b\b\b\b\b\b\b\b\b\b\b\b\b\b\b\b\b\b\b\b\b\b\b\b\b\b\b\b\b\b\b\b\b\b\b\b\b\r",
      "32/36 [=========================>....] - ETA: 0s - loss: 8.2530 - mae: 2.0049 - mse: 8.2530"
     ]
    },
    {
     "name": "stdout",
     "output_type": "stream",
     "text": [
      "\b\b\b\b\b\b\b\b\b\b\b\b\b\b\b\b\b\b\b\b\b\b\b\b\b\b\b\b\b\b\b\b\b\b\b\b\b\b\b\b\b\b\b\b\b\b\b\b\b\b\b\b\b\b\b\b\b\b\b\b\b\b\b\b\b\b\b\b\b\b\b\b\b\b\b\b\b\b\b\b\b\b\b\b\b\b\b\b\b\b\b\r",
      "36/36 [==============================] - 0s 3ms/step - loss: 8.4784 - mae: 1.9996 - mse: 8.4784 - val_loss: 13.3922 - val_mae: 2.6816 - val_mse: 13.3922\n"
     ]
    },
    {
     "name": "stdout",
     "output_type": "stream",
     "text": [
      "Epoch 36/100\n",
      "\r",
      " 1/36 [..............................] - ETA: 0s - loss: 10.7148 - mae: 2.5947 - mse: 10.7148"
     ]
    },
    {
     "name": "stdout",
     "output_type": "stream",
     "text": [
      "\b\b\b\b\b\b\b\b\b\b\b\b\b\b\b\b\b\b\b\b\b\b\b\b\b\b\b\b\b\b\b\b\b\b\b\b\b\b\b\b\b\b\b\b\b\b\b\b\b\b\b\b\b\b\b\b\b\b\b\b\b\b\b\b\b\b\b\b\b\b\b\b\b\b\b\b\b\b\b\b\b\b\b\b\b\b\b\b\b\b\b\b\b\r",
      "33/36 [==========================>...] - ETA: 0s - loss: 8.8086 - mae: 2.0213 - mse: 8.8086  "
     ]
    },
    {
     "name": "stdout",
     "output_type": "stream",
     "text": [
      "\b\b\b\b\b\b\b\b\b\b\b\b\b\b\b\b\b\b\b\b\b\b\b\b\b\b\b\b\b\b\b\b\b\b\b\b\b\b\b\b\b\b\b\b\b\b\b\b\b\b\b\b\b\b\b\b\b\b\b\b\b\b\b\b\b\b\b\b\b\b\b\b\b\b\b\b\b\b\b\b\b\b\b\b\b\b\b\b\b\b\b\r",
      "36/36 [==============================] - 0s 3ms/step - loss: 8.5831 - mae: 2.0028 - mse: 8.5831 - val_loss: 12.6774 - val_mae: 2.5683 - val_mse: 12.6774\n"
     ]
    },
    {
     "name": "stdout",
     "output_type": "stream",
     "text": [
      "Epoch 37/100\n"
     ]
    },
    {
     "name": "stdout",
     "output_type": "stream",
     "text": [
      "\r",
      " 1/36 [..............................] - ETA: 0s - loss: 14.5362 - mae: 2.1308 - mse: 14.5362"
     ]
    },
    {
     "name": "stdout",
     "output_type": "stream",
     "text": [
      "\b\b\b\b\b\b\b\b\b\b\b\b\b\b\b\b\b\b\b\b\b\b\b\b\b\b\b\b\b\b\b\b\b\b\b\b\b\b\b\b\b\b\b\b\b\b\b\b\b\b\b\b\b\b\b\b\b\b\b\b\b\b\b\b\b\b\b\b\b\b\b\b\b\b\b\b\b\b\b\b\b\b\b\b\b\b\b\b\b\b\b\b\b\r",
      "33/36 [==========================>...] - ETA: 0s - loss: 8.6049 - mae: 2.0261 - mse: 8.6049  "
     ]
    },
    {
     "name": "stdout",
     "output_type": "stream",
     "text": [
      "\b\b\b\b\b\b\b\b\b\b\b\b\b\b\b\b\b\b\b\b\b\b\b\b\b\b\b\b\b\b\b\b\b\b\b\b\b\b\b\b\b\b\b\b\b\b\b\b\b\b\b\b\b\b\b\b\b\b\b\b\b\b\b\b\b\b\b\b\b\b\b\b\b\b\b\b\b\b\b\b\b\b\b\b\b\b\b\b\b\b\b\r",
      "36/36 [==============================] - 0s 3ms/step - loss: 8.4086 - mae: 2.0197 - mse: 8.4086 - val_loss: 12.8747 - val_mae: 2.5896 - val_mse: 12.8747\n"
     ]
    },
    {
     "name": "stdout",
     "output_type": "stream",
     "text": [
      "Epoch 38/100\n",
      "\r",
      " 1/36 [..............................] - ETA: 0s - loss: 17.6542 - mae: 2.9731 - mse: 17.6542"
     ]
    },
    {
     "name": "stdout",
     "output_type": "stream",
     "text": [
      "\b\b\b\b\b\b\b\b\b\b\b\b\b\b\b\b\b\b\b\b\b\b\b\b\b\b\b\b\b\b\b\b\b\b\b\b\b\b\b\b\b\b\b\b\b\b\b\b\b\b\b\b\b\b\b\b\b\b\b\b\b\b\b\b\b\b\b\b\b\b\b\b\b\b\b\b\b\b\b\b\b\b\b\b\b\b\b\b\b\b\b\b\b\r",
      "33/36 [==========================>...] - ETA: 0s - loss: 8.3633 - mae: 2.0068 - mse: 8.3633  "
     ]
    },
    {
     "name": "stdout",
     "output_type": "stream",
     "text": [
      "\b\b\b\b\b\b\b\b\b\b\b\b\b\b\b\b\b\b\b\b\b\b\b\b\b\b\b\b\b\b\b\b\b\b\b\b\b\b\b\b\b\b\b\b\b\b\b\b\b\b\b\b\b\b\b\b\b\b\b\b\b\b\b\b\b\b\b\b\b\b\b\b\b\b\b\b\b\b\b\b\b\b\b\b\b\b\b\b\b\b\b\r",
      "36/36 [==============================] - 0s 3ms/step - loss: 8.1931 - mae: 1.9861 - mse: 8.1931 - val_loss: 12.7682 - val_mae: 2.5099 - val_mse: 12.7682\n"
     ]
    },
    {
     "name": "stdout",
     "output_type": "stream",
     "text": [
      "Epoch 39/100\n",
      "\r",
      " 1/36 [..............................] - ETA: 0s - loss: 3.4531 - mae: 1.6127 - mse: 3.4531"
     ]
    },
    {
     "name": "stdout",
     "output_type": "stream",
     "text": [
      "\b\b\b\b\b\b\b\b\b\b\b\b\b\b\b\b\b\b\b\b\b\b\b\b\b\b\b\b\b\b\b\b\b\b\b\b\b\b\b\b\b\b\b\b\b\b\b\b\b\b\b\b\b\b\b\b\b\b\b\b\b\b\b\b\b\b\b\b\b\b\b\b\b\b\b\b\b\b\b\b\b\b\b\b\b\b\b\b\b\b\b\r",
      "32/36 [=========================>....] - ETA: 0s - loss: 8.4591 - mae: 2.0087 - mse: 8.4591"
     ]
    },
    {
     "name": "stdout",
     "output_type": "stream",
     "text": [
      "\b\b\b\b\b\b\b\b\b\b\b\b\b\b\b\b\b\b\b\b\b\b\b\b\b\b\b\b\b\b\b\b\b\b\b\b\b\b\b\b\b\b\b\b\b\b\b\b\b\b\b\b\b\b\b\b\b\b\b\b\b\b\b\b\b\b\b\b\b\b\b\b\b\b\b\b\b\b\b\b\b\b\b\b\b\b\b\b\b\b\b\r",
      "36/36 [==============================] - 0s 3ms/step - loss: 8.2121 - mae: 1.9948 - mse: 8.2121 - val_loss: 12.4147 - val_mae: 2.5262 - val_mse: 12.4147\n"
     ]
    },
    {
     "name": "stdout",
     "output_type": "stream",
     "text": [
      "Epoch 40/100\n"
     ]
    },
    {
     "name": "stdout",
     "output_type": "stream",
     "text": [
      "\r",
      " 1/36 [..............................] - ETA: 0s - loss: 8.0741 - mae: 1.7814 - mse: 8.0741"
     ]
    },
    {
     "name": "stdout",
     "output_type": "stream",
     "text": [
      "\b\b\b\b\b\b\b\b\b\b\b\b\b\b\b\b\b\b\b\b\b\b\b\b\b\b\b\b\b\b\b\b\b\b\b\b\b\b\b\b\b\b\b\b\b\b\b\b\b\b\b\b\b\b\b\b\b\b\b\b\b\b\b\b\b\b\b\b\b\b\b\b\b\b\b\b\b\b\b\b\b\b\b\b\b\b\b\b\b\b\b\r",
      "32/36 [=========================>....] - ETA: 0s - loss: 8.3279 - mae: 2.0018 - mse: 8.3279"
     ]
    },
    {
     "name": "stdout",
     "output_type": "stream",
     "text": [
      "\b\b\b\b\b\b\b\b\b\b\b\b\b\b\b\b\b\b\b\b\b\b\b\b\b\b\b\b\b\b\b\b\b\b\b\b\b\b\b\b\b\b\b\b\b\b\b\b\b\b\b\b\b\b\b\b\b\b\b\b\b\b\b\b\b\b\b\b\b\b\b\b\b\b\b\b\b\b\b\b\b\b\b\b\b\b\b\b\b\b\b\r",
      "36/36 [==============================] - 0s 3ms/step - loss: 7.9583 - mae: 1.9803 - mse: 7.9583 - val_loss: 11.8057 - val_mae: 2.4222 - val_mse: 11.8057\n"
     ]
    },
    {
     "name": "stdout",
     "output_type": "stream",
     "text": [
      "Epoch 41/100\n",
      "\r",
      " 1/36 [..............................] - ETA: 0s - loss: 31.3173 - mae: 3.1255 - mse: 31.3173"
     ]
    },
    {
     "name": "stdout",
     "output_type": "stream",
     "text": [
      "\b\b\b\b\b\b\b\b\b\b\b\b\b\b\b\b\b\b\b\b\b\b\b\b\b\b\b\b\b\b\b\b\b\b\b\b\b\b\b\b\b\b\b\b\b\b\b\b\b\b\b\b\b\b\b\b\b\b\b\b\b\b\b\b\b\b\b\b\b\b\b\b\b\b\b\b\b\b\b\b\b\b\b\b\b\b\b\b\b\b\b\b\b\r",
      "33/36 [==========================>...] - ETA: 0s - loss: 8.2614 - mae: 1.9583 - mse: 8.2614  "
     ]
    },
    {
     "name": "stdout",
     "output_type": "stream",
     "text": [
      "\b\b\b\b\b\b\b\b\b\b\b\b\b\b\b\b\b\b\b\b\b\b\b\b\b\b\b\b\b\b\b\b\b\b\b\b\b\b\b\b\b\b\b\b\b\b\b\b\b\b\b\b\b\b\b\b\b\b\b\b\b\b\b\b\b\b\b\b\b\b\b\b\b\b\b\b\b\b\b\b\b\b\b\b\b\b\b\b\b\b\b\r",
      "36/36 [==============================] - 0s 3ms/step - loss: 8.2316 - mae: 1.9757 - mse: 8.2316 - val_loss: 12.0216 - val_mae: 2.4788 - val_mse: 12.0216\n"
     ]
    },
    {
     "name": "stdout",
     "output_type": "stream",
     "text": [
      "Epoch 42/100\n",
      "\r",
      " 1/36 [..............................] - ETA: 0s - loss: 3.7600 - mae: 1.6729 - mse: 3.7600"
     ]
    },
    {
     "name": "stdout",
     "output_type": "stream",
     "text": [
      "\b\b\b\b\b\b\b\b\b\b\b\b\b\b\b\b\b\b\b\b\b\b\b\b\b\b\b\b\b\b\b\b\b\b\b\b\b\b\b\b\b\b\b\b\b\b\b\b\b\b\b\b\b\b\b\b\b\b\b\b\b\b\b\b\b\b\b\b\b\b\b\b\b\b\b\b\b\b\b\b\b\b\b\b\b\b\b\b\b\b\b\r",
      "32/36 [=========================>....] - ETA: 0s - loss: 7.8853 - mae: 1.8971 - mse: 7.8853"
     ]
    },
    {
     "name": "stdout",
     "output_type": "stream",
     "text": [
      "\b\b\b\b\b\b\b\b\b\b\b\b\b\b\b\b\b\b\b\b\b\b\b\b\b\b\b\b\b\b\b\b\b\b\b\b\b\b\b\b\b\b\b\b\b\b\b\b\b\b\b\b\b\b\b\b\b\b\b\b\b\b\b\b\b\b\b\b\b\b\b\b\b\b\b\b\b\b\b\b\b\b\b\b\b\b\b\b\b\b\b\r",
      "36/36 [==============================] - 0s 3ms/step - loss: 7.8710 - mae: 1.9310 - mse: 7.8710 - val_loss: 12.4387 - val_mae: 2.5021 - val_mse: 12.4387\n"
     ]
    },
    {
     "name": "stdout",
     "output_type": "stream",
     "text": [
      "Epoch 43/100\n"
     ]
    },
    {
     "name": "stdout",
     "output_type": "stream",
     "text": [
      "\r",
      " 1/36 [..............................] - ETA: 0s - loss: 5.4862 - mae: 1.8600 - mse: 5.4862"
     ]
    },
    {
     "name": "stdout",
     "output_type": "stream",
     "text": [
      "\b\b\b\b\b\b\b\b\b\b\b\b\b\b\b\b\b\b\b\b\b\b\b\b\b\b\b\b\b\b\b\b\b\b\b\b\b\b\b\b\b\b\b\b\b\b\b\b\b\b\b\b\b\b\b\b\b\b\b\b\b\b\b\b\b\b\b\b\b\b\b\b\b\b\b\b\b\b\b\b\b\b\b\b\b\b\b\b\b\b\b\r",
      "33/36 [==========================>...] - ETA: 0s - loss: 8.0002 - mae: 1.9109 - mse: 8.0002"
     ]
    },
    {
     "name": "stdout",
     "output_type": "stream",
     "text": [
      "\b\b\b\b\b\b\b\b\b\b\b\b\b\b\b\b\b\b\b\b\b\b\b\b\b\b\b\b\b\b\b\b\b\b\b\b\b\b\b\b\b\b\b\b\b\b\b\b\b\b\b\b\b\b\b\b\b\b\b\b\b\b\b\b\b\b\b\b\b\b\b\b\b\b\b\b\b\b\b\b\b\b\b\b\b\b\b\b\b\b\b\r",
      "36/36 [==============================] - 0s 3ms/step - loss: 7.8200 - mae: 1.9185 - mse: 7.8200 - val_loss: 12.3099 - val_mae: 2.5199 - val_mse: 12.3099\n"
     ]
    },
    {
     "name": "stdout",
     "output_type": "stream",
     "text": [
      "Epoch 44/100\n"
     ]
    },
    {
     "name": "stdout",
     "output_type": "stream",
     "text": [
      "\r",
      " 1/36 [..............................] - ETA: 0s - loss: 3.8619 - mae: 1.5097 - mse: 3.8619"
     ]
    },
    {
     "name": "stdout",
     "output_type": "stream",
     "text": [
      "\b\b\b\b\b\b\b\b\b\b\b\b\b\b\b\b\b\b\b\b\b\b\b\b\b\b\b\b\b\b\b\b\b\b\b\b\b\b\b\b\b\b\b\b\b\b\b\b\b\b\b\b\b\b\b\b\b\b\b\b\b\b\b\b\b\b\b\b\b\b\b\b\b\b\b\b\b\b\b\b\b\b\b\b\b\b\b\b\b\b\b\r",
      "33/36 [==========================>...] - ETA: 0s - loss: 7.7210 - mae: 1.9051 - mse: 7.7210"
     ]
    },
    {
     "name": "stdout",
     "output_type": "stream",
     "text": [
      "\b\b\b\b\b\b\b\b\b\b\b\b\b\b\b\b\b\b\b\b\b\b\b\b\b\b\b\b\b\b\b\b\b\b\b\b\b\b\b\b\b\b\b\b\b\b\b\b\b\b\b\b\b\b\b\b\b\b\b\b\b\b\b\b\b\b\b\b\b\b\b\b\b\b\b\b\b\b\b\b\b\b\b\b\b\b\b\b\b\b\b\r",
      "36/36 [==============================] - 0s 3ms/step - loss: 7.5973 - mae: 1.8853 - mse: 7.5973 - val_loss: 12.2818 - val_mae: 2.5568 - val_mse: 12.2818\n"
     ]
    },
    {
     "name": "stdout",
     "output_type": "stream",
     "text": [
      "Epoch 45/100\n"
     ]
    },
    {
     "name": "stdout",
     "output_type": "stream",
     "text": [
      "\r",
      " 1/36 [..............................] - ETA: 0s - loss: 3.3374 - mae: 1.1382 - mse: 3.3374"
     ]
    },
    {
     "name": "stdout",
     "output_type": "stream",
     "text": [
      "\b\b\b\b\b\b\b\b\b\b\b\b\b\b\b\b\b\b\b\b\b\b\b\b\b\b\b\b\b\b\b\b\b\b\b\b\b\b\b\b\b\b\b\b\b\b\b\b\b\b\b\b\b\b\b\b\b\b\b\b\b\b\b\b\b\b\b\b\b\b\b\b\b\b\b\b\b\b\b\b\b\b\b\b\b\b\b\b\b\b\b\r",
      "32/36 [=========================>....] - ETA: 0s - loss: 7.8115 - mae: 1.9431 - mse: 7.8115"
     ]
    },
    {
     "name": "stdout",
     "output_type": "stream",
     "text": [
      "\b\b\b\b\b\b\b\b\b\b\b\b\b\b\b\b\b\b\b\b\b\b\b\b\b\b\b\b\b\b\b\b\b\b\b\b\b\b\b\b\b\b\b\b\b\b\b\b\b\b\b\b\b\b\b\b\b\b\b\b\b\b\b\b\b\b\b\b\b\b\b\b\b\b\b\b\b\b\b\b\b\b\b\b\b\b\b\b\b\b\b\r",
      "36/36 [==============================] - 0s 3ms/step - loss: 7.6112 - mae: 1.9331 - mse: 7.6112 - val_loss: 11.5111 - val_mae: 2.4086 - val_mse: 11.5111\n"
     ]
    },
    {
     "name": "stdout",
     "output_type": "stream",
     "text": [
      "Epoch 46/100\n",
      "\r",
      " 1/36 [..............................] - ETA: 0s - loss: 2.8774 - mae: 1.3325 - mse: 2.8774"
     ]
    },
    {
     "name": "stdout",
     "output_type": "stream",
     "text": [
      "\b\b\b\b\b\b\b\b\b\b\b\b\b\b\b\b\b\b\b\b\b\b\b\b\b\b\b\b\b\b\b\b\b\b\b\b\b\b\b\b\b\b\b\b\b\b\b\b\b\b\b\b\b\b\b\b\b\b\b\b\b\b\b\b\b\b\b\b\b\b\b\b\b\b\b\b\b\b\b\b\b\b\b\b\b\b\b\b\b\b\b\r",
      "32/36 [=========================>....] - ETA: 0s - loss: 7.7251 - mae: 1.9519 - mse: 7.7251"
     ]
    },
    {
     "name": "stdout",
     "output_type": "stream",
     "text": [
      "\b\b\b\b\b\b\b\b\b\b\b\b\b\b\b\b\b\b\b\b\b\b\b\b\b\b\b\b\b\b\b\b\b\b\b\b\b\b\b\b\b\b\b\b\b\b\b\b\b\b\b\b\b\b\b\b\b\b\b\b\b\b\b\b\b\b\b\b\b\b\b\b\b\b\b\b\b\b\b\b\b\b\b\b\b\b\b\b\b\b\b\r",
      "36/36 [==============================] - 0s 3ms/step - loss: 7.3964 - mae: 1.9182 - mse: 7.3964 - val_loss: 12.3020 - val_mae: 2.5405 - val_mse: 12.3020\n"
     ]
    },
    {
     "name": "stdout",
     "output_type": "stream",
     "text": [
      "Epoch 47/100\n",
      "\r",
      " 1/36 [..............................] - ETA: 0s - loss: 8.7814 - mae: 2.1454 - mse: 8.7814"
     ]
    },
    {
     "name": "stdout",
     "output_type": "stream",
     "text": [
      "\b\b\b\b\b\b\b\b\b\b\b\b\b\b\b\b\b\b\b\b\b\b\b\b\b\b\b\b\b\b\b\b\b\b\b\b\b\b\b\b\b\b\b\b\b\b\b\b\b\b\b\b\b\b\b\b\b\b\b\b\b\b\b\b\b\b\b\b\b\b\b\b\b\b\b\b\b\b\b\b\b\b\b\b\b\b\b\b\b\b\b\r",
      "33/36 [==========================>...] - ETA: 0s - loss: 6.7421 - mae: 1.8489 - mse: 6.7421"
     ]
    },
    {
     "name": "stdout",
     "output_type": "stream",
     "text": [
      "\b\b\b\b\b\b\b\b\b\b\b\b\b\b\b\b\b\b\b\b\b\b\b\b\b\b\b\b\b\b\b\b\b\b\b\b\b\b\b\b\b\b\b\b\b\b\b\b\b\b\b\b\b\b\b\b\b\b\b\b\b\b\b\b\b\b\b\b\b\b\b\b\b\b\b\b\b\b\b\b\b\b\b\b\b\b\b\b\b\b\b\r",
      "36/36 [==============================] - 0s 3ms/step - loss: 7.3249 - mae: 1.8734 - mse: 7.3249 - val_loss: 13.0305 - val_mae: 2.6522 - val_mse: 13.0305\n"
     ]
    },
    {
     "name": "stdout",
     "output_type": "stream",
     "text": [
      "Epoch 48/100\n",
      "\r",
      " 1/36 [..............................] - ETA: 0s - loss: 1.2074 - mae: 0.8920 - mse: 1.2074"
     ]
    },
    {
     "name": "stdout",
     "output_type": "stream",
     "text": [
      "\b\b\b\b\b\b\b\b\b\b\b\b\b\b\b\b\b\b\b\b\b\b\b\b\b\b\b\b\b\b\b\b\b\b\b\b\b\b\b\b\b\b\b\b\b\b\b\b\b\b\b\b\b\b\b\b\b\b\b\b\b\b\b\b\b\b\b\b\b\b\b\b\b\b\b\b\b\b\b\b\b\b\b\b\b\b\b\b\b\b\b\r",
      "33/36 [==========================>...] - ETA: 0s - loss: 6.8343 - mae: 1.8771 - mse: 6.8343"
     ]
    },
    {
     "name": "stdout",
     "output_type": "stream",
     "text": [
      "\b\b\b\b\b\b\b\b\b\b\b\b\b\b\b\b\b\b\b\b\b\b\b\b\b\b\b\b\b\b\b\b\b\b\b\b\b\b\b\b\b\b\b\b\b\b\b\b\b\b\b\b\b\b\b\b\b\b\b\b\b\b\b\b\b\b\b\b\b\b\b\b\b\b\b\b\b\b\b\b\b\b\b\b\b\b\b\b\b\b\b\r",
      "36/36 [==============================] - 0s 3ms/step - loss: 7.2513 - mae: 1.8983 - mse: 7.2513 - val_loss: 12.7707 - val_mae: 2.5369 - val_mse: 12.7707\n"
     ]
    },
    {
     "name": "stdout",
     "output_type": "stream",
     "text": [
      "Epoch 49/100\n",
      "\r",
      " 1/36 [..............................] - ETA: 0s - loss: 4.0472 - mae: 1.6528 - mse: 4.0472"
     ]
    },
    {
     "name": "stdout",
     "output_type": "stream",
     "text": [
      "\b\b\b\b\b\b\b\b\b\b\b\b\b\b\b\b\b\b\b\b\b\b\b\b\b\b\b\b\b\b\b\b\b\b\b\b\b\b\b\b\b\b\b\b\b\b\b\b\b\b\b\b\b\b\b\b\b\b\b\b\b\b\b\b\b\b\b\b\b\b\b\b\b\b\b\b\b\b\b\b\b\b\b\b\b\b\b\b\b\b\b\r",
      "33/36 [==========================>...] - ETA: 0s - loss: 7.0413 - mae: 1.8414 - mse: 7.0413"
     ]
    },
    {
     "name": "stdout",
     "output_type": "stream",
     "text": [
      "\b\b\b\b\b\b\b\b\b\b\b\b\b\b\b\b\b\b\b\b\b\b\b\b\b\b\b\b\b\b\b\b\b\b\b\b\b\b\b\b\b\b\b\b\b\b\b\b\b\b\b\b\b\b\b\b\b\b\b\b\b\b\b\b\b\b\b\b\b\b\b\b\b\b\b\b\b\b\b\b\b\b\b\b\b\b\b\b\b\b\b\r",
      "36/36 [==============================] - 0s 3ms/step - loss: 7.1052 - mae: 1.8561 - mse: 7.1052 - val_loss: 12.0984 - val_mae: 2.4790 - val_mse: 12.0984\n"
     ]
    },
    {
     "name": "stdout",
     "output_type": "stream",
     "text": [
      "Epoch 50/100\n"
     ]
    },
    {
     "name": "stdout",
     "output_type": "stream",
     "text": [
      "\r",
      " 1/36 [..............................] - ETA: 0s - loss: 3.3742 - mae: 1.3778 - mse: 3.3742"
     ]
    },
    {
     "name": "stdout",
     "output_type": "stream",
     "text": [
      "\b\b\b\b\b\b\b\b\b\b\b\b\b\b\b\b\b\b\b\b\b\b\b\b\b\b\b\b\b\b\b\b\b\b\b\b\b\b\b\b\b\b\b\b\b\b\b\b\b\b\b\b\b\b\b\b\b\b\b\b\b\b\b\b\b\b\b\b\b\b\b\b\b\b\b\b\b\b\b\b\b\b\b\b\b\b\b\b\b\b\b\r",
      "32/36 [=========================>....] - ETA: 0s - loss: 7.4176 - mae: 1.8562 - mse: 7.4176"
     ]
    },
    {
     "name": "stdout",
     "output_type": "stream",
     "text": [
      "\b\b\b\b\b\b\b\b\b\b\b\b\b\b\b\b\b\b\b\b\b\b\b\b\b\b\b\b\b\b\b\b\b\b\b\b\b\b\b\b\b\b\b\b\b\b\b\b\b\b\b\b\b\b\b\b\b\b\b\b\b\b\b\b\b\b\b\b\b\b\b\b\b\b\b\b\b\b\b\b\b\b\b\b\b\b\b\b\b\b\b\r",
      "36/36 [==============================] - 0s 3ms/step - loss: 7.0675 - mae: 1.8403 - mse: 7.0675 - val_loss: 12.2812 - val_mae: 2.5808 - val_mse: 12.2812\n"
     ]
    },
    {
     "name": "stdout",
     "output_type": "stream",
     "text": [
      "Epoch 51/100\n"
     ]
    },
    {
     "name": "stdout",
     "output_type": "stream",
     "text": [
      "\r",
      " 1/36 [..............................] - ETA: 0s - loss: 5.1731 - mae: 1.8483 - mse: 5.1731"
     ]
    },
    {
     "name": "stdout",
     "output_type": "stream",
     "text": [
      "\b\b\b\b\b\b\b\b\b\b\b\b\b\b\b\b\b\b\b\b\b\b\b\b\b\b\b\b\b\b\b\b\b\b\b\b\b\b\b\b\b\b\b\b\b\b\b\b\b\b\b\b\b\b\b\b\b\b\b\b\b\b\b\b\b\b\b\b\b\b\b\b\b\b\b\b\b\b\b\b\b\b\b\b\b\b\b\b\b\b\b\r",
      "33/36 [==========================>...] - ETA: 0s - loss: 7.0443 - mae: 1.8167 - mse: 7.0443"
     ]
    },
    {
     "name": "stdout",
     "output_type": "stream",
     "text": [
      "\b\b\b\b\b\b\b\b\b\b\b\b\b\b\b\b\b\b\b\b\b\b\b\b\b\b\b\b\b\b\b\b\b\b\b\b\b\b\b\b\b\b\b\b\b\b\b\b\b\b\b\b\b\b\b\b\b\b\b\b\b\b\b\b\b\b\b\b\b\b\b\b\b\b\b\b\b\b\b\b\b\b\b\b\b\b\b\b\b\b\b\r",
      "36/36 [==============================] - 0s 3ms/step - loss: 6.9827 - mae: 1.8372 - mse: 6.9827 - val_loss: 13.0278 - val_mae: 2.5878 - val_mse: 13.0278\n"
     ]
    },
    {
     "name": "stdout",
     "output_type": "stream",
     "text": [
      "Epoch 52/100\n"
     ]
    },
    {
     "name": "stdout",
     "output_type": "stream",
     "text": [
      "\r",
      " 1/36 [..............................] - ETA: 0s - loss: 1.5954 - mae: 1.0496 - mse: 1.5954"
     ]
    },
    {
     "name": "stdout",
     "output_type": "stream",
     "text": [
      "\b\b\b\b\b\b\b\b\b\b\b\b\b\b\b\b\b\b\b\b\b\b\b\b\b\b\b\b\b\b\b\b\b\b\b\b\b\b\b\b\b\b\b\b\b\b\b\b\b\b\b\b\b\b\b\b\b\b\b\b\b\b\b\b\b\b\b\b\b\b\b\b\b\b\b\b\b\b\b\b\b\b\b\b\b\b\b\b\b\b\b\r",
      "32/36 [=========================>....] - ETA: 0s - loss: 6.2871 - mae: 1.8068 - mse: 6.2871"
     ]
    },
    {
     "name": "stdout",
     "output_type": "stream",
     "text": [
      "\b\b\b\b\b\b\b\b\b\b\b\b\b\b\b\b\b\b\b\b\b\b\b\b\b\b\b\b\b\b\b\b\b\b\b\b\b\b\b\b\b\b\b\b\b\b\b\b\b\b\b\b\b\b\b\b\b\b\b\b\b\b\b\b\b\b\b\b\b\b\b\b\b\b\b\b\b\b\b\b\b\b\b\b\b\b\b\b\b\b\b\r",
      "36/36 [==============================] - 0s 3ms/step - loss: 7.1321 - mae: 1.8383 - mse: 7.1321 - val_loss: 11.9308 - val_mae: 2.5689 - val_mse: 11.9308\n"
     ]
    },
    {
     "name": "stdout",
     "output_type": "stream",
     "text": [
      "Epoch 53/100\n"
     ]
    },
    {
     "name": "stdout",
     "output_type": "stream",
     "text": [
      "\r",
      " 1/36 [..............................] - ETA: 0s - loss: 4.6129 - mae: 1.7187 - mse: 4.6129"
     ]
    },
    {
     "name": "stdout",
     "output_type": "stream",
     "text": [
      "\b\b\b\b\b\b\b\b\b\b\b\b\b\b\b\b\b\b\b\b\b\b\b\b\b\b\b\b\b\b\b\b\b\b\b\b\b\b\b\b\b\b\b\b\b\b\b\b\b\b\b\b\b\b\b\b\b\b\b\b\b\b\b\b\b\b\b\b\b\b\b\b\b\b\b\b\b\b\b\b\b\b\b\b\b\b\b\b\b\b\b\r",
      "33/36 [==========================>...] - ETA: 0s - loss: 7.0010 - mae: 1.8325 - mse: 7.0010"
     ]
    },
    {
     "name": "stdout",
     "output_type": "stream",
     "text": [
      "\b\b\b\b\b\b\b\b\b\b\b\b\b\b\b\b\b\b\b\b\b\b\b\b\b\b\b\b\b\b\b\b\b\b\b\b\b\b\b\b\b\b\b\b\b\b\b\b\b\b\b\b\b\b\b\b\b\b\b\b\b\b\b\b\b\b\b\b\b\b\b\b\b\b\b\b\b\b\b\b\b\b\b\b\b\b\b\b\b\b\b\r",
      "36/36 [==============================] - 0s 3ms/step - loss: 6.8513 - mae: 1.8121 - mse: 6.8513 - val_loss: 12.3439 - val_mae: 2.4748 - val_mse: 12.3439\n"
     ]
    },
    {
     "name": "stdout",
     "output_type": "stream",
     "text": [
      "Epoch 54/100\n"
     ]
    },
    {
     "name": "stdout",
     "output_type": "stream",
     "text": [
      "\r",
      " 1/36 [..............................] - ETA: 0s - loss: 3.5751 - mae: 1.5125 - mse: 3.5751"
     ]
    },
    {
     "name": "stdout",
     "output_type": "stream",
     "text": [
      "\b\b\b\b\b\b\b\b\b\b\b\b\b\b\b\b\b\b\b\b\b\b\b\b\b\b\b\b\b\b\b\b\b\b\b\b\b\b\b\b\b\b\b\b\b\b\b\b\b\b\b\b\b\b\b\b\b\b\b\b\b\b\b\b\b\b\b\b\b\b\b\b\b\b\b\b\b\b\b\b\b\b\b\b\b\b\b\b\b\b\b\r",
      "33/36 [==========================>...] - ETA: 0s - loss: 7.0961 - mae: 1.8370 - mse: 7.0961"
     ]
    },
    {
     "name": "stdout",
     "output_type": "stream",
     "text": [
      "\b\b\b\b\b\b\b\b\b\b\b\b\b\b\b\b\b\b\b\b\b\b\b\b\b\b\b\b\b\b\b\b\b\b\b\b\b\b\b\b\b\b\b\b\b\b\b\b\b\b\b\b\b\b\b\b\b\b\b\b\b\b\b\b\b\b\b\b\b\b\b\b\b\b\b\b\b\b\b\b\b\b\b\b\b\b\b\b\b\b\b\r",
      "36/36 [==============================] - 0s 3ms/step - loss: 6.8257 - mae: 1.8074 - mse: 6.8257 - val_loss: 13.1049 - val_mae: 2.7329 - val_mse: 13.1049\n"
     ]
    },
    {
     "name": "stdout",
     "output_type": "stream",
     "text": [
      "Epoch 55/100\n"
     ]
    },
    {
     "name": "stdout",
     "output_type": "stream",
     "text": [
      "\r",
      " 1/36 [..............................] - ETA: 0s - loss: 4.1861 - mae: 1.5949 - mse: 4.1861"
     ]
    },
    {
     "name": "stdout",
     "output_type": "stream",
     "text": [
      "\b\b\b\b\b\b\b\b\b\b\b\b\b\b\b\b\b\b\b\b\b\b\b\b\b\b\b\b\b\b\b\b\b\b\b\b\b\b\b\b\b\b\b\b\b\b\b\b\b\b\b\b\b\b\b\b\b\b\b\b\b\b\b\b\b\b\b\b\b\b\b\b\b\b\b\b\b\b\b\b\b\b\b\b\b\b\b\b\b\b\b\r",
      "33/36 [==========================>...] - ETA: 0s - loss: 6.7908 - mae: 1.8251 - mse: 6.7908"
     ]
    },
    {
     "name": "stdout",
     "output_type": "stream",
     "text": [
      "\b\b\b\b\b\b\b\b\b\b\b\b\b\b\b\b\b\b\b\b\b\b\b\b\b\b\b\b\b\b\b\b\b\b\b\b\b\b\b\b\b\b\b\b\b\b\b\b\b\b\b\b\b\b\b\b\b\b\b\b\b\b\b\b\b\b\b\b\b\b\b\b\b\b\b\b\b\b\b\b\b\b\b\b\b\b\b\b\b\b\b\r",
      "36/36 [==============================] - 0s 3ms/step - loss: 6.7042 - mae: 1.8203 - mse: 6.7042 - val_loss: 11.3388 - val_mae: 2.3720 - val_mse: 11.3388\n"
     ]
    },
    {
     "name": "stdout",
     "output_type": "stream",
     "text": [
      "Epoch 56/100\n",
      "\r",
      " 1/36 [..............................] - ETA: 0s - loss: 8.3143 - mae: 2.6264 - mse: 8.3143"
     ]
    },
    {
     "name": "stdout",
     "output_type": "stream",
     "text": [
      "\b\b\b\b\b\b\b\b\b\b\b\b\b\b\b\b\b\b\b\b\b\b\b\b\b\b\b\b\b\b\b\b\b\b\b\b\b\b\b\b\b\b\b\b\b\b\b\b\b\b\b\b\b\b\b\b\b\b\b\b\b\b\b\b\b\b\b\b\b\b\b\b\b\b\b\b\b\b\b\b\b\b\b\b\b\b\b\b\b\b\b\r",
      "33/36 [==========================>...] - ETA: 0s - loss: 6.5862 - mae: 1.8199 - mse: 6.5862"
     ]
    },
    {
     "name": "stdout",
     "output_type": "stream",
     "text": [
      "\b\b\b\b\b\b\b\b\b\b\b\b\b\b\b\b\b\b\b\b\b\b\b\b\b\b\b\b\b\b\b\b\b\b\b\b\b\b\b\b\b\b\b\b\b\b\b\b\b\b\b\b\b\b\b\b\b\b\b\b\b\b\b\b\b\b\b\b\b\b\b\b\b\b\b\b\b\b\b\b\b\b\b\b\b\b\b\b\b\b\b\r",
      "36/36 [==============================] - 0s 3ms/step - loss: 6.7872 - mae: 1.8252 - mse: 6.7872 - val_loss: 11.9651 - val_mae: 2.5540 - val_mse: 11.9651\n"
     ]
    },
    {
     "name": "stdout",
     "output_type": "stream",
     "text": [
      "Epoch 57/100\n",
      "\r",
      " 1/36 [..............................] - ETA: 0s - loss: 2.4972 - mae: 1.3958 - mse: 2.4972"
     ]
    },
    {
     "name": "stdout",
     "output_type": "stream",
     "text": [
      "\b\b\b\b\b\b\b\b\b\b\b\b\b\b\b\b\b\b\b\b\b\b\b\b\b\b\b\b\b\b\b\b\b\b\b\b\b\b\b\b\b\b\b\b\b\b\b\b\b\b\b\b\b\b\b\b\b\b\b\b\b\b\b\b\b\b\b\b\b\b\b\b\b\b\b\b\b\b\b\b\b\b\b\b\b\b\b\b\b\b\b\r",
      "33/36 [==========================>...] - ETA: 0s - loss: 6.5551 - mae: 1.7886 - mse: 6.5551"
     ]
    },
    {
     "name": "stdout",
     "output_type": "stream",
     "text": [
      "\b\b\b\b\b\b\b\b\b\b\b\b\b\b\b\b\b\b\b\b\b\b\b\b\b\b\b\b\b\b\b\b\b\b\b\b\b\b\b\b\b\b\b\b\b\b\b\b\b\b\b\b\b\b\b\b\b\b\b\b\b\b\b\b\b\b\b\b\b\b\b\b\b\b\b\b\b\b\b\b\b\b\b\b\b\b\b\b\b\b\b\r",
      "36/36 [==============================] - 0s 3ms/step - loss: 6.4978 - mae: 1.7850 - mse: 6.4978 - val_loss: 11.2586 - val_mae: 2.4161 - val_mse: 11.2586\n"
     ]
    },
    {
     "name": "stdout",
     "output_type": "stream",
     "text": [
      "Epoch 58/100\n",
      "\r",
      " 1/36 [..............................] - ETA: 0s - loss: 4.7226 - mae: 1.8762 - mse: 4.7226"
     ]
    },
    {
     "name": "stdout",
     "output_type": "stream",
     "text": [
      "\b\b\b\b\b\b\b\b\b\b\b\b\b\b\b\b\b\b\b\b\b\b\b\b\b\b\b\b\b\b\b\b\b\b\b\b\b\b\b\b\b\b\b\b\b\b\b\b\b\b\b\b\b\b\b\b\b\b\b\b\b\b\b\b\b\b\b\b\b\b\b\b\b\b\b\b\b\b\b\b\b\b\b\b\b\b\b\b\b\b\b\r",
      "32/36 [=========================>....] - ETA: 0s - loss: 6.3957 - mae: 1.7815 - mse: 6.3957"
     ]
    },
    {
     "name": "stdout",
     "output_type": "stream",
     "text": [
      "\b\b\b\b\b\b\b\b\b\b\b\b\b\b\b\b\b\b\b\b\b\b\b\b\b\b\b\b\b\b\b\b\b\b\b\b\b\b\b\b\b\b\b\b\b\b\b\b\b\b\b\b\b\b\b\b\b\b\b\b\b\b\b\b\b\b\b\b\b\b\b\b\b\b\b\b\b\b\b\b\b\b\b\b\b\b\b\b\b\b\b\r",
      "36/36 [==============================] - 0s 3ms/step - loss: 6.4010 - mae: 1.7627 - mse: 6.4010 - val_loss: 11.7428 - val_mae: 2.4010 - val_mse: 11.7428\n"
     ]
    },
    {
     "name": "stdout",
     "output_type": "stream",
     "text": [
      "Epoch 59/100\n",
      "\r",
      " 1/36 [..............................] - ETA: 0s - loss: 1.9786 - mae: 1.0273 - mse: 1.9786"
     ]
    },
    {
     "name": "stdout",
     "output_type": "stream",
     "text": [
      "\b\b\b\b\b\b\b\b\b\b\b\b\b\b\b\b\b\b\b\b\b\b\b\b\b\b\b\b\b\b\b\b\b\b\b\b\b\b\b\b\b\b\b\b\b\b\b\b\b\b\b\b\b\b\b\b\b\b\b\b\b\b\b\b\b\b\b\b\b\b\b\b\b\b\b\b\b\b\b\b\b\b\b\b\b\b\b\b\b\b\b\r",
      "33/36 [==========================>...] - ETA: 0s - loss: 6.4023 - mae: 1.7496 - mse: 6.4023"
     ]
    },
    {
     "name": "stdout",
     "output_type": "stream",
     "text": [
      "\b\b\b\b\b\b\b\b\b\b\b\b\b\b\b\b\b\b\b\b\b\b\b\b\b\b\b\b\b\b\b\b\b\b\b\b\b\b\b\b\b\b\b\b\b\b\b\b\b\b\b\b\b\b\b\b\b\b\b\b\b\b\b\b\b\b\b\b\b\b\b\b\b\b\b\b\b\b\b\b\b\b\b\b\b\b\b\b\b\b\b\r",
      "36/36 [==============================] - 0s 3ms/step - loss: 6.4722 - mae: 1.7676 - mse: 6.4722 - val_loss: 11.7174 - val_mae: 2.5212 - val_mse: 11.7174\n"
     ]
    },
    {
     "name": "stdout",
     "output_type": "stream",
     "text": [
      "Epoch 60/100\n"
     ]
    },
    {
     "name": "stdout",
     "output_type": "stream",
     "text": [
      "\r",
      " 1/36 [..............................] - ETA: 0s - loss: 8.6044 - mae: 2.3831 - mse: 8.6044"
     ]
    },
    {
     "name": "stdout",
     "output_type": "stream",
     "text": [
      "\b\b\b\b\b\b\b\b\b\b\b\b\b\b\b\b\b\b\b\b\b\b\b\b\b\b\b\b\b\b\b\b\b\b\b\b\b\b\b\b\b\b\b\b\b\b\b\b\b\b\b\b\b\b\b\b\b\b\b\b\b\b\b\b\b\b\b\b\b\b\b\b\b\b\b\b\b\b\b\b\b\b\b\b\b\b\b\b\b\b\b\r",
      "32/36 [=========================>....] - ETA: 0s - loss: 6.4757 - mae: 1.7994 - mse: 6.4757"
     ]
    },
    {
     "name": "stdout",
     "output_type": "stream",
     "text": [
      "\b\b\b\b\b\b\b\b\b\b\b\b\b\b\b\b\b\b\b\b\b\b\b\b\b\b\b\b\b\b\b\b\b\b\b\b\b\b\b\b\b\b\b\b\b\b\b\b\b\b\b\b\b\b\b\b\b\b\b\b\b\b\b\b\b\b\b\b\b\b\b\b\b\b\b\b\b\b\b\b\b\b\b\b\b\b\b\b\b\b\b\r",
      "36/36 [==============================] - 0s 3ms/step - loss: 6.1854 - mae: 1.7711 - mse: 6.1854 - val_loss: 11.6870 - val_mae: 2.4226 - val_mse: 11.6870\n"
     ]
    },
    {
     "name": "stdout",
     "output_type": "stream",
     "text": [
      "Epoch 61/100\n"
     ]
    },
    {
     "name": "stdout",
     "output_type": "stream",
     "text": [
      "\r",
      " 1/36 [..............................] - ETA: 0s - loss: 12.0178 - mae: 2.3819 - mse: 12.0178"
     ]
    },
    {
     "name": "stdout",
     "output_type": "stream",
     "text": [
      "\b\b\b\b\b\b\b\b\b\b\b\b\b\b\b\b\b\b\b\b\b\b\b\b\b\b\b\b\b\b\b\b\b\b\b\b\b\b\b\b\b\b\b\b\b\b\b\b\b\b\b\b\b\b\b\b\b\b\b\b\b\b\b\b\b\b\b\b\b\b\b\b\b\b\b\b\b\b\b\b\b\b\b\b\b\b\b\b\b\b\b\b\b\r",
      "32/36 [=========================>....] - ETA: 0s - loss: 6.5799 - mae: 1.7930 - mse: 6.5799  "
     ]
    },
    {
     "name": "stdout",
     "output_type": "stream",
     "text": [
      "\b\b\b\b\b\b\b\b\b\b\b\b\b\b\b\b\b\b\b\b\b\b\b\b\b\b\b\b\b\b\b\b\b\b\b\b\b\b\b\b\b\b\b\b\b\b\b\b\b\b\b\b\b\b\b\b\b\b\b\b\b\b\b\b\b\b\b\b\b\b\b\b\b\b\b\b\b\b\b\b\b\b\b\b\b\b\b\b\b\b\b\r",
      "36/36 [==============================] - 0s 3ms/step - loss: 6.2941 - mae: 1.7753 - mse: 6.2941 - val_loss: 11.6667 - val_mae: 2.4761 - val_mse: 11.6667\n"
     ]
    },
    {
     "name": "stdout",
     "output_type": "stream",
     "text": [
      "Epoch 62/100\n"
     ]
    },
    {
     "name": "stdout",
     "output_type": "stream",
     "text": [
      "\r",
      " 1/36 [..............................] - ETA: 0s - loss: 6.9510 - mae: 1.8016 - mse: 6.9510"
     ]
    },
    {
     "name": "stdout",
     "output_type": "stream",
     "text": [
      "\b\b\b\b\b\b\b\b\b\b\b\b\b\b\b\b\b\b\b\b\b\b\b\b\b\b\b\b\b\b\b\b\b\b\b\b\b\b\b\b\b\b\b\b\b\b\b\b\b\b\b\b\b\b\b\b\b\b\b\b\b\b\b\b\b\b\b\b\b\b\b\b\b\b\b\b\b\b\b\b\b\b\b\b\b\b\b\b\b\b\b\r",
      "32/36 [=========================>....] - ETA: 0s - loss: 5.9816 - mae: 1.7457 - mse: 5.9816"
     ]
    },
    {
     "name": "stdout",
     "output_type": "stream",
     "text": [
      "\b\b\b\b\b\b\b\b\b\b\b\b\b\b\b\b\b\b\b\b\b\b\b\b\b\b\b\b\b\b\b\b\b\b\b\b\b\b\b\b\b\b\b\b\b\b\b\b\b\b\b\b\b\b\b\b\b\b\b\b\b\b\b\b\b\b\b\b\b\b\b\b\b\b\b\b\b\b\b\b\b\b\b\b\b\b\b\b\b\b\b\r",
      "36/36 [==============================] - 0s 3ms/step - loss: 6.0772 - mae: 1.7589 - mse: 6.0772 - val_loss: 12.1629 - val_mae: 2.6408 - val_mse: 12.1629\n"
     ]
    },
    {
     "name": "stdout",
     "output_type": "stream",
     "text": [
      "Epoch 63/100\n"
     ]
    },
    {
     "name": "stdout",
     "output_type": "stream",
     "text": [
      "\r",
      " 1/36 [..............................] - ETA: 0s - loss: 2.6114 - mae: 1.2515 - mse: 2.6114"
     ]
    },
    {
     "name": "stdout",
     "output_type": "stream",
     "text": [
      "\b\b\b\b\b\b\b\b\b\b\b\b\b\b\b\b\b\b\b\b\b\b\b\b\b\b\b\b\b\b\b\b\b\b\b\b\b\b\b\b\b\b\b\b\b\b\b\b\b\b\b\b\b\b\b\b\b\b\b\b\b\b\b\b\b\b\b\b\b\b\b\b\b\b\b\b\b\b\b\b\b\b\b\b\b\b\b\b\b\b\b\r",
      "32/36 [=========================>....] - ETA: 0s - loss: 5.9435 - mae: 1.7174 - mse: 5.9435"
     ]
    },
    {
     "name": "stdout",
     "output_type": "stream",
     "text": [
      "\b\b\b\b\b\b\b\b\b\b\b\b\b\b\b\b\b\b\b\b\b\b\b\b\b\b\b\b\b\b\b\b\b\b\b\b\b\b\b\b\b\b\b\b\b\b\b\b\b\b\b\b\b\b\b\b\b\b\b\b\b\b\b\b\b\b\b\b\b\b\b\b\b\b\b\b\b\b\b\b\b\b\b\b\b\b\b\b\b\b\b\r",
      "36/36 [==============================] - 0s 3ms/step - loss: 6.1771 - mae: 1.7418 - mse: 6.1771 - val_loss: 12.3861 - val_mae: 2.4496 - val_mse: 12.3861\n"
     ]
    },
    {
     "name": "stdout",
     "output_type": "stream",
     "text": [
      "Epoch 64/100\n"
     ]
    },
    {
     "name": "stdout",
     "output_type": "stream",
     "text": [
      "\r",
      " 1/36 [..............................] - ETA: 0s - loss: 2.3628 - mae: 0.9805 - mse: 2.3628"
     ]
    },
    {
     "name": "stdout",
     "output_type": "stream",
     "text": [
      "\b\b\b\b\b\b\b\b\b\b\b\b\b\b\b\b\b\b\b\b\b\b\b\b\b\b\b\b\b\b\b\b\b\b\b\b\b\b\b\b\b\b\b\b\b\b\b\b\b\b\b\b\b\b\b\b\b\b\b\b\b\b\b\b\b\b\b\b\b\b\b\b\b\b\b\b\b\b\b\b\b\b\b\b\b\b\b\b\b\b\b\r",
      "32/36 [=========================>....] - ETA: 0s - loss: 6.2883 - mae: 1.7498 - mse: 6.2883"
     ]
    },
    {
     "name": "stdout",
     "output_type": "stream",
     "text": [
      "\b\b\b\b\b\b\b\b\b\b\b\b\b\b\b\b\b\b\b\b\b\b\b\b\b\b\b\b\b\b\b\b\b\b\b\b\b\b\b\b\b\b\b\b\b\b\b\b\b\b\b\b\b\b\b\b\b\b\b\b\b\b\b\b\b\b\b\b\b\b\b\b\b\b\b\b\b\b\b\b\b\b\b\b\b\b\b\b\b\b\b\r",
      "36/36 [==============================] - 0s 3ms/step - loss: 6.1258 - mae: 1.7396 - mse: 6.1258 - val_loss: 11.3048 - val_mae: 2.4540 - val_mse: 11.3048\n"
     ]
    },
    {
     "name": "stdout",
     "output_type": "stream",
     "text": [
      "Epoch 65/100\n"
     ]
    },
    {
     "name": "stdout",
     "output_type": "stream",
     "text": [
      "\r",
      " 1/36 [..............................] - ETA: 0s - loss: 13.5293 - mae: 2.8158 - mse: 13.5293"
     ]
    },
    {
     "name": "stdout",
     "output_type": "stream",
     "text": [
      "\b\b\b\b\b\b\b\b\b\b\b\b\b\b\b\b\b\b\b\b\b\b\b\b\b\b\b\b\b\b\b\b\b\b\b\b\b\b\b\b\b\b\b\b\b\b\b\b\b\b\b\b\b\b\b\b\b\b\b\b\b\b\b\b\b\b\b\b\b\b\b\b\b\b\b\b\b\b\b\b\b\b\b\b\b\b\b\b\b\b\b\b\b\r",
      "32/36 [=========================>....] - ETA: 0s - loss: 6.1709 - mae: 1.7641 - mse: 6.1709  "
     ]
    },
    {
     "name": "stdout",
     "output_type": "stream",
     "text": [
      "\b\b\b\b\b\b\b\b\b\b\b\b\b\b\b\b\b\b\b\b\b\b\b\b\b\b\b\b\b\b\b\b\b\b\b\b\b\b\b\b\b\b\b\b\b\b\b\b\b\b\b\b\b\b\b\b\b\b\b\b\b\b\b\b\b\b\b\b\b\b\b\b\b\b\b\b\b\b\b\b\b\b\b\b\b\b\b\b\b\b\b\r",
      "36/36 [==============================] - 0s 3ms/step - loss: 5.9367 - mae: 1.7461 - mse: 5.9367 - val_loss: 11.9743 - val_mae: 2.4947 - val_mse: 11.9743\n"
     ]
    },
    {
     "name": "stdout",
     "output_type": "stream",
     "text": [
      "Epoch 66/100\n"
     ]
    },
    {
     "name": "stdout",
     "output_type": "stream",
     "text": [
      "\r",
      " 1/36 [..............................] - ETA: 0s - loss: 7.3550 - mae: 2.4893 - mse: 7.3550"
     ]
    },
    {
     "name": "stdout",
     "output_type": "stream",
     "text": [
      "\b\b\b\b\b\b\b\b\b\b\b\b\b\b\b\b\b\b\b\b\b\b\b\b\b\b\b\b\b\b\b\b\b\b\b\b\b\b\b\b\b\b\b\b\b\b\b\b\b\b\b\b\b\b\b\b\b\b\b\b\b\b\b\b\b\b\b\b\b\b\b\b\b\b\b\b\b\b\b\b\b\b\b\b\b\b\b\b\b\b\b\r",
      "33/36 [==========================>...] - ETA: 0s - loss: 5.9550 - mae: 1.6928 - mse: 5.9550"
     ]
    },
    {
     "name": "stdout",
     "output_type": "stream",
     "text": [
      "\b\b\b\b\b\b\b\b\b\b\b\b\b\b\b\b\b\b\b\b\b\b\b\b\b\b\b\b\b\b\b\b\b\b\b\b\b\b\b\b\b\b\b\b\b\b\b\b\b\b\b\b\b\b\b\b\b\b\b\b\b\b\b\b\b\b\b\b\b\b\b\b\b\b\b\b\b\b\b\b\b\b\b\b\b\b\b\b\b\b\b\r",
      "36/36 [==============================] - 1s 29ms/step - loss: 5.9206 - mae: 1.6829 - mse: 5.9206 - val_loss: 11.1031 - val_mae: 2.3541 - val_mse: 11.1031\n"
     ]
    },
    {
     "name": "stdout",
     "output_type": "stream",
     "text": [
      "Epoch 67/100\n",
      "\r",
      " 1/36 [..............................] - ETA: 0s - loss: 3.6156 - mae: 1.4245 - mse: 3.6156"
     ]
    },
    {
     "name": "stdout",
     "output_type": "stream",
     "text": [
      "\b\b\b\b\b\b\b\b\b\b\b\b\b\b\b\b\b\b\b\b\b\b\b\b\b\b\b\b\b\b\b\b\b\b\b\b\b\b\b\b\b\b\b\b\b\b\b\b\b\b\b\b\b\b\b\b\b\b\b\b\b\b\b\b\b\b\b\b\b\b\b\b\b\b\b\b\b\b\b\b\b\b\b\b\b\b\b\b\b\b\b\r",
      "33/36 [==========================>...] - ETA: 0s - loss: 5.9119 - mae: 1.6807 - mse: 5.9119"
     ]
    },
    {
     "name": "stdout",
     "output_type": "stream",
     "text": [
      "\b\b\b\b\b\b\b\b\b\b\b\b\b\b\b\b\b\b\b\b\b\b\b\b\b\b\b\b\b\b\b\b\b\b\b\b\b\b\b\b\b\b\b\b\b\b\b\b\b\b\b\b\b\b\b\b\b\b\b\b\b\b\b\b\b\b\b\b\b\b\b\b\b\b\b\b\b\b\b\b\b\b\b\b\b\b\b\b\b\b\b\r",
      "36/36 [==============================] - 0s 3ms/step - loss: 5.7106 - mae: 1.6617 - mse: 5.7106 - val_loss: 11.2678 - val_mae: 2.4766 - val_mse: 11.2678\n"
     ]
    },
    {
     "name": "stdout",
     "output_type": "stream",
     "text": [
      "Epoch 68/100\n",
      "\r",
      " 1/36 [..............................] - ETA: 0s - loss: 1.7926 - mae: 1.1787 - mse: 1.7926"
     ]
    },
    {
     "name": "stdout",
     "output_type": "stream",
     "text": [
      "\b\b\b\b\b\b\b\b\b\b\b\b\b\b\b\b\b\b\b\b\b\b\b\b\b\b\b\b\b\b\b\b\b\b\b\b\b\b\b\b\b\b\b\b\b\b\b\b\b\b\b\b\b\b\b\b\b\b\b\b\b\b\b\b\b\b\b\b\b\b\b\b\b\b\b\b\b\b\b\b\b\b\b\b\b\b\b\b\b\b\b\r",
      "32/36 [=========================>....] - ETA: 0s - loss: 6.0087 - mae: 1.7495 - mse: 6.0087"
     ]
    },
    {
     "name": "stdout",
     "output_type": "stream",
     "text": [
      "\b\b\b\b\b\b\b\b\b\b\b\b\b\b\b\b\b\b\b\b\b\b\b\b\b\b\b\b\b\b\b\b\b\b\b\b\b\b\b\b\b\b\b\b\b\b\b\b\b\b\b\b\b\b\b\b\b\b\b\b\b\b\b\b\b\b\b\b\b\b\b\b\b\b\b\b\b\b\b\b\b\b\b\b\b\b\b\b\b\b\b\r",
      "36/36 [==============================] - 0s 3ms/step - loss: 5.7699 - mae: 1.7177 - mse: 5.7699 - val_loss: 12.0539 - val_mae: 2.4515 - val_mse: 12.0539\n"
     ]
    },
    {
     "name": "stdout",
     "output_type": "stream",
     "text": [
      "Epoch 69/100\n"
     ]
    },
    {
     "name": "stdout",
     "output_type": "stream",
     "text": [
      "\r",
      " 1/36 [..............................] - ETA: 0s - loss: 4.4837 - mae: 1.6533 - mse: 4.4837"
     ]
    },
    {
     "name": "stdout",
     "output_type": "stream",
     "text": [
      "\b\b\b\b\b\b\b\b\b\b\b\b\b\b\b\b\b\b\b\b\b\b\b\b\b\b\b\b\b\b\b\b\b\b\b\b\b\b\b\b\b\b\b\b\b\b\b\b\b\b\b\b\b\b\b\b\b\b\b\b\b\b\b\b\b\b\b\b\b\b\b\b\b\b\b\b\b\b\b\b\b\b\b\b\b\b\b\b\b\b\b\r",
      "33/36 [==========================>...] - ETA: 0s - loss: 5.9718 - mae: 1.7056 - mse: 5.9718"
     ]
    },
    {
     "name": "stdout",
     "output_type": "stream",
     "text": [
      "\b\b\b\b\b\b\b\b\b\b\b\b\b\b\b\b\b\b\b\b\b\b\b\b\b\b\b\b\b\b\b\b\b\b\b\b\b\b\b\b\b\b\b\b\b\b\b\b\b\b\b\b\b\b\b\b\b\b\b\b\b\b\b\b\b\b\b\b\b\b\b\b\b\b\b\b\b\b\b\b\b\b\b\b\b\b\b\b\b\b\b\r",
      "36/36 [==============================] - 0s 3ms/step - loss: 5.9233 - mae: 1.7023 - mse: 5.9233 - val_loss: 11.4292 - val_mae: 2.3618 - val_mse: 11.4292\n"
     ]
    },
    {
     "name": "stdout",
     "output_type": "stream",
     "text": [
      "Epoch 70/100\n"
     ]
    },
    {
     "name": "stdout",
     "output_type": "stream",
     "text": [
      "\r",
      " 1/36 [..............................] - ETA: 0s - loss: 3.7952 - mae: 1.3921 - mse: 3.7952"
     ]
    },
    {
     "name": "stdout",
     "output_type": "stream",
     "text": [
      "\b\b\b\b\b\b\b\b\b\b\b\b\b\b\b\b\b\b\b\b\b\b\b\b\b\b\b\b\b\b\b\b\b\b\b\b\b\b\b\b\b\b\b\b\b\b\b\b\b\b\b\b\b\b\b\b\b\b\b\b\b\b\b\b\b\b\b\b\b\b\b\b\b\b\b\b\b\b\b\b\b\b\b\b\b\b\b\b\b\b\b\r",
      "33/36 [==========================>...] - ETA: 0s - loss: 5.6720 - mae: 1.6487 - mse: 5.6720"
     ]
    },
    {
     "name": "stdout",
     "output_type": "stream",
     "text": [
      "\b\b\b\b\b\b\b\b\b\b\b\b\b\b\b\b\b\b\b\b\b\b\b\b\b\b\b\b\b\b\b\b\b\b\b\b\b\b\b\b\b\b\b\b\b\b\b\b\b\b\b\b\b\b\b\b\b\b\b\b\b\b\b\b\b\b\b\b\b\b\b\b\b\b\b\b\b\b\b\b\b\b\b\b\b\b\b\b\b\b\b\r",
      "36/36 [==============================] - 0s 3ms/step - loss: 5.7177 - mae: 1.6654 - mse: 5.7177 - val_loss: 11.9285 - val_mae: 2.5545 - val_mse: 11.9285\n"
     ]
    },
    {
     "name": "stdout",
     "output_type": "stream",
     "text": [
      "Epoch 71/100\n"
     ]
    },
    {
     "name": "stdout",
     "output_type": "stream",
     "text": [
      "\r",
      " 1/36 [..............................] - ETA: 0s - loss: 2.9527 - mae: 1.3413 - mse: 2.9527"
     ]
    },
    {
     "name": "stdout",
     "output_type": "stream",
     "text": [
      "\b\b\b\b\b\b\b\b\b\b\b\b\b\b\b\b\b\b\b\b\b\b\b\b\b\b\b\b\b\b\b\b\b\b\b\b\b\b\b\b\b\b\b\b\b\b\b\b\b\b\b\b\b\b\b\b\b\b\b\b\b\b\b\b\b\b\b\b\b\b\b\b\b\b\b\b\b\b\b\b\b\b\b\b\b\b\b\b\b\b\b\r",
      "33/36 [==========================>...] - ETA: 0s - loss: 5.6087 - mae: 1.6713 - mse: 5.6087"
     ]
    },
    {
     "name": "stdout",
     "output_type": "stream",
     "text": [
      "\b\b\b\b\b\b\b\b\b\b\b\b\b\b\b\b\b\b\b\b\b\b\b\b\b\b\b\b\b\b\b\b\b\b\b\b\b\b\b\b\b\b\b\b\b\b\b\b\b\b\b\b\b\b\b\b\b\b\b\b\b\b\b\b\b\b\b\b\b\b\b\b\b\b\b\b\b\b\b\b\b\b\b\b\b\b\b\b\b\b\b\r",
      "36/36 [==============================] - 0s 3ms/step - loss: 5.6906 - mae: 1.6961 - mse: 5.6906 - val_loss: 11.5343 - val_mae: 2.4631 - val_mse: 11.5343\n"
     ]
    },
    {
     "name": "stdout",
     "output_type": "stream",
     "text": [
      "Epoch 72/100\n"
     ]
    },
    {
     "name": "stdout",
     "output_type": "stream",
     "text": [
      "\r",
      " 1/36 [..............................] - ETA: 0s - loss: 3.0792 - mae: 1.5354 - mse: 3.0792"
     ]
    },
    {
     "name": "stdout",
     "output_type": "stream",
     "text": [
      "\b\b\b\b\b\b\b\b\b\b\b\b\b\b\b\b\b\b\b\b\b\b\b\b\b\b\b\b\b\b\b\b\b\b\b\b\b\b\b\b\b\b\b\b\b\b\b\b\b\b\b\b\b\b\b\b\b\b\b\b\b\b\b\b\b\b\b\b\b\b\b\b\b\b\b\b\b\b\b\b\b\b\b\b\b\b\b\b\b\b\b\r",
      "33/36 [==========================>...] - ETA: 0s - loss: 5.7745 - mae: 1.7188 - mse: 5.7745"
     ]
    },
    {
     "name": "stdout",
     "output_type": "stream",
     "text": [
      "\b\b\b\b\b\b\b\b\b\b\b\b\b\b\b\b\b\b\b\b\b\b\b\b\b\b\b\b\b\b\b\b\b\b\b\b\b\b\b\b\b\b\b\b\b\b\b\b\b\b\b\b\b\b\b\b\b\b\b\b\b\b\b\b\b\b\b\b\b\b\b\b\b\b\b\b\b\b\b\b\b\b\b\b\b\b\b\b\b\b\b\r",
      "36/36 [==============================] - 0s 3ms/step - loss: 5.5993 - mae: 1.6961 - mse: 5.5993 - val_loss: 11.2920 - val_mae: 2.4229 - val_mse: 11.2920\n"
     ]
    },
    {
     "name": "stdout",
     "output_type": "stream",
     "text": [
      "Epoch 73/100\n"
     ]
    },
    {
     "name": "stdout",
     "output_type": "stream",
     "text": [
      "\r",
      " 1/36 [..............................] - ETA: 0s - loss: 2.8064 - mae: 1.5012 - mse: 2.8064"
     ]
    },
    {
     "name": "stdout",
     "output_type": "stream",
     "text": [
      "\b\b\b\b\b\b\b\b\b\b\b\b\b\b\b\b\b\b\b\b\b\b\b\b\b\b\b\b\b\b\b\b\b\b\b\b\b\b\b\b\b\b\b\b\b\b\b\b\b\b\b\b\b\b\b\b\b\b\b\b\b\b\b\b\b\b\b\b\b\b\b\b\b\b\b\b\b\b\b\b\b\b\b\b\b\b\b\b\b\b\b\r",
      "33/36 [==========================>...] - ETA: 0s - loss: 5.2601 - mae: 1.6244 - mse: 5.2601"
     ]
    },
    {
     "name": "stdout",
     "output_type": "stream",
     "text": [
      "\b\b\b\b\b\b\b\b\b\b\b\b\b\b\b\b\b\b\b\b\b\b\b\b\b\b\b\b\b\b\b\b\b\b\b\b\b\b\b\b\b\b\b\b\b\b\b\b\b\b\b\b\b\b\b\b\b\b\b\b\b\b\b\b\b\b\b\b\b\b\b\b\b\b\b\b\b\b\b\b\b\b\b\b\b\b\b\b\b\b\b\r",
      "36/36 [==============================] - 0s 3ms/step - loss: 5.5948 - mae: 1.6596 - mse: 5.5948 - val_loss: 11.2798 - val_mae: 2.3567 - val_mse: 11.2798\n"
     ]
    },
    {
     "name": "stdout",
     "output_type": "stream",
     "text": [
      "Epoch 74/100\n"
     ]
    },
    {
     "name": "stdout",
     "output_type": "stream",
     "text": [
      "\r",
      " 1/36 [..............................] - ETA: 0s - loss: 4.7736 - mae: 1.8047 - mse: 4.7736"
     ]
    },
    {
     "name": "stdout",
     "output_type": "stream",
     "text": [
      "\b\b\b\b\b\b\b\b\b\b\b\b\b\b\b\b\b\b\b\b\b\b\b\b\b\b\b\b\b\b\b\b\b\b\b\b\b\b\b\b\b\b\b\b\b\b\b\b\b\b\b\b\b\b\b\b\b\b\b\b\b\b\b\b\b\b\b\b\b\b\b\b\b\b\b\b\b\b\b\b\b\b\b\b\b\b\b\b\b\b\b\r",
      "32/36 [=========================>....] - ETA: 0s - loss: 5.4904 - mae: 1.6649 - mse: 5.4904"
     ]
    },
    {
     "name": "stdout",
     "output_type": "stream",
     "text": [
      "\b\b\b\b\b\b\b\b\b\b\b\b\b\b\b\b\b\b\b\b\b\b\b\b\b\b\b\b\b\b\b\b\b\b\b\b\b\b\b\b\b\b\b\b\b\b\b\b\b\b\b\b\b\b\b\b\b\b\b\b\b\b\b\b\b\b\b\b\b\b\b\b\b\b\b\b\b\b\b\b\b\b\b\b\b\b\b\b\b\b\b\r",
      "36/36 [==============================] - 0s 3ms/step - loss: 5.3196 - mae: 1.6426 - mse: 5.3196 - val_loss: 11.6957 - val_mae: 2.4471 - val_mse: 11.6957\n"
     ]
    },
    {
     "name": "stdout",
     "output_type": "stream",
     "text": [
      "Epoch 75/100\n"
     ]
    },
    {
     "name": "stdout",
     "output_type": "stream",
     "text": [
      "\r",
      " 1/36 [..............................] - ETA: 0s - loss: 5.2588 - mae: 1.8478 - mse: 5.2588"
     ]
    },
    {
     "name": "stdout",
     "output_type": "stream",
     "text": [
      "\b\b\b\b\b\b\b\b\b\b\b\b\b\b\b\b\b\b\b\b\b\b\b\b\b\b\b\b\b\b\b\b\b\b\b\b\b\b\b\b\b\b\b\b\b\b\b\b\b\b\b\b\b\b\b\b\b\b\b\b\b\b\b\b\b\b\b\b\b\b\b\b\b\b\b\b\b\b\b\b\b\b\b\b\b\b\b\b\b\b\b\r",
      "32/36 [=========================>....] - ETA: 0s - loss: 5.5334 - mae: 1.6370 - mse: 5.5334"
     ]
    },
    {
     "name": "stdout",
     "output_type": "stream",
     "text": [
      "\b\b\b\b\b\b\b\b\b\b\b\b\b\b\b\b\b\b\b\b\b\b\b\b\b\b\b\b\b\b\b\b\b\b\b\b\b\b\b\b\b\b\b\b\b\b\b\b\b\b\b\b\b\b\b\b\b\b\b\b\b\b\b\b\b\b\b\b\b\b\b\b\b\b\b\b\b\b\b\b\b\b\b\b\b\b\b\b\b\b\b\r",
      "36/36 [==============================] - 0s 3ms/step - loss: 5.3766 - mae: 1.6243 - mse: 5.3766 - val_loss: 11.5355 - val_mae: 2.3920 - val_mse: 11.5355\n"
     ]
    },
    {
     "name": "stdout",
     "output_type": "stream",
     "text": [
      "Epoch 76/100\n",
      "\r",
      " 1/36 [..............................] - ETA: 0s - loss: 7.5533 - mae: 1.9012 - mse: 7.5533"
     ]
    },
    {
     "name": "stdout",
     "output_type": "stream",
     "text": [
      "\b\b\b\b\b\b\b\b\b\b\b\b\b\b\b\b\b\b\b\b\b\b\b\b\b\b\b\b\b\b\b\b\b\b\b\b\b\b\b\b\b\b\b\b\b\b\b\b\b\b\b\b\b\b\b\b\b\b\b\b\b\b\b\b\b\b\b\b\b\b\b\b\b\b\b\b\b\b\b\b\b\b\b\b\b\b\b\b\b\b\b\r",
      "33/36 [==========================>...] - ETA: 0s - loss: 4.9337 - mae: 1.6329 - mse: 4.9337"
     ]
    },
    {
     "name": "stdout",
     "output_type": "stream",
     "text": [
      "\b\b\b\b\b\b\b\b\b\b\b\b\b\b\b\b\b\b\b\b\b\b\b\b\b\b\b\b\b\b\b\b\b\b\b\b\b\b\b\b\b\b\b\b\b\b\b\b\b\b\b\b\b\b\b\b\b\b\b\b\b\b\b\b\b\b\b\b\b\b\b\b\b\b\b\b\b\b\b\b\b\b\b\b\b\b\b\b\b\b\b\r",
      "36/36 [==============================] - 0s 3ms/step - loss: 5.2362 - mae: 1.6352 - mse: 5.2362 - val_loss: 11.4039 - val_mae: 2.4964 - val_mse: 11.4039\n"
     ]
    },
    {
     "name": "stdout",
     "output_type": "stream",
     "text": [
      "Epoch 77/100\n",
      "\r",
      " 1/36 [..............................] - ETA: 0s - loss: 1.0806 - mae: 0.8339 - mse: 1.0806"
     ]
    },
    {
     "name": "stdout",
     "output_type": "stream",
     "text": [
      "\b\b\b\b\b\b\b\b\b\b\b\b\b\b\b\b\b\b\b\b\b\b\b\b\b\b\b\b\b\b\b\b\b\b\b\b\b\b\b\b\b\b\b\b\b\b\b\b\b\b\b\b\b\b\b\b\b\b\b\b\b\b\b\b\b\b\b\b\b\b\b\b\b\b\b\b\b\b\b\b\b\b\b\b\b\b\b\b\b\b\b\r",
      "33/36 [==========================>...] - ETA: 0s - loss: 4.8676 - mae: 1.6063 - mse: 4.8676"
     ]
    },
    {
     "name": "stdout",
     "output_type": "stream",
     "text": [
      "\b\b\b\b\b\b\b\b\b\b\b\b\b\b\b\b\b\b\b\b\b\b\b\b\b\b\b\b\b\b\b\b\b\b\b\b\b\b\b\b\b\b\b\b\b\b\b\b\b\b\b\b\b\b\b\b\b\b\b\b\b\b\b\b\b\b\b\b\b\b\b\b\b\b\b\b\b\b\b\b\b\b\b\b\b\b\b\b\b\b\b\r",
      "36/36 [==============================] - 0s 3ms/step - loss: 5.2376 - mae: 1.6263 - mse: 5.2376 - val_loss: 11.8549 - val_mae: 2.4969 - val_mse: 11.8549\n"
     ]
    },
    {
     "name": "stdout",
     "output_type": "stream",
     "text": [
      "Epoch 78/100\n"
     ]
    },
    {
     "name": "stdout",
     "output_type": "stream",
     "text": [
      "\r",
      " 1/36 [..............................] - ETA: 0s - loss: 9.4634 - mae: 2.0229 - mse: 9.4634"
     ]
    },
    {
     "name": "stdout",
     "output_type": "stream",
     "text": [
      "\b\b\b\b\b\b\b\b\b\b\b\b\b\b\b\b\b\b\b\b\b\b\b\b\b\b\b\b\b\b\b\b\b\b\b\b\b\b\b\b\b\b\b\b\b\b\b\b\b\b\b\b\b\b\b\b\b\b\b\b\b\b\b\b\b\b\b\b\b\b\b\b\b\b\b\b\b\b\b\b\b\b\b\b\b\b\b\b\b\b\b\r",
      "32/36 [=========================>....] - ETA: 0s - loss: 5.1181 - mae: 1.6055 - mse: 5.1181"
     ]
    },
    {
     "name": "stdout",
     "output_type": "stream",
     "text": [
      "\b\b\b\b\b\b\b\b\b\b\b\b\b\b\b\b\b\b\b\b\b\b\b\b\b\b\b\b\b\b\b\b\b\b\b\b\b\b\b\b\b\b\b\b\b\b\b\b\b\b\b\b\b\b\b\b\b\b\b\b\b\b\b\b\b\b\b\b\b\b\b\b\b\b\b\b\b\b\b\b\b\b\b\b\b\b\b\b\b\b\b\r",
      "36/36 [==============================] - 0s 3ms/step - loss: 5.1819 - mae: 1.6288 - mse: 5.1819 - val_loss: 11.7870 - val_mae: 2.3981 - val_mse: 11.7870\n"
     ]
    },
    {
     "name": "stdout",
     "output_type": "stream",
     "text": [
      "Epoch 79/100\n"
     ]
    },
    {
     "name": "stdout",
     "output_type": "stream",
     "text": [
      "\r",
      " 1/36 [..............................] - ETA: 0s - loss: 1.5940 - mae: 1.0928 - mse: 1.5940"
     ]
    },
    {
     "name": "stdout",
     "output_type": "stream",
     "text": [
      "\b\b\b\b\b\b\b\b\b\b\b\b\b\b\b\b\b\b\b\b\b\b\b\b\b\b\b\b\b\b\b\b\b\b\b\b\b\b\b\b\b\b\b\b\b\b\b\b\b\b\b\b\b\b\b\b\b\b\b\b\b\b\b\b\b\b\b\b\b\b\b\b\b\b\b\b\b\b\b\b\b\b\b\b\b\b\b\b\b\b\b\r",
      "33/36 [==========================>...] - ETA: 0s - loss: 5.0333 - mae: 1.6234 - mse: 5.0333"
     ]
    },
    {
     "name": "stdout",
     "output_type": "stream",
     "text": [
      "\b\b\b\b\b\b\b\b\b\b\b\b\b\b\b\b\b\b\b\b\b\b\b\b\b\b\b\b\b\b\b\b\b\b\b\b\b\b\b\b\b\b\b\b\b\b\b\b\b\b\b\b\b\b\b\b\b\b\b\b\b\b\b\b\b\b\b\b\b\b\b\b\b\b\b\b\b\b\b\b\b\b\b\b\b\b\b\b\b\b\b\r",
      "36/36 [==============================] - 0s 3ms/step - loss: 5.0892 - mae: 1.6294 - mse: 5.0892 - val_loss: 12.7118 - val_mae: 2.5767 - val_mse: 12.7118\n"
     ]
    },
    {
     "name": "stdout",
     "output_type": "stream",
     "text": [
      "Epoch 80/100\n"
     ]
    },
    {
     "name": "stdout",
     "output_type": "stream",
     "text": [
      "\r",
      " 1/36 [..............................] - ETA: 0s - loss: 3.4898 - mae: 1.5605 - mse: 3.4898"
     ]
    },
    {
     "name": "stdout",
     "output_type": "stream",
     "text": [
      "\b\b\b\b\b\b\b\b\b\b\b\b\b\b\b\b\b\b\b\b\b\b\b\b\b\b\b\b\b\b\b\b\b\b\b\b\b\b\b\b\b\b\b\b\b\b\b\b\b\b\b\b\b\b\b\b\b\b\b\b\b\b\b\b\b\b\b\b\b\b\b\b\b\b\b\b\b\b\b\b\b\b\b\b\b\b\b\b\b\b\b\r",
      "33/36 [==========================>...] - ETA: 0s - loss: 5.2644 - mae: 1.6166 - mse: 5.2644"
     ]
    },
    {
     "name": "stdout",
     "output_type": "stream",
     "text": [
      "\b\b\b\b\b\b\b\b\b\b\b\b\b\b\b\b\b\b\b\b\b\b\b\b\b\b\b\b\b\b\b\b\b\b\b\b\b\b\b\b\b\b\b\b\b\b\b\b\b\b\b\b\b\b\b\b\b\b\b\b\b\b\b\b\b\b\b\b\b\b\b\b\b\b\b\b\b\b\b\b\b\b\b\b\b\b\b\b\b\b\b\r",
      "36/36 [==============================] - 0s 3ms/step - loss: 5.1583 - mae: 1.6053 - mse: 5.1583 - val_loss: 11.8039 - val_mae: 2.6096 - val_mse: 11.8039\n"
     ]
    },
    {
     "name": "stdout",
     "output_type": "stream",
     "text": [
      "Epoch 81/100\n"
     ]
    },
    {
     "name": "stdout",
     "output_type": "stream",
     "text": [
      "\r",
      " 1/36 [..............................] - ETA: 0s - loss: 0.8906 - mae: 0.8719 - mse: 0.8906"
     ]
    },
    {
     "name": "stdout",
     "output_type": "stream",
     "text": [
      "\b\b\b\b\b\b\b\b\b\b\b\b\b\b\b\b\b\b\b\b\b\b\b\b\b\b\b\b\b\b\b\b\b\b\b\b\b\b\b\b\b\b\b\b\b\b\b\b\b\b\b\b\b\b\b\b\b\b\b\b\b\b\b\b\b\b\b\b\b\b\b\b\b\b\b\b\b\b\b\b\b\b\b\b\b\b\b\b\b\b\b\r",
      "33/36 [==========================>...] - ETA: 0s - loss: 5.0859 - mae: 1.6121 - mse: 5.0859"
     ]
    },
    {
     "name": "stdout",
     "output_type": "stream",
     "text": [
      "\b\b\b\b\b\b\b\b\b\b\b\b\b\b\b\b\b\b\b\b\b\b\b\b\b\b\b\b\b\b\b\b\b\b\b\b\b\b\b\b\b\b\b\b\b\b\b\b\b\b\b\b\b\b\b\b\b\b\b\b\b\b\b\b\b\b\b\b\b\b\b\b\b\b\b\b\b\b\b\b\b\b\b\b\b\b\b\b\b\b\b\r",
      "36/36 [==============================] - 0s 3ms/step - loss: 4.9142 - mae: 1.5954 - mse: 4.9142 - val_loss: 11.3268 - val_mae: 2.3985 - val_mse: 11.3268\n"
     ]
    },
    {
     "name": "stdout",
     "output_type": "stream",
     "text": [
      "Epoch 82/100\n"
     ]
    },
    {
     "name": "stdout",
     "output_type": "stream",
     "text": [
      "\r",
      " 1/36 [..............................] - ETA: 0s - loss: 9.1581 - mae: 2.2572 - mse: 9.1581"
     ]
    },
    {
     "name": "stdout",
     "output_type": "stream",
     "text": [
      "\b\b\b\b\b\b\b\b\b\b\b\b\b\b\b\b\b\b\b\b\b\b\b\b\b\b\b\b\b\b\b\b\b\b\b\b\b\b\b\b\b\b\b\b\b\b\b\b\b\b\b\b\b\b\b\b\b\b\b\b\b\b\b\b\b\b\b\b\b\b\b\b\b\b\b\b\b\b\b\b\b\b\b\b\b\b\b\b\b\b\b\r",
      "33/36 [==========================>...] - ETA: 0s - loss: 5.0437 - mae: 1.5912 - mse: 5.0437"
     ]
    },
    {
     "name": "stdout",
     "output_type": "stream",
     "text": [
      "\b\b\b\b\b\b\b\b\b\b\b\b\b\b\b\b\b\b\b\b\b\b\b\b\b\b\b\b\b\b\b\b\b\b\b\b\b\b\b\b\b\b\b\b\b\b\b\b\b\b\b\b\b\b\b\b\b\b\b\b\b\b\b\b\b\b\b\b\b\b\b\b\b\b\b\b\b\b\b\b\b\b\b\b\b\b\b\b\b\b\b\r",
      "36/36 [==============================] - 0s 3ms/step - loss: 4.9506 - mae: 1.5801 - mse: 4.9506 - val_loss: 11.8619 - val_mae: 2.5834 - val_mse: 11.8619\n"
     ]
    },
    {
     "name": "stdout",
     "output_type": "stream",
     "text": [
      "Epoch 83/100\n"
     ]
    },
    {
     "name": "stdout",
     "output_type": "stream",
     "text": [
      "\r",
      " 1/36 [..............................] - ETA: 0s - loss: 3.9159 - mae: 1.4021 - mse: 3.9159"
     ]
    },
    {
     "name": "stdout",
     "output_type": "stream",
     "text": [
      "\b\b\b\b\b\b\b\b\b\b\b\b\b\b\b\b\b\b\b\b\b\b\b\b\b\b\b\b\b\b\b\b\b\b\b\b\b\b\b\b\b\b\b\b\b\b\b\b\b\b\b\b\b\b\b\b\b\b\b\b\b\b\b\b\b\b\b\b\b\b\b\b\b\b\b\b\b\b\b\b\b\b\b\b\b\b\b\b\b\b\b\r",
      "33/36 [==========================>...] - ETA: 0s - loss: 4.1786 - mae: 1.4989 - mse: 4.1786"
     ]
    },
    {
     "name": "stdout",
     "output_type": "stream",
     "text": [
      "\b\b\b\b\b\b\b\b\b\b\b\b\b\b\b\b\b\b\b\b\b\b\b\b\b\b\b\b\b\b\b\b\b\b\b\b\b\b\b\b\b\b\b\b\b\b\b\b\b\b\b\b\b\b\b\b\b\b\b\b\b\b\b\b\b\b\b\b\b\b\b\b\b\b\b\b\b\b\b\b\b\b\b\b\b\b\b\b\b\b\b\r",
      "36/36 [==============================] - 0s 3ms/step - loss: 4.9417 - mae: 1.5804 - mse: 4.9417 - val_loss: 11.1878 - val_mae: 2.3971 - val_mse: 11.1878\n"
     ]
    },
    {
     "name": "stdout",
     "output_type": "stream",
     "text": [
      "Epoch 84/100\n"
     ]
    },
    {
     "name": "stdout",
     "output_type": "stream",
     "text": [
      "\r",
      " 1/36 [..............................] - ETA: 0s - loss: 2.5088 - mae: 1.2673 - mse: 2.5088"
     ]
    },
    {
     "name": "stdout",
     "output_type": "stream",
     "text": [
      "\b\b\b\b\b\b\b\b\b\b\b\b\b\b\b\b\b\b\b\b\b\b\b\b\b\b\b\b\b\b\b\b\b\b\b\b\b\b\b\b\b\b\b\b\b\b\b\b\b\b\b\b\b\b\b\b\b\b\b\b\b\b\b\b\b\b\b\b\b\b\b\b\b\b\b\b\b\b\b\b\b\b\b\b\b\b\b\b\b\b\b\r",
      "32/36 [=========================>....] - ETA: 0s - loss: 4.5587 - mae: 1.5536 - mse: 4.5587"
     ]
    },
    {
     "name": "stdout",
     "output_type": "stream",
     "text": [
      "\b\b\b\b\b\b\b\b\b\b\b\b\b\b\b\b\b\b\b\b\b\b\b\b\b\b\b\b\b\b\b\b\b\b\b\b\b\b\b\b\b\b\b\b\b\b\b\b\b\b\b\b\b\b\b\b\b\b\b\b\b\b\b\b\b\b\b\b\b\b\b\b\b\b\b\b\b\b\b\b\b\b\b\b\b\b\b\b\b\b\b\r",
      "36/36 [==============================] - 0s 3ms/step - loss: 4.8439 - mae: 1.5945 - mse: 4.8439 - val_loss: 11.6722 - val_mae: 2.4008 - val_mse: 11.6722\n"
     ]
    },
    {
     "name": "stdout",
     "output_type": "stream",
     "text": [
      "Epoch 85/100\n"
     ]
    },
    {
     "name": "stdout",
     "output_type": "stream",
     "text": [
      "\r",
      " 1/36 [..............................] - ETA: 0s - loss: 4.1257 - mae: 1.5823 - mse: 4.1257"
     ]
    },
    {
     "name": "stdout",
     "output_type": "stream",
     "text": [
      "\b\b\b\b\b\b\b\b\b\b\b\b\b\b\b\b\b\b\b\b\b\b\b\b\b\b\b\b\b\b\b\b\b\b\b\b\b\b\b\b\b\b\b\b\b\b\b\b\b\b\b\b\b\b\b\b\b\b\b\b\b\b\b\b\b\b\b\b\b\b\b\b\b\b\b\b\b\b\b\b\b\b\b\b\b\b\b\b\b\b\b\r",
      "32/36 [=========================>....] - ETA: 0s - loss: 4.7007 - mae: 1.5596 - mse: 4.7007"
     ]
    },
    {
     "name": "stdout",
     "output_type": "stream",
     "text": [
      "\b\b\b\b\b\b\b\b\b\b\b\b\b\b\b\b\b\b\b\b\b\b\b\b\b\b\b\b\b\b\b\b\b\b\b\b\b\b\b\b\b\b\b\b\b\b\b\b\b\b\b\b\b\b\b\b\b\b\b\b\b\b\b\b\b\b\b\b\b\b\b\b\b\b\b\b\b\b\b\b\b\b\b\b\b\b\b\b\b\b\b\r",
      "36/36 [==============================] - 0s 3ms/step - loss: 4.8113 - mae: 1.5677 - mse: 4.8113 - val_loss: 11.9304 - val_mae: 2.6288 - val_mse: 11.9304\n"
     ]
    },
    {
     "name": "stdout",
     "output_type": "stream",
     "text": [
      "Epoch 86/100\n",
      "\r",
      " 1/36 [..............................] - ETA: 0s - loss: 8.0586 - mae: 2.1236 - mse: 8.0586"
     ]
    },
    {
     "name": "stdout",
     "output_type": "stream",
     "text": [
      "\b\b\b\b\b\b\b\b\b\b\b\b\b\b\b\b\b\b\b\b\b\b\b\b\b\b\b\b\b\b\b\b\b\b\b\b\b\b\b\b\b\b\b\b\b\b\b\b\b\b\b\b\b\b\b\b\b\b\b\b\b\b\b\b\b\b\b\b\b\b\b\b\b\b\b\b\b\b\b\b\b\b\b\b\b\b\b\b\b\b\b\r",
      "32/36 [=========================>....] - ETA: 0s - loss: 4.9996 - mae: 1.5886 - mse: 4.9996"
     ]
    },
    {
     "name": "stdout",
     "output_type": "stream",
     "text": [
      "\b\b\b\b\b\b\b\b\b\b\b\b\b\b\b\b\b\b\b\b\b\b\b\b\b\b\b\b\b\b\b\b\b\b\b\b\b\b\b\b\b\b\b\b\b\b\b\b\b\b\b\b\b\b\b\b\b\b\b\b\b\b\b\b\b\b\b\b\b\b\b\b\b\b\b\b\b\b\b\b\b\b\b\b\b\b\b\b\b\b\b\r",
      "36/36 [==============================] - 0s 3ms/step - loss: 4.8617 - mae: 1.5715 - mse: 4.8617 - val_loss: 11.9765 - val_mae: 2.6131 - val_mse: 11.9765\n"
     ]
    },
    {
     "name": "stdout",
     "output_type": "stream",
     "text": [
      "Epoch 87/100\n",
      "\r",
      " 1/36 [..............................] - ETA: 0s - loss: 2.8540 - mae: 1.3150 - mse: 2.8540"
     ]
    },
    {
     "name": "stdout",
     "output_type": "stream",
     "text": [
      "\b\b\b\b\b\b\b\b\b\b\b\b\b\b\b\b\b\b\b\b\b\b\b\b\b\b\b\b\b\b\b\b\b\b\b\b\b\b\b\b\b\b\b\b\b\b\b\b\b\b\b\b\b\b\b\b\b\b\b\b\b\b\b\b\b\b\b\b\b\b\b\b\b\b\b\b\b\b\b\b\b\b\b\b\b\b\b\b\b\b\b\r",
      "32/36 [=========================>....] - ETA: 0s - loss: 4.7804 - mae: 1.5920 - mse: 4.7804"
     ]
    },
    {
     "name": "stdout",
     "output_type": "stream",
     "text": [
      "\b\b\b\b\b\b\b\b\b\b\b\b\b\b\b\b\b\b\b\b\b\b\b\b\b\b\b\b\b\b\b\b\b\b\b\b\b\b\b\b\b\b\b\b\b\b\b\b\b\b\b\b\b\b\b\b\b\b\b\b\b\b\b\b\b\b\b\b\b\b\b\b\b\b\b\b\b\b\b\b\b\b\b\b\b\b\b\b\b\b\b\r",
      "36/36 [==============================] - 0s 3ms/step - loss: 4.7269 - mae: 1.5744 - mse: 4.7269 - val_loss: 11.9900 - val_mae: 2.6228 - val_mse: 11.9900\n"
     ]
    },
    {
     "name": "stdout",
     "output_type": "stream",
     "text": [
      "Epoch 88/100\n",
      "\r",
      " 1/36 [..............................] - ETA: 0s - loss: 2.4792 - mae: 1.3943 - mse: 2.4792"
     ]
    },
    {
     "name": "stdout",
     "output_type": "stream",
     "text": [
      "\b\b\b\b\b\b\b\b\b\b\b\b\b\b\b\b\b\b\b\b\b\b\b\b\b\b\b\b\b\b\b\b\b\b\b\b\b\b\b\b\b\b\b\b\b\b\b\b\b\b\b\b\b\b\b\b\b\b\b\b\b\b\b\b\b\b\b\b\b\b\b\b\b\b\b\b\b\b\b\b\b\b\b\b\b\b\b\b\b\b\b\r",
      "32/36 [=========================>....] - ETA: 0s - loss: 4.5467 - mae: 1.5376 - mse: 4.5467"
     ]
    },
    {
     "name": "stdout",
     "output_type": "stream",
     "text": [
      "\b\b\b\b\b\b\b\b\b\b\b\b\b\b\b\b\b\b\b\b\b\b\b\b\b\b\b\b\b\b\b\b\b\b\b\b\b\b\b\b\b\b\b\b\b\b\b\b\b\b\b\b\b\b\b\b\b\b\b\b\b\b\b\b\b\b\b\b\b\b\b\b\b\b\b\b\b\b\b\b\b\b\b\b\b\b\b\b\b\b\b\r",
      "36/36 [==============================] - 0s 3ms/step - loss: 4.6709 - mae: 1.5721 - mse: 4.6709 - val_loss: 11.8313 - val_mae: 2.5355 - val_mse: 11.8313\n"
     ]
    },
    {
     "name": "stdout",
     "output_type": "stream",
     "text": [
      "Epoch 89/100\n"
     ]
    },
    {
     "name": "stdout",
     "output_type": "stream",
     "text": [
      "\r",
      " 1/36 [..............................] - ETA: 0s - loss: 9.6483 - mae: 1.6983 - mse: 9.6483"
     ]
    },
    {
     "name": "stdout",
     "output_type": "stream",
     "text": [
      "\b\b\b\b\b\b\b\b\b\b\b\b\b\b\b\b\b\b\b\b\b\b\b\b\b\b\b\b\b\b\b\b\b\b\b\b\b\b\b\b\b\b\b\b\b\b\b\b\b\b\b\b\b\b\b\b\b\b\b\b\b\b\b\b\b\b\b\b\b\b\b\b\b\b\b\b\b\b\b\b\b\b\b\b\b\b\b\b\b\b\b\r",
      "33/36 [==========================>...] - ETA: 0s - loss: 4.7766 - mae: 1.5765 - mse: 4.7766"
     ]
    },
    {
     "name": "stdout",
     "output_type": "stream",
     "text": [
      "\b\b\b\b\b\b\b\b\b\b\b\b\b\b\b\b\b\b\b\b\b\b\b\b\b\b\b\b\b\b\b\b\b\b\b\b\b\b\b\b\b\b\b\b\b\b\b\b\b\b\b\b\b\b\b\b\b\b\b\b\b\b\b\b\b\b\b\b\b\b\b\b\b\b\b\b\b\b\b\b\b\b\b\b\b\b\b\b\b\b\b\r",
      "36/36 [==============================] - 0s 3ms/step - loss: 4.6797 - mae: 1.5636 - mse: 4.6797 - val_loss: 11.8266 - val_mae: 2.5640 - val_mse: 11.8266\n"
     ]
    },
    {
     "name": "stdout",
     "output_type": "stream",
     "text": [
      "Epoch 90/100\n"
     ]
    },
    {
     "name": "stdout",
     "output_type": "stream",
     "text": [
      "\r",
      " 1/36 [..............................] - ETA: 0s - loss: 1.3943 - mae: 0.8290 - mse: 1.3943"
     ]
    },
    {
     "name": "stdout",
     "output_type": "stream",
     "text": [
      "\b\b\b\b\b\b\b\b\b\b\b\b\b\b\b\b\b\b\b\b\b\b\b\b\b\b\b\b\b\b\b\b\b\b\b\b\b\b\b\b\b\b\b\b\b\b\b\b\b\b\b\b\b\b\b\b\b\b\b\b\b\b\b\b\b\b\b\b\b\b\b\b\b\b\b\b\b\b\b\b\b\b\b\b\b\b\b\b\b\b\b\r",
      "32/36 [=========================>....] - ETA: 0s - loss: 4.1007 - mae: 1.4680 - mse: 4.1007"
     ]
    },
    {
     "name": "stdout",
     "output_type": "stream",
     "text": [
      "\b\b\b\b\b\b\b\b\b\b\b\b\b\b\b\b\b\b\b\b\b\b\b\b\b\b\b\b\b\b\b\b\b\b\b\b\b\b\b\b\b\b\b\b\b\b\b\b\b\b\b\b\b\b\b\b\b\b\b\b\b\b\b\b\b\b\b\b\b\b\b\b\b\b\b\b\b\b\b\b\b\b\b\b\b\b\b\b\b\b\b\r",
      "36/36 [==============================] - 0s 3ms/step - loss: 4.4073 - mae: 1.5103 - mse: 4.4073 - val_loss: 11.6360 - val_mae: 2.4195 - val_mse: 11.6360\n"
     ]
    },
    {
     "name": "stdout",
     "output_type": "stream",
     "text": [
      "Epoch 91/100\n"
     ]
    },
    {
     "name": "stdout",
     "output_type": "stream",
     "text": [
      "\r",
      " 1/36 [..............................] - ETA: 0s - loss: 1.5895 - mae: 1.0610 - mse: 1.5895"
     ]
    },
    {
     "name": "stdout",
     "output_type": "stream",
     "text": [
      "\b\b\b\b\b\b\b\b\b\b\b\b\b\b\b\b\b\b\b\b\b\b\b\b\b\b\b\b\b\b\b\b\b\b\b\b\b\b\b\b\b\b\b\b\b\b\b\b\b\b\b\b\b\b\b\b\b\b\b\b\b\b\b\b\b\b\b\b\b\b\b\b\b\b\b\b\b\b\b\b\b\b\b\b\b\b\b\b\b\b\b\r",
      "32/36 [=========================>....] - ETA: 0s - loss: 4.6368 - mae: 1.5296 - mse: 4.6368"
     ]
    },
    {
     "name": "stdout",
     "output_type": "stream",
     "text": [
      "\b\b\b\b\b\b\b\b\b\b\b\b\b\b\b\b\b\b\b\b\b\b\b\b\b\b\b\b\b\b\b\b\b\b\b\b\b\b\b\b\b\b\b\b\b\b\b\b\b\b\b\b\b\b\b\b\b\b\b\b\b\b\b\b\b\b\b\b\b\b\b\b\b\b\b\b\b\b\b\b\b\b\b\b\b\b\b\b\b\b\b\r",
      "36/36 [==============================] - 0s 3ms/step - loss: 4.5640 - mae: 1.5282 - mse: 4.5640 - val_loss: 11.9516 - val_mae: 2.5785 - val_mse: 11.9516\n"
     ]
    },
    {
     "name": "stdout",
     "output_type": "stream",
     "text": [
      "Epoch 92/100\n"
     ]
    },
    {
     "name": "stdout",
     "output_type": "stream",
     "text": [
      "\r",
      " 1/36 [..............................] - ETA: 0s - loss: 1.5976 - mae: 0.9752 - mse: 1.5976"
     ]
    },
    {
     "name": "stdout",
     "output_type": "stream",
     "text": [
      "\b\b\b\b\b\b\b\b\b\b\b\b\b\b\b\b\b\b\b\b\b\b\b\b\b\b\b\b\b\b\b\b\b\b\b\b\b\b\b\b\b\b\b\b\b\b\b\b\b\b\b\b\b\b\b\b\b\b\b\b\b\b\b\b\b\b\b\b\b\b\b\b\b\b\b\b\b\b\b\b\b\b\b\b\b\b\b\b\b\b\b\r",
      "33/36 [==========================>...] - ETA: 0s - loss: 4.5216 - mae: 1.5076 - mse: 4.5216"
     ]
    },
    {
     "name": "stdout",
     "output_type": "stream",
     "text": [
      "\b\b\b\b\b\b\b\b\b\b\b\b\b\b\b\b\b\b\b\b\b\b\b\b\b\b\b\b\b\b\b\b\b\b\b\b\b\b\b\b\b\b\b\b\b\b\b\b\b\b\b\b\b\b\b\b\b\b\b\b\b\b\b\b\b\b\b\b\b\b\b\b\b\b\b\b\b\b\b\b\b\b\b\b\b\b\b\b\b\b\b\r",
      "36/36 [==============================] - 0s 3ms/step - loss: 4.4171 - mae: 1.4967 - mse: 4.4171 - val_loss: 12.1904 - val_mae: 2.6263 - val_mse: 12.1904\n"
     ]
    },
    {
     "name": "stdout",
     "output_type": "stream",
     "text": [
      "Epoch 93/100\n"
     ]
    },
    {
     "name": "stdout",
     "output_type": "stream",
     "text": [
      "\r",
      " 1/36 [..............................] - ETA: 0s - loss: 10.8327 - mae: 2.3746 - mse: 10.8327"
     ]
    },
    {
     "name": "stdout",
     "output_type": "stream",
     "text": [
      "\b\b\b\b\b\b\b\b\b\b\b\b\b\b\b\b\b\b\b\b\b\b\b\b\b\b\b\b\b\b\b\b\b\b\b\b\b\b\b\b\b\b\b\b\b\b\b\b\b\b\b\b\b\b\b\b\b\b\b\b\b\b\b\b\b\b\b\b\b\b\b\b\b\b\b\b\b\b\b\b\b\b\b\b\b\b\b\b\b\b\b\b\b\r",
      "32/36 [=========================>....] - ETA: 0s - loss: 4.4801 - mae: 1.5107 - mse: 4.4801  "
     ]
    },
    {
     "name": "stdout",
     "output_type": "stream",
     "text": [
      "\b\b\b\b\b\b\b\b\b\b\b\b\b\b\b\b\b\b\b\b\b\b\b\b\b\b\b\b\b\b\b\b\b\b\b\b\b\b\b\b\b\b\b\b\b\b\b\b\b\b\b\b\b\b\b\b\b\b\b\b\b\b\b\b\b\b\b\b\b\b\b\b\b\b\b\b\b\b\b\b\b\b\b\b\b\b\b\b\b\b\b\r",
      "36/36 [==============================] - 0s 3ms/step - loss: 4.4917 - mae: 1.5110 - mse: 4.4917 - val_loss: 11.3583 - val_mae: 2.4011 - val_mse: 11.3583\n"
     ]
    },
    {
     "name": "stdout",
     "output_type": "stream",
     "text": [
      "Epoch 94/100\n"
     ]
    },
    {
     "name": "stdout",
     "output_type": "stream",
     "text": [
      "\r",
      " 1/36 [..............................] - ETA: 0s - loss: 1.4155 - mae: 1.0347 - mse: 1.4155"
     ]
    },
    {
     "name": "stdout",
     "output_type": "stream",
     "text": [
      "\b\b\b\b\b\b\b\b\b\b\b\b\b\b\b\b\b\b\b\b\b\b\b\b\b\b\b\b\b\b\b\b\b\b\b\b\b\b\b\b\b\b\b\b\b\b\b\b\b\b\b\b\b\b\b\b\b\b\b\b\b\b\b\b\b\b\b\b\b\b\b\b\b\b\b\b\b\b\b\b\b\b\b\b\b\b\b\b\b\b\b\r",
      "32/36 [=========================>....] - ETA: 0s - loss: 4.1689 - mae: 1.5125 - mse: 4.1689"
     ]
    },
    {
     "name": "stdout",
     "output_type": "stream",
     "text": [
      "\b\b\b\b\b\b\b\b\b\b\b\b\b\b\b\b\b\b\b\b\b\b\b\b\b\b\b\b\b\b\b\b\b\b\b\b\b\b\b\b\b\b\b\b\b\b\b\b\b\b\b\b\b\b\b\b\b\b\b\b\b\b\b\b\b\b\b\b\b\b\b\b\b\b\b\b\b\b\b\b\b\b\b\b\b\b\b\b\b\b\b\r",
      "36/36 [==============================] - 0s 3ms/step - loss: 4.5507 - mae: 1.5432 - mse: 4.5507 - val_loss: 12.3900 - val_mae: 2.5726 - val_mse: 12.3900\n"
     ]
    },
    {
     "name": "stdout",
     "output_type": "stream",
     "text": [
      "Epoch 95/100\n",
      "\r",
      " 1/36 [..............................] - ETA: 0s - loss: 2.4724 - mae: 1.2359 - mse: 2.4724"
     ]
    },
    {
     "name": "stdout",
     "output_type": "stream",
     "text": [
      "\b\b\b\b\b\b\b\b\b\b\b\b\b\b\b\b\b\b\b\b\b\b\b\b\b\b\b\b\b\b\b\b\b\b\b\b\b\b\b\b\b\b\b\b\b\b\b\b\b\b\b\b\b\b\b\b\b\b\b\b\b\b\b\b\b\b\b\b\b\b\b\b\b\b\b\b\b\b\b\b\b\b\b\b\b\b\b\b\b\b\b\r",
      "32/36 [=========================>....] - ETA: 0s - loss: 4.4180 - mae: 1.5038 - mse: 4.4180"
     ]
    },
    {
     "name": "stdout",
     "output_type": "stream",
     "text": [
      "\b\b\b\b\b\b\b\b\b\b\b\b\b\b\b\b\b\b\b\b\b\b\b\b\b\b\b\b\b\b\b\b\b\b\b\b\b\b\b\b\b\b\b\b\b\b\b\b\b\b\b\b\b\b\b\b\b\b\b\b\b\b\b\b\b\b\b\b\b\b\b\b\b\b\b\b\b\b\b\b\b\b\b\b\b\b\b\b\b\b\b\r",
      "36/36 [==============================] - 0s 3ms/step - loss: 4.4011 - mae: 1.4981 - mse: 4.4011 - val_loss: 11.6696 - val_mae: 2.4253 - val_mse: 11.6696\n"
     ]
    },
    {
     "name": "stdout",
     "output_type": "stream",
     "text": [
      "Epoch 96/100\n",
      "\r",
      " 1/36 [..............................] - ETA: 0s - loss: 6.5995 - mae: 1.7948 - mse: 6.5995"
     ]
    },
    {
     "name": "stdout",
     "output_type": "stream",
     "text": [
      "\b\b\b\b\b\b\b\b\b\b\b\b\b\b\b\b\b\b\b\b\b\b\b\b\b\b\b\b\b\b\b\b\b\b\b\b\b\b\b\b\b\b\b\b\b\b\b\b\b\b\b\b\b\b\b\b\b\b\b\b\b\b\b\b\b\b\b\b\b\b\b\b\b\b\b\b\b\b\b\b\b\b\b\b\b\b\b\b\b\b\b\r",
      "32/36 [=========================>....] - ETA: 0s - loss: 4.4036 - mae: 1.5442 - mse: 4.4036"
     ]
    },
    {
     "name": "stdout",
     "output_type": "stream",
     "text": [
      "\b\b\b\b\b\b\b\b\b\b\b\b\b\b\b\b\b\b\b\b\b\b\b\b\b\b\b\b\b\b\b\b\b\b\b\b\b\b\b\b\b\b\b\b\b\b\b\b\b\b\b\b\b\b\b\b\b\b\b\b\b\b\b\b\b\b\b\b\b\b\b\b\b\b\b\b\b\b\b\b\b\b\b\b\b\b\b\b\b\b\b\r",
      "36/36 [==============================] - 0s 3ms/step - loss: 4.3621 - mae: 1.5377 - mse: 4.3621 - val_loss: 12.7482 - val_mae: 2.6269 - val_mse: 12.7482\n"
     ]
    },
    {
     "name": "stdout",
     "output_type": "stream",
     "text": [
      "Epoch 97/100\n",
      "\r",
      " 1/36 [..............................] - ETA: 0s - loss: 2.5466 - mae: 1.2685 - mse: 2.5466"
     ]
    },
    {
     "name": "stdout",
     "output_type": "stream",
     "text": [
      "\b\b\b\b\b\b\b\b\b\b\b\b\b\b\b\b\b\b\b\b\b\b\b\b\b\b\b\b\b\b\b\b\b\b\b\b\b\b\b\b\b\b\b\b\b\b\b\b\b\b\b\b\b\b\b\b\b\b\b\b\b\b\b\b\b\b\b\b\b\b\b\b\b\b\b\b\b\b\b\b\b\b\b\b\b\b\b\b\b\b\b\r",
      "33/36 [==========================>...] - ETA: 0s - loss: 4.3934 - mae: 1.4755 - mse: 4.3934"
     ]
    },
    {
     "name": "stdout",
     "output_type": "stream",
     "text": [
      "\b\b\b\b\b\b\b\b\b\b\b\b\b\b\b\b\b\b\b\b\b\b\b\b\b\b\b\b\b\b\b\b\b\b\b\b\b\b\b\b\b\b\b\b\b\b\b\b\b\b\b\b\b\b\b\b\b\b\b\b\b\b\b\b\b\b\b\b\b\b\b\b\b\b\b\b\b\b\b\b\b\b\b\b\b\b\b\b\b\b\b\r",
      "36/36 [==============================] - 0s 3ms/step - loss: 4.2535 - mae: 1.4572 - mse: 4.2535 - val_loss: 11.5211 - val_mae: 2.4002 - val_mse: 11.5211\n"
     ]
    },
    {
     "name": "stdout",
     "output_type": "stream",
     "text": [
      "Epoch 98/100\n",
      "\r",
      " 1/36 [..............................] - ETA: 0s - loss: 10.6758 - mae: 2.6701 - mse: 10.6758"
     ]
    },
    {
     "name": "stdout",
     "output_type": "stream",
     "text": [
      "\b\b\b\b\b\b\b\b\b\b\b\b\b\b\b\b\b\b\b\b\b\b\b\b\b\b\b\b\b\b\b\b\b\b\b\b\b\b\b\b\b\b\b\b\b\b\b\b\b\b\b\b\b\b\b\b\b\b\b\b\b\b\b\b\b\b\b\b\b\b\b\b\b\b\b\b\b\b\b\b\b\b\b\b\b\b\b\b\b\b\b\b\b\r",
      "32/36 [=========================>....] - ETA: 0s - loss: 4.2060 - mae: 1.4969 - mse: 4.2060  "
     ]
    },
    {
     "name": "stdout",
     "output_type": "stream",
     "text": [
      "\b\b\b\b\b\b\b\b\b\b\b\b\b\b\b\b\b\b\b\b\b\b\b\b\b\b\b\b\b\b\b\b\b\b\b\b\b\b\b\b\b\b\b\b\b\b\b\b\b\b\b\b\b\b\b\b\b\b\b\b\b\b\b\b\b\b\b\b\b\b\b\b\b\b\b\b\b\b\b\b\b\b\b\b\b\b\b\b\b\b\b\r",
      "36/36 [==============================] - 0s 3ms/step - loss: 4.2153 - mae: 1.5013 - mse: 4.2153 - val_loss: 11.4737 - val_mae: 2.4473 - val_mse: 11.4737\n"
     ]
    },
    {
     "name": "stdout",
     "output_type": "stream",
     "text": [
      "Epoch 99/100\n"
     ]
    },
    {
     "name": "stdout",
     "output_type": "stream",
     "text": [
      "\r",
      " 1/36 [..............................] - ETA: 0s - loss: 2.4467 - mae: 1.2066 - mse: 2.4467"
     ]
    },
    {
     "name": "stdout",
     "output_type": "stream",
     "text": [
      "\b\b\b\b\b\b\b\b\b\b\b\b\b\b\b\b\b\b\b\b\b\b\b\b\b\b\b\b\b\b\b\b\b\b\b\b\b\b\b\b\b\b\b\b\b\b\b\b\b\b\b\b\b\b\b\b\b\b\b\b\b\b\b\b\b\b\b\b\b\b\b\b\b\b\b\b\b\b\b\b\b\b\b\b\b\b\b\b\b\b\b\r",
      "33/36 [==========================>...] - ETA: 0s - loss: 4.3942 - mae: 1.5074 - mse: 4.3942"
     ]
    },
    {
     "name": "stdout",
     "output_type": "stream",
     "text": [
      "\b\b\b\b\b\b\b\b\b\b\b\b\b\b\b\b\b\b\b\b\b\b\b\b\b\b\b\b\b\b\b\b\b\b\b\b\b\b\b\b\b\b\b\b\b\b\b\b\b\b\b\b\b\b\b\b\b\b\b\b\b\b\b\b\b\b\b\b\b\b\b\b\b\b\b\b\b\b\b\b\b\b\b\b\b\b\b\b\b\b\b\r",
      "36/36 [==============================] - 0s 3ms/step - loss: 4.3093 - mae: 1.4973 - mse: 4.3093 - val_loss: 11.9330 - val_mae: 2.5679 - val_mse: 11.9330\n"
     ]
    },
    {
     "name": "stdout",
     "output_type": "stream",
     "text": [
      "Epoch 100/100\n"
     ]
    },
    {
     "name": "stdout",
     "output_type": "stream",
     "text": [
      "\r",
      " 1/36 [..............................] - ETA: 0s - loss: 3.6569 - mae: 1.4386 - mse: 3.6569"
     ]
    },
    {
     "name": "stdout",
     "output_type": "stream",
     "text": [
      "\b\b\b\b\b\b\b\b\b\b\b\b\b\b\b\b\b\b\b\b\b\b\b\b\b\b\b\b\b\b\b\b\b\b\b\b\b\b\b\b\b\b\b\b\b\b\b\b\b\b\b\b\b\b\b\b\b\b\b\b\b\b\b\b\b\b\b\b\b\b\b\b\b\b\b\b\b\b\b\b\b\b\b\b\b\b\b\b\b\b\b\r",
      "33/36 [==========================>...] - ETA: 0s - loss: 4.5221 - mae: 1.5279 - mse: 4.5221"
     ]
    },
    {
     "name": "stdout",
     "output_type": "stream",
     "text": [
      "\b\b\b\b\b\b\b\b\b\b\b\b\b\b\b\b\b\b\b\b\b\b\b\b\b\b\b\b\b\b\b\b\b\b\b\b\b\b\b\b\b\b\b\b\b\b\b\b\b\b\b\b\b\b\b\b\b\b\b\b\b\b\b\b\b\b\b\b\b\b\b\b\b\b\b\b\b\b\b\b\b\b\b\b\b\b\b\b\b\b\b\r",
      "36/36 [==============================] - 0s 3ms/step - loss: 4.2961 - mae: 1.4869 - mse: 4.2961 - val_loss: 12.6521 - val_mae: 2.6723 - val_mse: 12.6521\n"
     ]
    }
   ],
   "source": [
    "history = model.fit(x_train,\n",
    "                    y_train,\n",
    "                    epochs          = 100,\n",
    "                    batch_size      = 10,\n",
    "                    verbose         = 1,\n",
    "                    validation_data = (x_test, y_test),\n",
    "                    callbacks       = [savemodel_callback])"
   ]
  },
  {
   "cell_type": "markdown",
   "metadata": {},
   "source": [
    "## Step 6 - Evaluate\n",
    "### 6.1 - Model evaluation\n",
    "MAE =  Mean Absolute Error (between the labels and predictions)  \n",
    "A mae equal to 3 represents an average error in prediction of $3k."
   ]
  },
  {
   "cell_type": "code",
   "execution_count": 10,
   "metadata": {},
   "outputs": [
    {
     "name": "stdout",
     "output_type": "stream",
     "text": [
      "x_test / loss      : 12.6521\n",
      "x_test / mae       : 2.6723\n",
      "x_test / mse       : 12.6521\n"
     ]
    }
   ],
   "source": [
    "score = model.evaluate(x_test, y_test, verbose=0)\n",
    "\n",
    "print('x_test / loss      : {:5.4f}'.format(score[0]))\n",
    "print('x_test / mae       : {:5.4f}'.format(score[1]))\n",
    "print('x_test / mse       : {:5.4f}'.format(score[2]))"
   ]
  },
  {
   "cell_type": "markdown",
   "metadata": {},
   "source": [
    "### 6.2 - Training history\n",
    "What was the best result during our training ?"
   ]
  },
  {
   "cell_type": "code",
   "execution_count": 11,
   "metadata": {},
   "outputs": [
    {
     "name": "stdout",
     "output_type": "stream",
     "text": [
      "min( val_mae ) : 2.3541\n"
     ]
    }
   ],
   "source": [
    "print(\"min( val_mae ) : {:.4f}\".format( min(history.history[\"val_mae\"]) ) )"
   ]
  },
  {
   "cell_type": "code",
   "execution_count": 12,
   "metadata": {},
   "outputs": [
    {
     "data": {
      "text/html": [
       "<div class=\"comment\">Saved: ./run/figs/BHPD2-01-history_0</div>"
      ],
      "text/plain": [
       "<IPython.core.display.HTML object>"
      ]
     },
     "metadata": {},
     "output_type": "display_data"
    },
    {
     "data": {
      "image/png": "[encoded data removed]",
      "text/plain": [
       "<Figure size 576x432 with 1 Axes>"
      ]
     },
     "metadata": {
      "needs_background": "light"
     },
     "output_type": "display_data"
    },
    {
     "data": {
      "text/html": [
       "<div class=\"comment\">Saved: ./run/figs/BHPD2-01-history_1</div>"
      ],
      "text/plain": [
       "<IPython.core.display.HTML object>"
      ]
     },
     "metadata": {},
     "output_type": "display_data"
    },
    {
     "data": {
      "image/png": "[encoded data removed]",
      "text/plain": [
       "<Figure size 576x432 with 1 Axes>"
      ]
     },
     "metadata": {
      "needs_background": "light"
     },
     "output_type": "display_data"
    },
    {
     "data": {
      "text/html": [
       "<div class=\"comment\">Saved: ./run/figs/BHPD2-01-history_2</div>"
      ],
      "text/plain": [
       "<IPython.core.display.HTML object>"
      ]
     },
     "metadata": {},
     "output_type": "display_data"
    },
    {
     "data": {
      "image/png": "[encoded data removed]",
      "text/plain": [
       "<Figure size 576x432 with 1 Axes>"
      ]
     },
     "metadata": {
      "needs_background": "light"
     },
     "output_type": "display_data"
    }
   ],
   "source": [
    "pwk.plot_history(history, plot={'MSE' :['mse', 'val_mse'],\n",
    "                                'MAE' :['mae', 'val_mae'],\n",
    "                                'LOSS':['loss','val_loss']}, save_as='01-history')"
   ]
  },
  {
   "cell_type": "markdown",
   "metadata": {},
   "source": [
    "## Step 7 - Restore a model :"
   ]
  },
  {
   "cell_type": "markdown",
   "metadata": {},
   "source": [
    "### 7.1 - Reload model"
   ]
  },
  {
   "cell_type": "code",
   "execution_count": 13,
   "metadata": {},
   "outputs": [
    {
     "name": "stdout",
     "output_type": "stream",
     "text": [
      "Model: \"sequential\"\n",
      "_________________________________________________________________\n",
      "Layer (type)                 Output Shape              Param #   \n",
      "=================================================================\n",
      "Dense_n1 (Dense)             (None, 64)                896       \n",
      "_________________________________________________________________\n",
      "Dense_n2 (Dense)             (None, 64)                4160      \n",
      "_________________________________________________________________\n",
      "Output (Dense)               (None, 1)                 65        \n",
      "=================================================================\n",
      "Total params: 5,121\n",
      "Trainable params: 5,121\n",
      "Non-trainable params: 0\n",
      "_________________________________________________________________\n",
      "Loaded.\n"
     ]
    }
   ],
   "source": [
    "loaded_model = tf.keras.models.load_model('./run/models/best_model.h5')\n",
    "loaded_model.summary()\n",
    "print(\"Loaded.\")"
   ]
  },
  {
   "cell_type": "markdown",
   "metadata": {},
   "source": [
    "### 7.2 - Evaluate it :"
   ]
  },
  {
   "cell_type": "code",
   "execution_count": 14,
   "metadata": {},
   "outputs": [
    {
     "name": "stdout",
     "output_type": "stream",
     "text": [
      "x_test / loss      : 11.1031\n",
      "x_test / mae       : 2.3541\n",
      "x_test / mse       : 11.1031\n"
     ]
    }
   ],
   "source": [
    "score = loaded_model.evaluate(x_test, y_test, verbose=0)\n",
    "\n",
    "print('x_test / loss      : {:5.4f}'.format(score[0]))\n",
    "print('x_test / mae       : {:5.4f}'.format(score[1]))\n",
    "print('x_test / mse       : {:5.4f}'.format(score[2]))"
   ]
  },
  {
   "cell_type": "markdown",
   "metadata": {},
   "source": [
    "### 7.3 - Make a prediction"
   ]
  },
  {
   "cell_type": "code",
   "execution_count": 15,
   "metadata": {},
   "outputs": [],
   "source": [
    "my_data = [ 1.26425925, -0.48522739,  1.0436489 , -0.23112788,  1.37120745,\n",
    "       -2.14308942,  1.13489104, -1.06802005,  1.71189006,  1.57042287,\n",
    "        0.77859951,  0.14769795,  2.7585581 ]\n",
    "real_price = 10.4\n",
    "\n",
    "my_data=np.array(my_data).reshape(1,13)"
   ]
  },
  {
   "cell_type": "code",
   "execution_count": 16,
   "metadata": {},
   "outputs": [
    {
     "name": "stdout",
     "output_type": "stream",
     "text": [
      "Prediction : 10.11 K$   Reality : 10.40 K$\n"
     ]
    }
   ],
   "source": [
    "predictions = loaded_model.predict( my_data )\n",
    "print(\"Prediction : {:.2f} K$   Reality : {:.2f} K$\".format(predictions[0][0], real_price))"
   ]
  },
  {
   "cell_type": "code",
   "execution_count": 17,
   "metadata": {},
   "outputs": [
    {
     "name": "stdout",
     "output_type": "stream",
     "text": [
      "End time is : Wednesday 27 January 2021, 18:22:17\n",
      "Duration is : 00:00:18 826ms\n",
      "This notebook ends here\n"
     ]
    }
   ],
   "source": [
    "pwk.end()"
   ]
  },
  {
   "cell_type": "markdown",
   "metadata": {},
   "source": [
    "---\n",
    "<img width=\"80px\" src=\"../fidle/img/00-Fidle-logo-01.svg\"></img>"
   ]
  }
 ],
 "metadata": {
  "kernelspec": {
   "display_name": "Python 3",
   "language": "python",
   "name": "python3"
  },
  "language_info": {
   "codemirror_mode": {
    "name": "ipython",
    "version": 3
   },
   "file_extension": ".py",
   "mimetype": "text/x-python",
   "name": "python",
   "nbconvert_exporter": "python",
   "pygments_lexer": "ipython3",
   "version": "3.7.7"
  }
 },
 "nbformat": 4,
 "nbformat_minor": 4
}
