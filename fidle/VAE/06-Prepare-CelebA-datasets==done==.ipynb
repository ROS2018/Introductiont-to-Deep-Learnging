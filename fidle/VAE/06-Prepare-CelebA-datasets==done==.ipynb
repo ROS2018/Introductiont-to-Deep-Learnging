{
 "cells": [
  {
   "cell_type": "markdown",
   "metadata": {},
   "source": [
    "<img width=\"800px\" src=\"../fidle/img/00-Fidle-header-01.svg\"></img>\n",
    "\n",
    "# <!-- TITLE --> [VAE6] - Generation of a clustered dataset\n",
    "<!-- DESC --> Episode 2 : Analysis of the CelebA dataset and creation of an clustered and usable dataset\n",
    "<!-- AUTHOR : Jean-Luc Parouty (CNRS/SIMaP) -->\n",
    "\n",
    "## Objectives :\n",
    " - Formatting our dataset in **cluster files**, using batch mode\n",
    " - Adapting a notebook for batch use\n",
    "\n",
    "\n",
    "The [CelebFaces Attributes Dataset (CelebA)](http://mmlab.ie.cuhk.edu.hk/projects/CelebA.html) contains about 200,000 images (202599,218,178,3).  \n",
    "\n",
    "\n",
    "## What we're going to do :\n",
    " - Lire les images\n",
    " - redimensionner et normaliser celles-ci,\n",
    " - Constituer des clusters d'images en format npy\n"
   ]
  },
  {
   "cell_type": "markdown",
   "metadata": {},
   "source": [
    "## Step 1 - Import and init\n",
    "### 1.2 - Import"
   ]
  },
  {
   "cell_type": "code",
   "execution_count": 1,
   "metadata": {},
   "outputs": [
    {
     "data": {
      "text/html": [
       "<style>\n",
       "\n",
       "div.warn {    \n",
       "    background-color: #fcf2f2;\n",
       "    border-color: #dFb5b4;\n",
       "    border-left: 5px solid #dfb5b4;\n",
       "    padding: 0.5em;\n",
       "    font-weight: bold;\n",
       "    font-size: 1.1em;;\n",
       "    }\n",
       "\n",
       "\n",
       "\n",
       "div.nota {    \n",
       "    background-color: #DAFFDE;\n",
       "    border-left: 5px solid #92CC99;\n",
       "    padding: 0.5em;\n",
       "    }\n",
       "\n",
       "div.todo:before { content:url(data:image/svg+xml;base64,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);\n",
       "    float:left;\n",
       "    margin-right:20px;\n",
       "    margin-top:-20px;\n",
       "    margin-bottom:20px;\n",
       "}\n",
       "div.todo{\n",
       "    font-weight: bold;\n",
       "    font-size: 1.1em;\n",
       "    margin-top:40px;\n",
       "}\n",
       "div.todo ul{\n",
       "    margin: 0.2em;\n",
       "}\n",
       "div.todo li{\n",
       "    margin-left:60px;\n",
       "    margin-top:0;\n",
       "    margin-bottom:0;\n",
       "}\n",
       "\n",
       "div .comment{\n",
       "    font-size:0.8em;\n",
       "    color:#696969;\n",
       "}\n",
       "\n",
       "\n",
       "\n",
       "</style>\n",
       "\n"
      ],
      "text/plain": [
       "<IPython.core.display.HTML object>"
      ]
     },
     "metadata": {},
     "output_type": "display_data"
    },
    {
     "data": {
      "text/markdown": [
       "<br>**FIDLE 2020 - Practical Work Module**"
      ],
      "text/plain": [
       "<IPython.core.display.Markdown object>"
      ]
     },
     "metadata": {},
     "output_type": "display_data"
    },
    {
     "name": "stdout",
     "output_type": "stream",
     "text": [
      "Version              : 2.0.7\n",
      "Notebook id          : VAE6\n",
      "Run time             : Wednesday 27 January 2021, 19:27:56\n",
      "TensorFlow version   : 2.2.0\n",
      "Keras version        : 2.3.0-tf\n",
      "Datasets dir         : /gpfswork/rech/mlh/uja62cb/datasets\n",
      "Run dir              : ./run\n",
      "Update keras cache   : False\n",
      "Save figs            : True\n",
      "Path figs            : ./run/figs\n"
     ]
    }
   ],
   "source": [
    "import numpy as np\n",
    "import matplotlib.pyplot as plt\n",
    "import pandas as pd\n",
    "from skimage import io, transform\n",
    "\n",
    "import os,pathlib,time,sys,json,glob\n",
    "import csv\n",
    "import math, random\n",
    "\n",
    "from importlib import reload\n",
    "\n",
    "sys.path.append('..')\n",
    "import fidle.pwk as pwk\n",
    "\n",
    "datasets_dir = pwk.init('VAE6')"
   ]
  },
  {
   "cell_type": "markdown",
   "metadata": {},
   "source": [
    "### 1.2 Parameters\n",
    "All the dataset will be use for training  \n",
    "Reading the 200,000 images can take a long time **(>20 minutes)** and a lot of place **(>170 GB)**  \n",
    "Example :  \n",
    "Image Sizes: 128x128 : 74 GB  \n",
    "Image Sizes: 192x160 : 138 GB  \n",
    "\n",
    "You can define theses parameters :  \n",
    "`scale` : 1 mean 100% of the dataset - set 0.05 for tests  \n",
    "`image_size` : images size in the clusters, should be 128x128 or 192,160 (original is 218,178)  \n",
    "`output_dir` : where to write clusters, could be :\n",
    " - `./data`, for tests purpose\n",
    " - `<datasets_dir>/celeba/enhanced` to add clusters in your datasets dir.  \n",
    " \n",
    "`cluster_size` : number of images in a cluster, 10000 is fine. (will be adjust by scale)\n",
    "\n",
    "**Note :** If the target folder is not empty and exit_if_exist is True, the construction is blocked.  "
   ]
  },
  {
   "cell_type": "code",
   "execution_count": 2,
   "metadata": {},
   "outputs": [],
   "source": [
    "# ---- Parameters you can change -----------------------------------\n",
    "\n",
    "# ---- Tests\n",
    "scale         = 0.02\n",
    "cluster_size  = 10000\n",
    "image_size    = (128,128)\n",
    "output_dir    = './data'\n",
    "exit_if_exist = False\n",
    "\n",
    "# ---- Full clusters generation, medium size\n",
    "# scale         = 1.\n",
    "# cluster_size  = 10000\n",
    "# image_size    = (128,128)\n",
    "# output_dir    = f'{datasets_dir}/celeba/enhanced'\n",
    "# exit_if_exist = True\n",
    "\n",
    "# ---- Full clusters generation, large size\n",
    "# scale         = 1.\n",
    "# cluster_size  = 10000\n",
    "# image_size    = (192,160)\n",
    "# output_dir    = f'{datasets_dir}/celeba/enhanced'\n",
    "# exit_if_exist = True"
   ]
  },
  {
   "cell_type": "code",
   "execution_count": 3,
   "metadata": {},
   "outputs": [
    {
     "data": {
      "text/markdown": [
       "**\\*\\* Overrided parameters : \\*\\***"
      ],
      "text/plain": [
       "<IPython.core.display.Markdown object>"
      ]
     },
     "metadata": {},
     "output_type": "display_data"
    },
    {
     "name": "stdout",
     "output_type": "stream",
     "text": [
      "scale                : 0.01\n",
      "image_size           : (192, 160)\n",
      "output_dir           : ./data\n",
      "exit_if_exist        : False\n"
     ]
    }
   ],
   "source": [
    "# ---- Used for continous integration - Just forget this line\n",
    "#\n",
    "pwk.override('scale', 'cluster_size', 'image_size', 'output_dir', 'exit_if_exist')"
   ]
  },
  {
   "cell_type": "markdown",
   "metadata": {},
   "source": [
    "### 1.2 - Directories and files :"
   ]
  },
  {
   "cell_type": "code",
   "execution_count": 4,
   "metadata": {},
   "outputs": [],
   "source": [
    "dataset_csv = f'{datasets_dir}/celeba/origine/list_attr_celeba.csv'\n",
    "dataset_img = f'{datasets_dir}/celeba/origine/img_align_celeba'"
   ]
  },
  {
   "cell_type": "markdown",
   "metadata": {},
   "source": [
    "## Step 2 - Read and shuffle filenames catalog"
   ]
  },
  {
   "cell_type": "code",
   "execution_count": 5,
   "metadata": {},
   "outputs": [],
   "source": [
    "dataset_desc = pd.read_csv(dataset_csv, header=0)\n",
    "dataset_desc = dataset_desc.reindex(np.random.permutation(dataset_desc.index))"
   ]
  },
  {
   "cell_type": "markdown",
   "metadata": {},
   "source": [
    "## Step 3 - Save as clusters of n images"
   ]
  },
  {
   "cell_type": "markdown",
   "metadata": {},
   "source": [
    "### 4.2 - Cooking function"
   ]
  },
  {
   "cell_type": "code",
   "execution_count": 6,
   "metadata": {},
   "outputs": [],
   "source": [
    "def read_and_save( dataset_img, dataset_desc, scale=1,\n",
    "                   cluster_size=1000, cluster_dir='./dataset_cluster', cluster_name='images',\n",
    "                   image_size=(128,128),\n",
    "                   exit_if_exist=True):\n",
    "    global pwk\n",
    "    \n",
    "    def save_cluster(imgs,desc,cols,id):\n",
    "        file_img  = f'{cluster_dir}/{cluster_name}-{id:03d}.npy'\n",
    "        file_desc = f'{cluster_dir}/{cluster_name}-{id:03d}.csv'\n",
    "        np.save(file_img,  np.array(imgs))\n",
    "        df=pd.DataFrame(data=desc,columns=cols)\n",
    "        df.to_csv(file_desc, index=False)\n",
    "        return [],[],id+1\n",
    "    \n",
    "    pwk.chrono_start()\n",
    "    cols = list(dataset_desc.columns)\n",
    "\n",
    "    # ---- Check if cluster files exist\n",
    "    #\n",
    "    if exit_if_exist and os.path.isfile(f'{cluster_dir}/images-000.npy'):\n",
    "        print('\\n*** Oups. There are already clusters in the target folder!\\n')\n",
    "        return 0,0\n",
    "    pwk.mkdir(cluster_dir)\n",
    "\n",
    "    # ---- Scale\n",
    "    #\n",
    "    n=int(len(dataset_desc)*scale)\n",
    "    dataset = dataset_desc[:n]\n",
    "    cluster_size = int(cluster_size*scale)\n",
    "    pwk.subtitle('Parameters :')\n",
    "    print(f'Scale is : {scale}')\n",
    "    print(f'Image size is     : {image_size}')\n",
    "    print(f'dataset length is : {n}')\n",
    "    print(f'cluster size is   : {cluster_size}')\n",
    "    print(f'clusters nb  is   :',int(n/cluster_size + 1))\n",
    "    print(f'cluster dir  is   : {cluster_dir}')\n",
    "    \n",
    "    # ---- Read and save clusters\n",
    "    #\n",
    "    pwk.subtitle('Running...')\n",
    "    imgs, desc, cluster_id = [],[],0\n",
    "    #\n",
    "    for i,row in dataset.iterrows():\n",
    "        #\n",
    "        filename = f'{dataset_img}/{row.image_id}'\n",
    "        #\n",
    "        # ---- Read image, resize (and normalize)\n",
    "        #\n",
    "        img = io.imread(filename)\n",
    "        img = transform.resize(img, image_size)\n",
    "        #\n",
    "        # ---- Add image and description\n",
    "        #\n",
    "        imgs.append( img )\n",
    "        desc.append( row.values )\n",
    "        #\n",
    "        # ---- Progress bar\n",
    "        #\n",
    "        pwk.update_progress(f'Cluster {cluster_id:03d} :',len(imgs),cluster_size)\n",
    "        #\n",
    "        # ---- Save cluster if full\n",
    "        #\n",
    "        if len(imgs)==cluster_size:\n",
    "            imgs,desc,cluster_id=save_cluster(imgs,desc,cols, cluster_id)\n",
    "\n",
    "    # ---- Save uncomplete cluster\n",
    "    if len(imgs)>0 : imgs,desc,cluster_id=save_cluster(imgs,desc,cols,cluster_id)\n",
    "\n",
    "    duration=pwk.chrono_stop()\n",
    "    return cluster_id,duration\n"
   ]
  },
  {
   "cell_type": "markdown",
   "metadata": {},
   "source": [
    "### 4.3 - Cluster building"
   ]
  },
  {
   "cell_type": "code",
   "execution_count": 7,
   "metadata": {},
   "outputs": [
    {
     "data": {
      "text/markdown": [
       "<br>**Parameters :**"
      ],
      "text/plain": [
       "<IPython.core.display.Markdown object>"
      ]
     },
     "metadata": {},
     "output_type": "display_data"
    },
    {
     "name": "stdout",
     "output_type": "stream",
     "text": [
      "Scale is : 0.01\n",
      "Image size is     : (192, 160)\n",
      "dataset length is : 2025\n",
      "cluster size is   : 100\n",
      "clusters nb  is   : 21\n",
      "cluster dir  is   : ./data/clusters-192x160\n"
     ]
    },
    {
     "data": {
      "text/markdown": [
       "<br>**Running...**"
      ],
      "text/plain": [
       "<IPython.core.display.Markdown object>"
      ]
     },
     "metadata": {},
     "output_type": "display_data"
    },
    {
     "name": "stdout",
     "output_type": "stream",
     "text": [
      "Cluster 000 :    [#---------------------------------------]   2.0% of 100\r"
     ]
    },
    {
     "name": "stdout",
     "output_type": "stream",
     "text": [
      "Cluster 000 :    [##--------------------------------------]   4.0% of 100\r",
      "Cluster 000 :    [##--------------------------------------]   6.0% of 100\r"
     ]
    },
    {
     "name": "stdout",
     "output_type": "stream",
     "text": [
      "Cluster 000 :    [###-------------------------------------]   8.0% of 100\r"
     ]
    },
    {
     "name": "stdout",
     "output_type": "stream",
     "text": [
      "Cluster 000 :    [####------------------------------------]  10.0% of 100\r",
      "Cluster 000 :    [#####-----------------------------------]  12.0% of 100\r"
     ]
    },
    {
     "name": "stdout",
     "output_type": "stream",
     "text": [
      "Cluster 000 :    [######----------------------------------]  14.0% of 100\r"
     ]
    },
    {
     "name": "stdout",
     "output_type": "stream",
     "text": [
      "Cluster 000 :    [######----------------------------------]  16.0% of 100\r",
      "Cluster 000 :    [#######---------------------------------]  18.0% of 100\r"
     ]
    },
    {
     "name": "stdout",
     "output_type": "stream",
     "text": [
      "Cluster 000 :    [########--------------------------------]  20.0% of 100\r"
     ]
    },
    {
     "name": "stdout",
     "output_type": "stream",
     "text": [
      "Cluster 000 :    [#########-------------------------------]  22.0% of 100\r",
      "Cluster 000 :    [##########------------------------------]  24.0% of 100\r"
     ]
    },
    {
     "name": "stdout",
     "output_type": "stream",
     "text": [
      "Cluster 000 :    [##########------------------------------]  26.0% of 100\r"
     ]
    },
    {
     "name": "stdout",
     "output_type": "stream",
     "text": [
      "Cluster 000 :    [###########-----------------------------]  28.0% of 100\r",
      "Cluster 000 :    [############----------------------------]  30.0% of 100\r"
     ]
    },
    {
     "name": "stdout",
     "output_type": "stream",
     "text": [
      "Cluster 000 :    [#############---------------------------]  32.0% of 100\r"
     ]
    },
    {
     "name": "stdout",
     "output_type": "stream",
     "text": [
      "Cluster 000 :    [##############--------------------------]  34.0% of 100\r",
      "Cluster 000 :    [##############--------------------------]  36.0% of 100\r"
     ]
    },
    {
     "name": "stdout",
     "output_type": "stream",
     "text": [
      "Cluster 000 :    [###############-------------------------]  38.0% of 100\r"
     ]
    },
    {
     "name": "stdout",
     "output_type": "stream",
     "text": [
      "Cluster 000 :    [################------------------------]  40.0% of 100\r",
      "Cluster 000 :    [#################-----------------------]  42.0% of 100\r"
     ]
    },
    {
     "name": "stdout",
     "output_type": "stream",
     "text": [
      "Cluster 000 :    [##################----------------------]  44.0% of 100\r"
     ]
    },
    {
     "name": "stdout",
     "output_type": "stream",
     "text": [
      "Cluster 000 :    [##################----------------------]  46.0% of 100\r",
      "Cluster 000 :    [###################---------------------]  48.0% of 100\r"
     ]
    },
    {
     "name": "stdout",
     "output_type": "stream",
     "text": [
      "Cluster 000 :    [####################--------------------]  50.0% of 100\r"
     ]
    },
    {
     "name": "stdout",
     "output_type": "stream",
     "text": [
      "Cluster 000 :    [#####################-------------------]  52.0% of 100\r",
      "Cluster 000 :    [######################------------------]  54.0% of 100\r"
     ]
    },
    {
     "name": "stdout",
     "output_type": "stream",
     "text": [
      "Cluster 000 :    [######################------------------]  56.0% of 100\r"
     ]
    },
    {
     "name": "stdout",
     "output_type": "stream",
     "text": [
      "Cluster 000 :    [#######################-----------------]  58.0% of 100\r",
      "Cluster 000 :    [########################----------------]  60.0% of 100\r"
     ]
    },
    {
     "name": "stdout",
     "output_type": "stream",
     "text": [
      "Cluster 000 :    [#########################---------------]  62.0% of 100\r"
     ]
    },
    {
     "name": "stdout",
     "output_type": "stream",
     "text": [
      "Cluster 000 :    [##########################--------------]  64.0% of 100\r",
      "Cluster 000 :    [##########################--------------]  66.0% of 100\r"
     ]
    },
    {
     "name": "stdout",
     "output_type": "stream",
     "text": [
      "Cluster 000 :    [###########################-------------]  68.0% of 100\r"
     ]
    },
    {
     "name": "stdout",
     "output_type": "stream",
     "text": [
      "Cluster 000 :    [############################------------]  70.0% of 100\r",
      "Cluster 000 :    [#############################-----------]  72.0% of 100\r"
     ]
    },
    {
     "name": "stdout",
     "output_type": "stream",
     "text": [
      "Cluster 000 :    [##############################----------]  74.0% of 100\r",
      "Cluster 000 :    [##############################----------]  76.0% of 100\r"
     ]
    },
    {
     "name": "stdout",
     "output_type": "stream",
     "text": [
      "Cluster 000 :    [###############################---------]  78.0% of 100\r"
     ]
    },
    {
     "name": "stdout",
     "output_type": "stream",
     "text": [
      "Cluster 000 :    [################################--------]  80.0% of 100\r",
      "Cluster 000 :    [#################################-------]  82.0% of 100\r",
      "Cluster 000 :    [##################################------]  84.0% of 100\r"
     ]
    },
    {
     "name": "stdout",
     "output_type": "stream",
     "text": [
      "Cluster 000 :    [##################################------]  86.0% of 100\r",
      "Cluster 000 :    [###################################-----]  88.0% of 100\r",
      "Cluster 000 :    [####################################----]  90.0% of 100\r"
     ]
    },
    {
     "name": "stdout",
     "output_type": "stream",
     "text": [
      "Cluster 000 :    [#####################################---]  92.0% of 100\r",
      "Cluster 000 :    [######################################--]  94.0% of 100\r",
      "Cluster 000 :    [######################################--]  96.0% of 100\r",
      "Cluster 000 :    [#######################################-]  98.0% of 100\r"
     ]
    },
    {
     "name": "stdout",
     "output_type": "stream",
     "text": [
      "Cluster 000 :    [########################################] 100.0% of 100\n"
     ]
    },
    {
     "name": "stdout",
     "output_type": "stream",
     "text": [
      "Cluster 001 :    [#---------------------------------------]   2.0% of 100\r",
      "Cluster 001 :    [##--------------------------------------]   4.0% of 100\r",
      "Cluster 001 :    [##--------------------------------------]   6.0% of 100\r",
      "Cluster 001 :    [###-------------------------------------]   8.0% of 100\r"
     ]
    },
    {
     "name": "stdout",
     "output_type": "stream",
     "text": [
      "Cluster 001 :    [####------------------------------------]  10.0% of 100\r",
      "Cluster 001 :    [#####-----------------------------------]  12.0% of 100\r",
      "Cluster 001 :    [######----------------------------------]  14.0% of 100\r"
     ]
    },
    {
     "name": "stdout",
     "output_type": "stream",
     "text": [
      "Cluster 001 :    [######----------------------------------]  16.0% of 100\r",
      "Cluster 001 :    [#######---------------------------------]  18.0% of 100\r",
      "Cluster 001 :    [########--------------------------------]  20.0% of 100\r"
     ]
    },
    {
     "name": "stdout",
     "output_type": "stream",
     "text": [
      "Cluster 001 :    [#########-------------------------------]  22.0% of 100\r",
      "Cluster 001 :    [##########------------------------------]  24.0% of 100\r",
      "Cluster 001 :    [##########------------------------------]  26.0% of 100\r"
     ]
    },
    {
     "name": "stdout",
     "output_type": "stream",
     "text": [
      "Cluster 001 :    [###########-----------------------------]  28.0% of 100\r",
      "Cluster 001 :    [############----------------------------]  30.0% of 100\r",
      "Cluster 001 :    [#############---------------------------]  32.0% of 100\r"
     ]
    },
    {
     "name": "stdout",
     "output_type": "stream",
     "text": [
      "Cluster 001 :    [##############--------------------------]  34.0% of 100\r",
      "Cluster 001 :    [##############--------------------------]  36.0% of 100\r",
      "Cluster 001 :    [###############-------------------------]  38.0% of 100\r"
     ]
    },
    {
     "name": "stdout",
     "output_type": "stream",
     "text": [
      "Cluster 001 :    [################------------------------]  40.0% of 100\r",
      "Cluster 001 :    [#################-----------------------]  42.0% of 100\r",
      "Cluster 001 :    [##################----------------------]  44.0% of 100\r"
     ]
    },
    {
     "name": "stdout",
     "output_type": "stream",
     "text": [
      "Cluster 001 :    [##################----------------------]  46.0% of 100\r",
      "Cluster 001 :    [###################---------------------]  48.0% of 100\r",
      "Cluster 001 :    [####################--------------------]  50.0% of 100\r"
     ]
    },
    {
     "name": "stdout",
     "output_type": "stream",
     "text": [
      "Cluster 001 :    [#####################-------------------]  52.0% of 100\r",
      "Cluster 001 :    [######################------------------]  54.0% of 100\r",
      "Cluster 001 :    [######################------------------]  56.0% of 100\r"
     ]
    },
    {
     "name": "stdout",
     "output_type": "stream",
     "text": [
      "Cluster 001 :    [#######################-----------------]  58.0% of 100\r",
      "Cluster 001 :    [########################----------------]  60.0% of 100\r",
      "Cluster 001 :    [#########################---------------]  62.0% of 100\r"
     ]
    },
    {
     "name": "stdout",
     "output_type": "stream",
     "text": [
      "Cluster 001 :    [##########################--------------]  64.0% of 100\r",
      "Cluster 001 :    [##########################--------------]  66.0% of 100\r",
      "Cluster 001 :    [###########################-------------]  68.0% of 100\r",
      "Cluster 001 :    [############################------------]  70.0% of 100\r"
     ]
    },
    {
     "name": "stdout",
     "output_type": "stream",
     "text": [
      "Cluster 001 :    [#############################-----------]  72.0% of 100\r",
      "Cluster 001 :    [##############################----------]  74.0% of 100\r",
      "Cluster 001 :    [##############################----------]  76.0% of 100\r",
      "Cluster 001 :    [###############################---------]  78.0% of 100\r"
     ]
    },
    {
     "name": "stdout",
     "output_type": "stream",
     "text": [
      "Cluster 001 :    [################################--------]  80.0% of 100\r",
      "Cluster 001 :    [#################################-------]  82.0% of 100\r"
     ]
    },
    {
     "name": "stdout",
     "output_type": "stream",
     "text": [
      "Cluster 001 :    [##################################------]  84.0% of 100\r",
      "Cluster 001 :    [##################################------]  86.0% of 100\r",
      "Cluster 001 :    [###################################-----]  88.0% of 100\r"
     ]
    },
    {
     "name": "stdout",
     "output_type": "stream",
     "text": [
      "Cluster 001 :    [####################################----]  90.0% of 100\r",
      "Cluster 001 :    [#####################################---]  92.0% of 100\r",
      "Cluster 001 :    [######################################--]  94.0% of 100\r",
      "Cluster 001 :    [######################################--]  96.0% of 100\r"
     ]
    },
    {
     "name": "stdout",
     "output_type": "stream",
     "text": [
      "Cluster 001 :    [#######################################-]  98.0% of 100\r",
      "Cluster 001 :    [########################################] 100.0% of 100\n"
     ]
    },
    {
     "name": "stdout",
     "output_type": "stream",
     "text": [
      "Cluster 002 :    [#---------------------------------------]   2.0% of 100\r",
      "Cluster 002 :    [##--------------------------------------]   4.0% of 100\r",
      "Cluster 002 :    [##--------------------------------------]   6.0% of 100\r"
     ]
    },
    {
     "name": "stdout",
     "output_type": "stream",
     "text": [
      "Cluster 002 :    [###-------------------------------------]   8.0% of 100\r",
      "Cluster 002 :    [####------------------------------------]  10.0% of 100\r",
      "Cluster 002 :    [#####-----------------------------------]  12.0% of 100\r"
     ]
    },
    {
     "name": "stdout",
     "output_type": "stream",
     "text": [
      "Cluster 002 :    [######----------------------------------]  14.0% of 100\r",
      "Cluster 002 :    [######----------------------------------]  16.0% of 100\r",
      "Cluster 002 :    [#######---------------------------------]  18.0% of 100\r"
     ]
    },
    {
     "name": "stdout",
     "output_type": "stream",
     "text": [
      "Cluster 002 :    [########--------------------------------]  20.0% of 100\r",
      "Cluster 002 :    [#########-------------------------------]  22.0% of 100\r",
      "Cluster 002 :    [##########------------------------------]  24.0% of 100\r"
     ]
    },
    {
     "name": "stdout",
     "output_type": "stream",
     "text": [
      "Cluster 002 :    [##########------------------------------]  26.0% of 100\r",
      "Cluster 002 :    [###########-----------------------------]  28.0% of 100\r",
      "Cluster 002 :    [############----------------------------]  30.0% of 100\r"
     ]
    },
    {
     "name": "stdout",
     "output_type": "stream",
     "text": [
      "Cluster 002 :    [#############---------------------------]  32.0% of 100\r",
      "Cluster 002 :    [##############--------------------------]  34.0% of 100\r",
      "Cluster 002 :    [##############--------------------------]  36.0% of 100\r"
     ]
    },
    {
     "name": "stdout",
     "output_type": "stream",
     "text": [
      "Cluster 002 :    [###############-------------------------]  38.0% of 100\r",
      "Cluster 002 :    [################------------------------]  40.0% of 100\r",
      "Cluster 002 :    [#################-----------------------]  42.0% of 100\r"
     ]
    },
    {
     "name": "stdout",
     "output_type": "stream",
     "text": [
      "Cluster 002 :    [##################----------------------]  44.0% of 100\r",
      "Cluster 002 :    [##################----------------------]  46.0% of 100\r",
      "Cluster 002 :    [###################---------------------]  48.0% of 100\r"
     ]
    },
    {
     "name": "stdout",
     "output_type": "stream",
     "text": [
      "Cluster 002 :    [####################--------------------]  50.0% of 100\r",
      "Cluster 002 :    [#####################-------------------]  52.0% of 100\r",
      "Cluster 002 :    [######################------------------]  54.0% of 100\r"
     ]
    },
    {
     "name": "stdout",
     "output_type": "stream",
     "text": [
      "Cluster 002 :    [######################------------------]  56.0% of 100\r",
      "Cluster 002 :    [#######################-----------------]  58.0% of 100\r",
      "Cluster 002 :    [########################----------------]  60.0% of 100\r"
     ]
    },
    {
     "name": "stdout",
     "output_type": "stream",
     "text": [
      "Cluster 002 :    [#########################---------------]  62.0% of 100\r",
      "Cluster 002 :    [##########################--------------]  64.0% of 100\r",
      "Cluster 002 :    [##########################--------------]  66.0% of 100\r"
     ]
    },
    {
     "name": "stdout",
     "output_type": "stream",
     "text": [
      "Cluster 002 :    [###########################-------------]  68.0% of 100\r",
      "Cluster 002 :    [############################------------]  70.0% of 100\r",
      "Cluster 002 :    [#############################-----------]  72.0% of 100\r"
     ]
    },
    {
     "name": "stdout",
     "output_type": "stream",
     "text": [
      "Cluster 002 :    [##############################----------]  74.0% of 100\r",
      "Cluster 002 :    [##############################----------]  76.0% of 100\r",
      "Cluster 002 :    [###############################---------]  78.0% of 100\r"
     ]
    },
    {
     "name": "stdout",
     "output_type": "stream",
     "text": [
      "Cluster 002 :    [################################--------]  80.0% of 100\r",
      "Cluster 002 :    [#################################-------]  82.0% of 100\r",
      "Cluster 002 :    [##################################------]  84.0% of 100\r"
     ]
    },
    {
     "name": "stdout",
     "output_type": "stream",
     "text": [
      "Cluster 002 :    [##################################------]  86.0% of 100\r",
      "Cluster 002 :    [###################################-----]  88.0% of 100\r",
      "Cluster 002 :    [####################################----]  90.0% of 100\r",
      "Cluster 002 :    [#####################################---]  92.0% of 100\r"
     ]
    },
    {
     "name": "stdout",
     "output_type": "stream",
     "text": [
      "Cluster 002 :    [######################################--]  94.0% of 100\r",
      "Cluster 002 :    [######################################--]  96.0% of 100\r",
      "Cluster 002 :    [#######################################-]  98.0% of 100\r"
     ]
    },
    {
     "name": "stdout",
     "output_type": "stream",
     "text": [
      "Cluster 002 :    [########################################] 100.0% of 100\n"
     ]
    },
    {
     "name": "stdout",
     "output_type": "stream",
     "text": [
      "Cluster 003 :    [#---------------------------------------]   2.0% of 100\r",
      "Cluster 003 :    [##--------------------------------------]   4.0% of 100\r",
      "Cluster 003 :    [##--------------------------------------]   6.0% of 100\r"
     ]
    },
    {
     "name": "stdout",
     "output_type": "stream",
     "text": [
      "Cluster 003 :    [###-------------------------------------]   8.0% of 100\r",
      "Cluster 003 :    [####------------------------------------]  10.0% of 100\r",
      "Cluster 003 :    [#####-----------------------------------]  12.0% of 100\r"
     ]
    },
    {
     "name": "stdout",
     "output_type": "stream",
     "text": [
      "Cluster 003 :    [######----------------------------------]  14.0% of 100\r",
      "Cluster 003 :    [######----------------------------------]  16.0% of 100\r",
      "Cluster 003 :    [#######---------------------------------]  18.0% of 100\r",
      "Cluster 003 :    [########--------------------------------]  20.0% of 100\r"
     ]
    },
    {
     "name": "stdout",
     "output_type": "stream",
     "text": [
      "Cluster 003 :    [#########-------------------------------]  22.0% of 100\r",
      "Cluster 003 :    [##########------------------------------]  24.0% of 100\r",
      "Cluster 003 :    [##########------------------------------]  26.0% of 100\r"
     ]
    },
    {
     "name": "stdout",
     "output_type": "stream",
     "text": [
      "Cluster 003 :    [###########-----------------------------]  28.0% of 100\r",
      "Cluster 003 :    [############----------------------------]  30.0% of 100\r",
      "Cluster 003 :    [#############---------------------------]  32.0% of 100\r"
     ]
    },
    {
     "name": "stdout",
     "output_type": "stream",
     "text": [
      "Cluster 003 :    [##############--------------------------]  34.0% of 100\r",
      "Cluster 003 :    [##############--------------------------]  36.0% of 100\r",
      "Cluster 003 :    [###############-------------------------]  38.0% of 100\r"
     ]
    },
    {
     "name": "stdout",
     "output_type": "stream",
     "text": [
      "Cluster 003 :    [################------------------------]  40.0% of 100\r",
      "Cluster 003 :    [#################-----------------------]  42.0% of 100\r",
      "Cluster 003 :    [##################----------------------]  44.0% of 100\r"
     ]
    },
    {
     "name": "stdout",
     "output_type": "stream",
     "text": [
      "Cluster 003 :    [##################----------------------]  46.0% of 100\r",
      "Cluster 003 :    [###################---------------------]  48.0% of 100\r",
      "Cluster 003 :    [####################--------------------]  50.0% of 100\r",
      "Cluster 003 :    [#####################-------------------]  52.0% of 100\r"
     ]
    },
    {
     "name": "stdout",
     "output_type": "stream",
     "text": [
      "Cluster 003 :    [######################------------------]  54.0% of 100\r",
      "Cluster 003 :    [######################------------------]  56.0% of 100\r",
      "Cluster 003 :    [#######################-----------------]  58.0% of 100\r"
     ]
    },
    {
     "name": "stdout",
     "output_type": "stream",
     "text": [
      "Cluster 003 :    [########################----------------]  60.0% of 100\r",
      "Cluster 003 :    [#########################---------------]  62.0% of 100\r",
      "Cluster 003 :    [##########################--------------]  64.0% of 100\r"
     ]
    },
    {
     "name": "stdout",
     "output_type": "stream",
     "text": [
      "Cluster 003 :    [##########################--------------]  66.0% of 100\r",
      "Cluster 003 :    [###########################-------------]  68.0% of 100\r",
      "Cluster 003 :    [############################------------]  70.0% of 100\r",
      "Cluster 003 :    [#############################-----------]  72.0% of 100\r"
     ]
    },
    {
     "name": "stdout",
     "output_type": "stream",
     "text": [
      "Cluster 003 :    [##############################----------]  74.0% of 100\r",
      "Cluster 003 :    [##############################----------]  76.0% of 100\r",
      "Cluster 003 :    [###############################---------]  78.0% of 100\r"
     ]
    },
    {
     "name": "stdout",
     "output_type": "stream",
     "text": [
      "Cluster 003 :    [################################--------]  80.0% of 100\r",
      "Cluster 003 :    [#################################-------]  82.0% of 100\r",
      "Cluster 003 :    [##################################------]  84.0% of 100\r"
     ]
    },
    {
     "name": "stdout",
     "output_type": "stream",
     "text": [
      "Cluster 003 :    [##################################------]  86.0% of 100\r",
      "Cluster 003 :    [###################################-----]  88.0% of 100\r",
      "Cluster 003 :    [####################################----]  90.0% of 100\r"
     ]
    },
    {
     "name": "stdout",
     "output_type": "stream",
     "text": [
      "Cluster 003 :    [#####################################---]  92.0% of 100\r",
      "Cluster 003 :    [######################################--]  94.0% of 100\r",
      "Cluster 003 :    [######################################--]  96.0% of 100\r",
      "Cluster 003 :    [#######################################-]  98.0% of 100\r"
     ]
    },
    {
     "name": "stdout",
     "output_type": "stream",
     "text": [
      "Cluster 003 :    [########################################] 100.0% of 100\n"
     ]
    },
    {
     "name": "stdout",
     "output_type": "stream",
     "text": [
      "Cluster 004 :    [#---------------------------------------]   2.0% of 100\r",
      "Cluster 004 :    [##--------------------------------------]   4.0% of 100\r",
      "Cluster 004 :    [##--------------------------------------]   6.0% of 100\r"
     ]
    },
    {
     "name": "stdout",
     "output_type": "stream",
     "text": [
      "Cluster 004 :    [###-------------------------------------]   8.0% of 100\r",
      "Cluster 004 :    [####------------------------------------]  10.0% of 100\r",
      "Cluster 004 :    [#####-----------------------------------]  12.0% of 100\r"
     ]
    },
    {
     "name": "stdout",
     "output_type": "stream",
     "text": [
      "Cluster 004 :    [######----------------------------------]  14.0% of 100\r",
      "Cluster 004 :    [######----------------------------------]  16.0% of 100\r",
      "Cluster 004 :    [#######---------------------------------]  18.0% of 100\r"
     ]
    },
    {
     "name": "stdout",
     "output_type": "stream",
     "text": [
      "Cluster 004 :    [########--------------------------------]  20.0% of 100\r",
      "Cluster 004 :    [#########-------------------------------]  22.0% of 100\r",
      "Cluster 004 :    [##########------------------------------]  24.0% of 100\r"
     ]
    },
    {
     "name": "stdout",
     "output_type": "stream",
     "text": [
      "Cluster 004 :    [##########------------------------------]  26.0% of 100\r",
      "Cluster 004 :    [###########-----------------------------]  28.0% of 100\r",
      "Cluster 004 :    [############----------------------------]  30.0% of 100\r"
     ]
    },
    {
     "name": "stdout",
     "output_type": "stream",
     "text": [
      "Cluster 004 :    [#############---------------------------]  32.0% of 100\r",
      "Cluster 004 :    [##############--------------------------]  34.0% of 100\r",
      "Cluster 004 :    [##############--------------------------]  36.0% of 100\r"
     ]
    },
    {
     "name": "stdout",
     "output_type": "stream",
     "text": [
      "Cluster 004 :    [###############-------------------------]  38.0% of 100\r",
      "Cluster 004 :    [################------------------------]  40.0% of 100\r",
      "Cluster 004 :    [#################-----------------------]  42.0% of 100\r"
     ]
    },
    {
     "name": "stdout",
     "output_type": "stream",
     "text": [
      "Cluster 004 :    [##################----------------------]  44.0% of 100\r",
      "Cluster 004 :    [##################----------------------]  46.0% of 100\r",
      "Cluster 004 :    [###################---------------------]  48.0% of 100\r",
      "Cluster 004 :    [####################--------------------]  50.0% of 100\r"
     ]
    },
    {
     "name": "stdout",
     "output_type": "stream",
     "text": [
      "Cluster 004 :    [#####################-------------------]  52.0% of 100\r",
      "Cluster 004 :    [######################------------------]  54.0% of 100\r",
      "Cluster 004 :    [######################------------------]  56.0% of 100\r"
     ]
    },
    {
     "name": "stdout",
     "output_type": "stream",
     "text": [
      "Cluster 004 :    [#######################-----------------]  58.0% of 100\r",
      "Cluster 004 :    [########################----------------]  60.0% of 100\r",
      "Cluster 004 :    [#########################---------------]  62.0% of 100\r",
      "Cluster 004 :    [##########################--------------]  64.0% of 100\r"
     ]
    },
    {
     "name": "stdout",
     "output_type": "stream",
     "text": [
      "Cluster 004 :    [##########################--------------]  66.0% of 100\r",
      "Cluster 004 :    [###########################-------------]  68.0% of 100\r"
     ]
    },
    {
     "name": "stdout",
     "output_type": "stream",
     "text": [
      "Cluster 004 :    [############################------------]  70.0% of 100\r",
      "Cluster 004 :    [#############################-----------]  72.0% of 100\r",
      "Cluster 004 :    [##############################----------]  74.0% of 100\r",
      "Cluster 004 :    [##############################----------]  76.0% of 100\r"
     ]
    },
    {
     "name": "stdout",
     "output_type": "stream",
     "text": [
      "Cluster 004 :    [###############################---------]  78.0% of 100\r",
      "Cluster 004 :    [################################--------]  80.0% of 100\r",
      "Cluster 004 :    [#################################-------]  82.0% of 100\r",
      "Cluster 004 :    [##################################------]  84.0% of 100\r"
     ]
    },
    {
     "name": "stdout",
     "output_type": "stream",
     "text": [
      "Cluster 004 :    [##################################------]  86.0% of 100\r",
      "Cluster 004 :    [###################################-----]  88.0% of 100\r",
      "Cluster 004 :    [####################################----]  90.0% of 100\r"
     ]
    },
    {
     "name": "stdout",
     "output_type": "stream",
     "text": [
      "Cluster 004 :    [#####################################---]  92.0% of 100\r",
      "Cluster 004 :    [######################################--]  94.0% of 100\r",
      "Cluster 004 :    [######################################--]  96.0% of 100\r"
     ]
    },
    {
     "name": "stdout",
     "output_type": "stream",
     "text": [
      "Cluster 004 :    [#######################################-]  98.0% of 100\r",
      "Cluster 004 :    [########################################] 100.0% of 100\n"
     ]
    },
    {
     "name": "stdout",
     "output_type": "stream",
     "text": [
      "Cluster 005 :    [#---------------------------------------]   2.0% of 100\r",
      "Cluster 005 :    [##--------------------------------------]   4.0% of 100\r",
      "Cluster 005 :    [##--------------------------------------]   6.0% of 100\r",
      "Cluster 005 :    [###-------------------------------------]   8.0% of 100\r"
     ]
    },
    {
     "name": "stdout",
     "output_type": "stream",
     "text": [
      "Cluster 005 :    [####------------------------------------]  10.0% of 100\r",
      "Cluster 005 :    [#####-----------------------------------]  12.0% of 100\r",
      "Cluster 005 :    [######----------------------------------]  14.0% of 100\r"
     ]
    },
    {
     "name": "stdout",
     "output_type": "stream",
     "text": [
      "Cluster 005 :    [######----------------------------------]  16.0% of 100\r",
      "Cluster 005 :    [#######---------------------------------]  18.0% of 100\r",
      "Cluster 005 :    [########--------------------------------]  20.0% of 100\r",
      "Cluster 005 :    [#########-------------------------------]  22.0% of 100\r"
     ]
    },
    {
     "name": "stdout",
     "output_type": "stream",
     "text": [
      "Cluster 005 :    [##########------------------------------]  24.0% of 100\r",
      "Cluster 005 :    [##########------------------------------]  26.0% of 100\r",
      "Cluster 005 :    [###########-----------------------------]  28.0% of 100\r"
     ]
    },
    {
     "name": "stdout",
     "output_type": "stream",
     "text": [
      "Cluster 005 :    [############----------------------------]  30.0% of 100\r",
      "Cluster 005 :    [#############---------------------------]  32.0% of 100\r",
      "Cluster 005 :    [##############--------------------------]  34.0% of 100\r",
      "Cluster 005 :    [##############--------------------------]  36.0% of 100\r"
     ]
    },
    {
     "name": "stdout",
     "output_type": "stream",
     "text": [
      "Cluster 005 :    [###############-------------------------]  38.0% of 100\r",
      "Cluster 005 :    [################------------------------]  40.0% of 100\r",
      "Cluster 005 :    [#################-----------------------]  42.0% of 100\r"
     ]
    },
    {
     "name": "stdout",
     "output_type": "stream",
     "text": [
      "Cluster 005 :    [##################----------------------]  44.0% of 100\r",
      "Cluster 005 :    [##################----------------------]  46.0% of 100\r",
      "Cluster 005 :    [###################---------------------]  48.0% of 100\r"
     ]
    },
    {
     "name": "stdout",
     "output_type": "stream",
     "text": [
      "Cluster 005 :    [####################--------------------]  50.0% of 100\r",
      "Cluster 005 :    [#####################-------------------]  52.0% of 100\r",
      "Cluster 005 :    [######################------------------]  54.0% of 100\r"
     ]
    },
    {
     "name": "stdout",
     "output_type": "stream",
     "text": [
      "Cluster 005 :    [######################------------------]  56.0% of 100\r",
      "Cluster 005 :    [#######################-----------------]  58.0% of 100\r",
      "Cluster 005 :    [########################----------------]  60.0% of 100\r"
     ]
    },
    {
     "name": "stdout",
     "output_type": "stream",
     "text": [
      "Cluster 005 :    [#########################---------------]  62.0% of 100\r",
      "Cluster 005 :    [##########################--------------]  64.0% of 100\r",
      "Cluster 005 :    [##########################--------------]  66.0% of 100\r"
     ]
    },
    {
     "name": "stdout",
     "output_type": "stream",
     "text": [
      "Cluster 005 :    [###########################-------------]  68.0% of 100\r",
      "Cluster 005 :    [############################------------]  70.0% of 100\r",
      "Cluster 005 :    [#############################-----------]  72.0% of 100\r"
     ]
    },
    {
     "name": "stdout",
     "output_type": "stream",
     "text": [
      "Cluster 005 :    [##############################----------]  74.0% of 100\r",
      "Cluster 005 :    [##############################----------]  76.0% of 100\r",
      "Cluster 005 :    [###############################---------]  78.0% of 100\r",
      "Cluster 005 :    [################################--------]  80.0% of 100\r"
     ]
    },
    {
     "name": "stdout",
     "output_type": "stream",
     "text": [
      "Cluster 005 :    [#################################-------]  82.0% of 100\r",
      "Cluster 005 :    [##################################------]  84.0% of 100\r",
      "Cluster 005 :    [##################################------]  86.0% of 100\r"
     ]
    },
    {
     "name": "stdout",
     "output_type": "stream",
     "text": [
      "Cluster 005 :    [###################################-----]  88.0% of 100\r",
      "Cluster 005 :    [####################################----]  90.0% of 100\r",
      "Cluster 005 :    [#####################################---]  92.0% of 100\r"
     ]
    },
    {
     "name": "stdout",
     "output_type": "stream",
     "text": [
      "Cluster 005 :    [######################################--]  94.0% of 100\r",
      "Cluster 005 :    [######################################--]  96.0% of 100\r",
      "Cluster 005 :    [#######################################-]  98.0% of 100\r",
      "Cluster 005 :    [########################################] 100.0% of 100\n"
     ]
    },
    {
     "name": "stdout",
     "output_type": "stream",
     "text": [
      "Cluster 006 :    [#---------------------------------------]   2.0% of 100\r",
      "Cluster 006 :    [##--------------------------------------]   4.0% of 100\r",
      "Cluster 006 :    [##--------------------------------------]   6.0% of 100\r"
     ]
    },
    {
     "name": "stdout",
     "output_type": "stream",
     "text": [
      "Cluster 006 :    [###-------------------------------------]   8.0% of 100\r",
      "Cluster 006 :    [####------------------------------------]  10.0% of 100\r",
      "Cluster 006 :    [#####-----------------------------------]  12.0% of 100\r",
      "Cluster 006 :    [######----------------------------------]  14.0% of 100\r"
     ]
    },
    {
     "name": "stdout",
     "output_type": "stream",
     "text": [
      "Cluster 006 :    [######----------------------------------]  16.0% of 100\r",
      "Cluster 006 :    [#######---------------------------------]  18.0% of 100\r",
      "Cluster 006 :    [########--------------------------------]  20.0% of 100\r"
     ]
    },
    {
     "name": "stdout",
     "output_type": "stream",
     "text": [
      "Cluster 006 :    [#########-------------------------------]  22.0% of 100\r",
      "Cluster 006 :    [##########------------------------------]  24.0% of 100\r",
      "Cluster 006 :    [##########------------------------------]  26.0% of 100\r"
     ]
    },
    {
     "name": "stdout",
     "output_type": "stream",
     "text": [
      "Cluster 006 :    [###########-----------------------------]  28.0% of 100\r",
      "Cluster 006 :    [############----------------------------]  30.0% of 100\r",
      "Cluster 006 :    [#############---------------------------]  32.0% of 100\r"
     ]
    },
    {
     "name": "stdout",
     "output_type": "stream",
     "text": [
      "Cluster 006 :    [##############--------------------------]  34.0% of 100\r",
      "Cluster 006 :    [##############--------------------------]  36.0% of 100\r",
      "Cluster 006 :    [###############-------------------------]  38.0% of 100\r"
     ]
    },
    {
     "name": "stdout",
     "output_type": "stream",
     "text": [
      "Cluster 006 :    [################------------------------]  40.0% of 100\r",
      "Cluster 006 :    [#################-----------------------]  42.0% of 100\r",
      "Cluster 006 :    [##################----------------------]  44.0% of 100\r",
      "Cluster 006 :    [##################----------------------]  46.0% of 100\r"
     ]
    },
    {
     "name": "stdout",
     "output_type": "stream",
     "text": [
      "Cluster 006 :    [###################---------------------]  48.0% of 100\r",
      "Cluster 006 :    [####################--------------------]  50.0% of 100\r",
      "Cluster 006 :    [#####################-------------------]  52.0% of 100\r"
     ]
    },
    {
     "name": "stdout",
     "output_type": "stream",
     "text": [
      "Cluster 006 :    [######################------------------]  54.0% of 100\r",
      "Cluster 006 :    [######################------------------]  56.0% of 100\r",
      "Cluster 006 :    [#######################-----------------]  58.0% of 100\r"
     ]
    },
    {
     "name": "stdout",
     "output_type": "stream",
     "text": [
      "Cluster 006 :    [########################----------------]  60.0% of 100\r",
      "Cluster 006 :    [#########################---------------]  62.0% of 100\r",
      "Cluster 006 :    [##########################--------------]  64.0% of 100\r",
      "Cluster 006 :    [##########################--------------]  66.0% of 100\r"
     ]
    },
    {
     "name": "stdout",
     "output_type": "stream",
     "text": [
      "Cluster 006 :    [###########################-------------]  68.0% of 100\r",
      "Cluster 006 :    [############################------------]  70.0% of 100\r",
      "Cluster 006 :    [#############################-----------]  72.0% of 100\r"
     ]
    },
    {
     "name": "stdout",
     "output_type": "stream",
     "text": [
      "Cluster 006 :    [##############################----------]  74.0% of 100\r",
      "Cluster 006 :    [##############################----------]  76.0% of 100\r",
      "Cluster 006 :    [###############################---------]  78.0% of 100\r"
     ]
    },
    {
     "name": "stdout",
     "output_type": "stream",
     "text": [
      "Cluster 006 :    [################################--------]  80.0% of 100\r",
      "Cluster 006 :    [#################################-------]  82.0% of 100\r",
      "Cluster 006 :    [##################################------]  84.0% of 100\r",
      "Cluster 006 :    [##################################------]  86.0% of 100\r"
     ]
    },
    {
     "name": "stdout",
     "output_type": "stream",
     "text": [
      "Cluster 006 :    [###################################-----]  88.0% of 100\r",
      "Cluster 006 :    [####################################----]  90.0% of 100\r",
      "Cluster 006 :    [#####################################---]  92.0% of 100\r"
     ]
    },
    {
     "name": "stdout",
     "output_type": "stream",
     "text": [
      "Cluster 006 :    [######################################--]  94.0% of 100\r",
      "Cluster 006 :    [######################################--]  96.0% of 100\r",
      "Cluster 006 :    [#######################################-]  98.0% of 100\r"
     ]
    },
    {
     "name": "stdout",
     "output_type": "stream",
     "text": [
      "Cluster 006 :    [########################################] 100.0% of 100\n"
     ]
    },
    {
     "name": "stdout",
     "output_type": "stream",
     "text": [
      "Cluster 007 :    [#---------------------------------------]   2.0% of 100\r",
      "Cluster 007 :    [##--------------------------------------]   4.0% of 100\r",
      "Cluster 007 :    [##--------------------------------------]   6.0% of 100\r"
     ]
    },
    {
     "name": "stdout",
     "output_type": "stream",
     "text": [
      "Cluster 007 :    [###-------------------------------------]   8.0% of 100\r",
      "Cluster 007 :    [####------------------------------------]  10.0% of 100\r",
      "Cluster 007 :    [#####-----------------------------------]  12.0% of 100\r",
      "Cluster 007 :    [######----------------------------------]  14.0% of 100\r"
     ]
    },
    {
     "name": "stdout",
     "output_type": "stream",
     "text": [
      "Cluster 007 :    [######----------------------------------]  16.0% of 100\r",
      "Cluster 007 :    [#######---------------------------------]  18.0% of 100\r",
      "Cluster 007 :    [########--------------------------------]  20.0% of 100\r"
     ]
    },
    {
     "name": "stdout",
     "output_type": "stream",
     "text": [
      "Cluster 007 :    [#########-------------------------------]  22.0% of 100\r",
      "Cluster 007 :    [##########------------------------------]  24.0% of 100\r",
      "Cluster 007 :    [##########------------------------------]  26.0% of 100\r",
      "Cluster 007 :    [###########-----------------------------]  28.0% of 100\r"
     ]
    },
    {
     "name": "stdout",
     "output_type": "stream",
     "text": [
      "Cluster 007 :    [############----------------------------]  30.0% of 100\r",
      "Cluster 007 :    [#############---------------------------]  32.0% of 100\r",
      "Cluster 007 :    [##############--------------------------]  34.0% of 100\r"
     ]
    },
    {
     "name": "stdout",
     "output_type": "stream",
     "text": [
      "Cluster 007 :    [##############--------------------------]  36.0% of 100\r",
      "Cluster 007 :    [###############-------------------------]  38.0% of 100\r",
      "Cluster 007 :    [################------------------------]  40.0% of 100\r",
      "Cluster 007 :    [#################-----------------------]  42.0% of 100\r"
     ]
    },
    {
     "name": "stdout",
     "output_type": "stream",
     "text": [
      "Cluster 007 :    [##################----------------------]  44.0% of 100\r",
      "Cluster 007 :    [##################----------------------]  46.0% of 100\r",
      "Cluster 007 :    [###################---------------------]  48.0% of 100\r"
     ]
    },
    {
     "name": "stdout",
     "output_type": "stream",
     "text": [
      "Cluster 007 :    [####################--------------------]  50.0% of 100\r",
      "Cluster 007 :    [#####################-------------------]  52.0% of 100\r",
      "Cluster 007 :    [######################------------------]  54.0% of 100\r"
     ]
    },
    {
     "name": "stdout",
     "output_type": "stream",
     "text": [
      "Cluster 007 :    [######################------------------]  56.0% of 100\r",
      "Cluster 007 :    [#######################-----------------]  58.0% of 100\r",
      "Cluster 007 :    [########################----------------]  60.0% of 100\r"
     ]
    },
    {
     "name": "stdout",
     "output_type": "stream",
     "text": [
      "Cluster 007 :    [#########################---------------]  62.0% of 100\r",
      "Cluster 007 :    [##########################--------------]  64.0% of 100\r",
      "Cluster 007 :    [##########################--------------]  66.0% of 100\r",
      "Cluster 007 :    [###########################-------------]  68.0% of 100\r"
     ]
    },
    {
     "name": "stdout",
     "output_type": "stream",
     "text": [
      "Cluster 007 :    [############################------------]  70.0% of 100\r",
      "Cluster 007 :    [#############################-----------]  72.0% of 100\r",
      "Cluster 007 :    [##############################----------]  74.0% of 100\r",
      "Cluster 007 :    [##############################----------]  76.0% of 100\r"
     ]
    },
    {
     "name": "stdout",
     "output_type": "stream",
     "text": [
      "Cluster 007 :    [###############################---------]  78.0% of 100\r",
      "Cluster 007 :    [################################--------]  80.0% of 100\r",
      "Cluster 007 :    [#################################-------]  82.0% of 100\r",
      "Cluster 007 :    [##################################------]  84.0% of 100\r"
     ]
    },
    {
     "name": "stdout",
     "output_type": "stream",
     "text": [
      "Cluster 007 :    [##################################------]  86.0% of 100\r",
      "Cluster 007 :    [###################################-----]  88.0% of 100\r",
      "Cluster 007 :    [####################################----]  90.0% of 100\r",
      "Cluster 007 :    [#####################################---]  92.0% of 100\r"
     ]
    },
    {
     "name": "stdout",
     "output_type": "stream",
     "text": [
      "Cluster 007 :    [######################################--]  94.0% of 100\r",
      "Cluster 007 :    [######################################--]  96.0% of 100\r",
      "Cluster 007 :    [#######################################-]  98.0% of 100\r",
      "Cluster 007 :    [########################################] 100.0% of 100\n"
     ]
    },
    {
     "name": "stdout",
     "output_type": "stream",
     "text": [
      "Cluster 008 :    [#---------------------------------------]   2.0% of 100\r",
      "Cluster 008 :    [##--------------------------------------]   4.0% of 100\r",
      "Cluster 008 :    [##--------------------------------------]   6.0% of 100\r",
      "Cluster 008 :    [###-------------------------------------]   8.0% of 100\r"
     ]
    },
    {
     "name": "stdout",
     "output_type": "stream",
     "text": [
      "Cluster 008 :    [####------------------------------------]  10.0% of 100\r",
      "Cluster 008 :    [#####-----------------------------------]  12.0% of 100\r",
      "Cluster 008 :    [######----------------------------------]  14.0% of 100\r",
      "Cluster 008 :    [######----------------------------------]  16.0% of 100\r"
     ]
    },
    {
     "name": "stdout",
     "output_type": "stream",
     "text": [
      "Cluster 008 :    [#######---------------------------------]  18.0% of 100\r",
      "Cluster 008 :    [########--------------------------------]  20.0% of 100\r",
      "Cluster 008 :    [#########-------------------------------]  22.0% of 100\r"
     ]
    },
    {
     "name": "stdout",
     "output_type": "stream",
     "text": [
      "Cluster 008 :    [##########------------------------------]  24.0% of 100\r",
      "Cluster 008 :    [##########------------------------------]  26.0% of 100\r",
      "Cluster 008 :    [###########-----------------------------]  28.0% of 100\r",
      "Cluster 008 :    [############----------------------------]  30.0% of 100\r"
     ]
    },
    {
     "name": "stdout",
     "output_type": "stream",
     "text": [
      "Cluster 008 :    [#############---------------------------]  32.0% of 100\r",
      "Cluster 008 :    [##############--------------------------]  34.0% of 100\r",
      "Cluster 008 :    [##############--------------------------]  36.0% of 100\r"
     ]
    },
    {
     "name": "stdout",
     "output_type": "stream",
     "text": [
      "Cluster 008 :    [###############-------------------------]  38.0% of 100\r",
      "Cluster 008 :    [################------------------------]  40.0% of 100\r",
      "Cluster 008 :    [#################-----------------------]  42.0% of 100\r",
      "Cluster 008 :    [##################----------------------]  44.0% of 100\r"
     ]
    },
    {
     "name": "stdout",
     "output_type": "stream",
     "text": [
      "Cluster 008 :    [##################----------------------]  46.0% of 100\r",
      "Cluster 008 :    [###################---------------------]  48.0% of 100\r",
      "Cluster 008 :    [####################--------------------]  50.0% of 100\r"
     ]
    },
    {
     "name": "stdout",
     "output_type": "stream",
     "text": [
      "Cluster 008 :    [#####################-------------------]  52.0% of 100\r",
      "Cluster 008 :    [######################------------------]  54.0% of 100\r",
      "Cluster 008 :    [######################------------------]  56.0% of 100\r"
     ]
    },
    {
     "name": "stdout",
     "output_type": "stream",
     "text": [
      "Cluster 008 :    [#######################-----------------]  58.0% of 100\r",
      "Cluster 008 :    [########################----------------]  60.0% of 100\r",
      "Cluster 008 :    [#########################---------------]  62.0% of 100\r",
      "Cluster 008 :    [##########################--------------]  64.0% of 100\r"
     ]
    },
    {
     "name": "stdout",
     "output_type": "stream",
     "text": [
      "Cluster 008 :    [##########################--------------]  66.0% of 100\r",
      "Cluster 008 :    [###########################-------------]  68.0% of 100\r",
      "Cluster 008 :    [############################------------]  70.0% of 100\r"
     ]
    },
    {
     "name": "stdout",
     "output_type": "stream",
     "text": [
      "Cluster 008 :    [#############################-----------]  72.0% of 100\r",
      "Cluster 008 :    [##############################----------]  74.0% of 100\r",
      "Cluster 008 :    [##############################----------]  76.0% of 100\r",
      "Cluster 008 :    [###############################---------]  78.0% of 100\r",
      "Cluster 008 :    [################################--------]  80.0% of 100\r"
     ]
    },
    {
     "name": "stdout",
     "output_type": "stream",
     "text": [
      "Cluster 008 :    [#################################-------]  82.0% of 100\r",
      "Cluster 008 :    [##################################------]  84.0% of 100\r",
      "Cluster 008 :    [##################################------]  86.0% of 100\r"
     ]
    },
    {
     "name": "stdout",
     "output_type": "stream",
     "text": [
      "Cluster 008 :    [###################################-----]  88.0% of 100\r",
      "Cluster 008 :    [####################################----]  90.0% of 100\r",
      "Cluster 008 :    [#####################################---]  92.0% of 100\r",
      "Cluster 008 :    [######################################--]  94.0% of 100\r"
     ]
    },
    {
     "name": "stdout",
     "output_type": "stream",
     "text": [
      "Cluster 008 :    [######################################--]  96.0% of 100\r",
      "Cluster 008 :    [#######################################-]  98.0% of 100\r",
      "Cluster 008 :    [########################################] 100.0% of 100\n"
     ]
    },
    {
     "name": "stdout",
     "output_type": "stream",
     "text": [
      "Cluster 009 :    [#---------------------------------------]   2.0% of 100\r",
      "Cluster 009 :    [##--------------------------------------]   4.0% of 100\r",
      "Cluster 009 :    [##--------------------------------------]   6.0% of 100\r",
      "Cluster 009 :    [###-------------------------------------]   8.0% of 100\r"
     ]
    },
    {
     "name": "stdout",
     "output_type": "stream",
     "text": [
      "Cluster 009 :    [####------------------------------------]  10.0% of 100\r",
      "Cluster 009 :    [#####-----------------------------------]  12.0% of 100\r",
      "Cluster 009 :    [######----------------------------------]  14.0% of 100\r"
     ]
    },
    {
     "name": "stdout",
     "output_type": "stream",
     "text": [
      "Cluster 009 :    [######----------------------------------]  16.0% of 100\r",
      "Cluster 009 :    [#######---------------------------------]  18.0% of 100\r",
      "Cluster 009 :    [########--------------------------------]  20.0% of 100\r"
     ]
    },
    {
     "name": "stdout",
     "output_type": "stream",
     "text": [
      "Cluster 009 :    [#########-------------------------------]  22.0% of 100\r",
      "Cluster 009 :    [##########------------------------------]  24.0% of 100\r",
      "Cluster 009 :    [##########------------------------------]  26.0% of 100\r"
     ]
    },
    {
     "name": "stdout",
     "output_type": "stream",
     "text": [
      "Cluster 009 :    [###########-----------------------------]  28.0% of 100\r",
      "Cluster 009 :    [############----------------------------]  30.0% of 100\r",
      "Cluster 009 :    [#############---------------------------]  32.0% of 100\r"
     ]
    },
    {
     "name": "stdout",
     "output_type": "stream",
     "text": [
      "Cluster 009 :    [##############--------------------------]  34.0% of 100\r",
      "Cluster 009 :    [##############--------------------------]  36.0% of 100\r",
      "Cluster 009 :    [###############-------------------------]  38.0% of 100\r"
     ]
    },
    {
     "name": "stdout",
     "output_type": "stream",
     "text": [
      "Cluster 009 :    [################------------------------]  40.0% of 100\r",
      "Cluster 009 :    [#################-----------------------]  42.0% of 100\r",
      "Cluster 009 :    [##################----------------------]  44.0% of 100\r",
      "Cluster 009 :    [##################----------------------]  46.0% of 100\r"
     ]
    },
    {
     "name": "stdout",
     "output_type": "stream",
     "text": [
      "Cluster 009 :    [###################---------------------]  48.0% of 100\r",
      "Cluster 009 :    [####################--------------------]  50.0% of 100\r",
      "Cluster 009 :    [#####################-------------------]  52.0% of 100\r",
      "Cluster 009 :    [######################------------------]  54.0% of 100\r"
     ]
    },
    {
     "name": "stdout",
     "output_type": "stream",
     "text": [
      "Cluster 009 :    [######################------------------]  56.0% of 100\r",
      "Cluster 009 :    [#######################-----------------]  58.0% of 100\r",
      "Cluster 009 :    [########################----------------]  60.0% of 100\r",
      "Cluster 009 :    [#########################---------------]  62.0% of 100\r"
     ]
    },
    {
     "name": "stdout",
     "output_type": "stream",
     "text": [
      "Cluster 009 :    [##########################--------------]  64.0% of 100\r",
      "Cluster 009 :    [##########################--------------]  66.0% of 100\r",
      "Cluster 009 :    [###########################-------------]  68.0% of 100\r"
     ]
    },
    {
     "name": "stdout",
     "output_type": "stream",
     "text": [
      "Cluster 009 :    [############################------------]  70.0% of 100\r",
      "Cluster 009 :    [#############################-----------]  72.0% of 100\r",
      "Cluster 009 :    [##############################----------]  74.0% of 100\r"
     ]
    },
    {
     "name": "stdout",
     "output_type": "stream",
     "text": [
      "Cluster 009 :    [##############################----------]  76.0% of 100\r",
      "Cluster 009 :    [###############################---------]  78.0% of 100\r",
      "Cluster 009 :    [################################--------]  80.0% of 100\r",
      "Cluster 009 :    [#################################-------]  82.0% of 100\r"
     ]
    },
    {
     "name": "stdout",
     "output_type": "stream",
     "text": [
      "Cluster 009 :    [##################################------]  84.0% of 100\r",
      "Cluster 009 :    [##################################------]  86.0% of 100\r",
      "Cluster 009 :    [###################################-----]  88.0% of 100\r",
      "Cluster 009 :    [####################################----]  90.0% of 100\r"
     ]
    },
    {
     "name": "stdout",
     "output_type": "stream",
     "text": [
      "Cluster 009 :    [#####################################---]  92.0% of 100\r",
      "Cluster 009 :    [######################################--]  94.0% of 100\r",
      "Cluster 009 :    [######################################--]  96.0% of 100\r",
      "Cluster 009 :    [#######################################-]  98.0% of 100\r"
     ]
    },
    {
     "name": "stdout",
     "output_type": "stream",
     "text": [
      "Cluster 009 :    [########################################] 100.0% of 100\n"
     ]
    },
    {
     "name": "stdout",
     "output_type": "stream",
     "text": [
      "Cluster 010 :    [#---------------------------------------]   2.0% of 100\r",
      "Cluster 010 :    [##--------------------------------------]   4.0% of 100\r",
      "Cluster 010 :    [##--------------------------------------]   6.0% of 100\r"
     ]
    },
    {
     "name": "stdout",
     "output_type": "stream",
     "text": [
      "Cluster 010 :    [###-------------------------------------]   8.0% of 100\r",
      "Cluster 010 :    [####------------------------------------]  10.0% of 100\r",
      "Cluster 010 :    [#####-----------------------------------]  12.0% of 100\r"
     ]
    },
    {
     "name": "stdout",
     "output_type": "stream",
     "text": [
      "Cluster 010 :    [######----------------------------------]  14.0% of 100\r",
      "Cluster 010 :    [######----------------------------------]  16.0% of 100\r",
      "Cluster 010 :    [#######---------------------------------]  18.0% of 100\r"
     ]
    },
    {
     "name": "stdout",
     "output_type": "stream",
     "text": [
      "Cluster 010 :    [########--------------------------------]  20.0% of 100\r",
      "Cluster 010 :    [#########-------------------------------]  22.0% of 100\r",
      "Cluster 010 :    [##########------------------------------]  24.0% of 100\r",
      "Cluster 010 :    [##########------------------------------]  26.0% of 100\r"
     ]
    },
    {
     "name": "stdout",
     "output_type": "stream",
     "text": [
      "Cluster 010 :    [###########-----------------------------]  28.0% of 100\r",
      "Cluster 010 :    [############----------------------------]  30.0% of 100\r",
      "Cluster 010 :    [#############---------------------------]  32.0% of 100\r"
     ]
    },
    {
     "name": "stdout",
     "output_type": "stream",
     "text": [
      "Cluster 010 :    [##############--------------------------]  34.0% of 100\r",
      "Cluster 010 :    [##############--------------------------]  36.0% of 100\r",
      "Cluster 010 :    [###############-------------------------]  38.0% of 100\r",
      "Cluster 010 :    [################------------------------]  40.0% of 100\r"
     ]
    },
    {
     "name": "stdout",
     "output_type": "stream",
     "text": [
      "Cluster 010 :    [#################-----------------------]  42.0% of 100\r",
      "Cluster 010 :    [##################----------------------]  44.0% of 100\r",
      "Cluster 010 :    [##################----------------------]  46.0% of 100\r",
      "Cluster 010 :    [###################---------------------]  48.0% of 100\r",
      "Cluster 010 :    [####################--------------------]  50.0% of 100\r"
     ]
    },
    {
     "name": "stdout",
     "output_type": "stream",
     "text": [
      "Cluster 010 :    [#####################-------------------]  52.0% of 100\r",
      "Cluster 010 :    [######################------------------]  54.0% of 100\r",
      "Cluster 010 :    [######################------------------]  56.0% of 100\r",
      "Cluster 010 :    [#######################-----------------]  58.0% of 100\r"
     ]
    },
    {
     "name": "stdout",
     "output_type": "stream",
     "text": [
      "Cluster 010 :    [########################----------------]  60.0% of 100\r",
      "Cluster 010 :    [#########################---------------]  62.0% of 100\r",
      "Cluster 010 :    [##########################--------------]  64.0% of 100\r"
     ]
    },
    {
     "name": "stdout",
     "output_type": "stream",
     "text": [
      "Cluster 010 :    [##########################--------------]  66.0% of 100\r",
      "Cluster 010 :    [###########################-------------]  68.0% of 100\r",
      "Cluster 010 :    [############################------------]  70.0% of 100\r"
     ]
    },
    {
     "name": "stdout",
     "output_type": "stream",
     "text": [
      "Cluster 010 :    [#############################-----------]  72.0% of 100\r",
      "Cluster 010 :    [##############################----------]  74.0% of 100\r",
      "Cluster 010 :    [##############################----------]  76.0% of 100\r",
      "Cluster 010 :    [###############################---------]  78.0% of 100\r"
     ]
    },
    {
     "name": "stdout",
     "output_type": "stream",
     "text": [
      "Cluster 010 :    [################################--------]  80.0% of 100\r",
      "Cluster 010 :    [#################################-------]  82.0% of 100\r",
      "Cluster 010 :    [##################################------]  84.0% of 100\r",
      "Cluster 010 :    [##################################------]  86.0% of 100\r",
      "Cluster 010 :    [###################################-----]  88.0% of 100\r"
     ]
    },
    {
     "name": "stdout",
     "output_type": "stream",
     "text": [
      "Cluster 010 :    [####################################----]  90.0% of 100\r",
      "Cluster 010 :    [#####################################---]  92.0% of 100\r",
      "Cluster 010 :    [######################################--]  94.0% of 100\r",
      "Cluster 010 :    [######################################--]  96.0% of 100\r"
     ]
    },
    {
     "name": "stdout",
     "output_type": "stream",
     "text": [
      "Cluster 010 :    [#######################################-]  98.0% of 100\r",
      "Cluster 010 :    [########################################] 100.0% of 100\n"
     ]
    },
    {
     "name": "stdout",
     "output_type": "stream",
     "text": [
      "Cluster 011 :    [#---------------------------------------]   2.0% of 100\r",
      "Cluster 011 :    [##--------------------------------------]   4.0% of 100\r",
      "Cluster 011 :    [##--------------------------------------]   6.0% of 100\r"
     ]
    },
    {
     "name": "stdout",
     "output_type": "stream",
     "text": [
      "Cluster 011 :    [###-------------------------------------]   8.0% of 100\r",
      "Cluster 011 :    [####------------------------------------]  10.0% of 100\r",
      "Cluster 011 :    [#####-----------------------------------]  12.0% of 100\r",
      "Cluster 011 :    [######----------------------------------]  14.0% of 100\r"
     ]
    },
    {
     "name": "stdout",
     "output_type": "stream",
     "text": [
      "Cluster 011 :    [######----------------------------------]  16.0% of 100\r",
      "Cluster 011 :    [#######---------------------------------]  18.0% of 100\r",
      "Cluster 011 :    [########--------------------------------]  20.0% of 100\r"
     ]
    },
    {
     "name": "stdout",
     "output_type": "stream",
     "text": [
      "Cluster 011 :    [#########-------------------------------]  22.0% of 100\r",
      "Cluster 011 :    [##########------------------------------]  24.0% of 100\r",
      "Cluster 011 :    [##########------------------------------]  26.0% of 100\r",
      "Cluster 011 :    [###########-----------------------------]  28.0% of 100\r"
     ]
    },
    {
     "name": "stdout",
     "output_type": "stream",
     "text": [
      "Cluster 011 :    [############----------------------------]  30.0% of 100\r",
      "Cluster 011 :    [#############---------------------------]  32.0% of 100\r",
      "Cluster 011 :    [##############--------------------------]  34.0% of 100\r"
     ]
    },
    {
     "name": "stdout",
     "output_type": "stream",
     "text": [
      "Cluster 011 :    [##############--------------------------]  36.0% of 100\r",
      "Cluster 011 :    [###############-------------------------]  38.0% of 100\r",
      "Cluster 011 :    [################------------------------]  40.0% of 100\r"
     ]
    },
    {
     "name": "stdout",
     "output_type": "stream",
     "text": [
      "Cluster 011 :    [#################-----------------------]  42.0% of 100\r",
      "Cluster 011 :    [##################----------------------]  44.0% of 100\r",
      "Cluster 011 :    [##################----------------------]  46.0% of 100\r",
      "Cluster 011 :    [###################---------------------]  48.0% of 100\r"
     ]
    },
    {
     "name": "stdout",
     "output_type": "stream",
     "text": [
      "Cluster 011 :    [####################--------------------]  50.0% of 100\r",
      "Cluster 011 :    [#####################-------------------]  52.0% of 100\r",
      "Cluster 011 :    [######################------------------]  54.0% of 100\r",
      "Cluster 011 :    [######################------------------]  56.0% of 100\r"
     ]
    },
    {
     "name": "stdout",
     "output_type": "stream",
     "text": [
      "Cluster 011 :    [#######################-----------------]  58.0% of 100\r",
      "Cluster 011 :    [########################----------------]  60.0% of 100\r",
      "Cluster 011 :    [#########################---------------]  62.0% of 100\r"
     ]
    },
    {
     "name": "stdout",
     "output_type": "stream",
     "text": [
      "Cluster 011 :    [##########################--------------]  64.0% of 100\r",
      "Cluster 011 :    [##########################--------------]  66.0% of 100\r",
      "Cluster 011 :    [###########################-------------]  68.0% of 100\r",
      "Cluster 011 :    [############################------------]  70.0% of 100\r"
     ]
    },
    {
     "name": "stdout",
     "output_type": "stream",
     "text": [
      "Cluster 011 :    [#############################-----------]  72.0% of 100\r",
      "Cluster 011 :    [##############################----------]  74.0% of 100\r",
      "Cluster 011 :    [##############################----------]  76.0% of 100\r",
      "Cluster 011 :    [###############################---------]  78.0% of 100\r"
     ]
    },
    {
     "name": "stdout",
     "output_type": "stream",
     "text": [
      "Cluster 011 :    [################################--------]  80.0% of 100\r",
      "Cluster 011 :    [#################################-------]  82.0% of 100\r",
      "Cluster 011 :    [##################################------]  84.0% of 100\r"
     ]
    },
    {
     "name": "stdout",
     "output_type": "stream",
     "text": [
      "Cluster 011 :    [##################################------]  86.0% of 100\r",
      "Cluster 011 :    [###################################-----]  88.0% of 100\r",
      "Cluster 011 :    [####################################----]  90.0% of 100\r"
     ]
    },
    {
     "name": "stdout",
     "output_type": "stream",
     "text": [
      "Cluster 011 :    [#####################################---]  92.0% of 100\r",
      "Cluster 011 :    [######################################--]  94.0% of 100\r",
      "Cluster 011 :    [######################################--]  96.0% of 100\r",
      "Cluster 011 :    [#######################################-]  98.0% of 100\r"
     ]
    },
    {
     "name": "stdout",
     "output_type": "stream",
     "text": [
      "Cluster 011 :    [########################################] 100.0% of 100\n",
      "Cluster 012 :    [#---------------------------------------]   2.0% of 100\r"
     ]
    },
    {
     "name": "stdout",
     "output_type": "stream",
     "text": [
      "Cluster 012 :    [##--------------------------------------]   4.0% of 100\r",
      "Cluster 012 :    [##--------------------------------------]   6.0% of 100\r",
      "Cluster 012 :    [###-------------------------------------]   8.0% of 100\r",
      "Cluster 012 :    [####------------------------------------]  10.0% of 100\r"
     ]
    },
    {
     "name": "stdout",
     "output_type": "stream",
     "text": [
      "Cluster 012 :    [#####-----------------------------------]  12.0% of 100\r",
      "Cluster 012 :    [######----------------------------------]  14.0% of 100\r",
      "Cluster 012 :    [######----------------------------------]  16.0% of 100\r",
      "Cluster 012 :    [#######---------------------------------]  18.0% of 100\r"
     ]
    },
    {
     "name": "stdout",
     "output_type": "stream",
     "text": [
      "Cluster 012 :    [########--------------------------------]  20.0% of 100\r",
      "Cluster 012 :    [#########-------------------------------]  22.0% of 100\r",
      "Cluster 012 :    [##########------------------------------]  24.0% of 100\r",
      "Cluster 012 :    [##########------------------------------]  26.0% of 100\r"
     ]
    },
    {
     "name": "stdout",
     "output_type": "stream",
     "text": [
      "Cluster 012 :    [###########-----------------------------]  28.0% of 100\r",
      "Cluster 012 :    [############----------------------------]  30.0% of 100\r",
      "Cluster 012 :    [#############---------------------------]  32.0% of 100\r",
      "Cluster 012 :    [##############--------------------------]  34.0% of 100\r"
     ]
    },
    {
     "name": "stdout",
     "output_type": "stream",
     "text": [
      "Cluster 012 :    [##############--------------------------]  36.0% of 100\r",
      "Cluster 012 :    [###############-------------------------]  38.0% of 100\r",
      "Cluster 012 :    [################------------------------]  40.0% of 100\r",
      "Cluster 012 :    [#################-----------------------]  42.0% of 100\r"
     ]
    },
    {
     "name": "stdout",
     "output_type": "stream",
     "text": [
      "Cluster 012 :    [##################----------------------]  44.0% of 100\r",
      "Cluster 012 :    [##################----------------------]  46.0% of 100\r",
      "Cluster 012 :    [###################---------------------]  48.0% of 100\r",
      "Cluster 012 :    [####################--------------------]  50.0% of 100\r"
     ]
    },
    {
     "name": "stdout",
     "output_type": "stream",
     "text": [
      "Cluster 012 :    [#####################-------------------]  52.0% of 100\r",
      "Cluster 012 :    [######################------------------]  54.0% of 100\r",
      "Cluster 012 :    [######################------------------]  56.0% of 100\r",
      "Cluster 012 :    [#######################-----------------]  58.0% of 100\r"
     ]
    },
    {
     "name": "stdout",
     "output_type": "stream",
     "text": [
      "Cluster 012 :    [########################----------------]  60.0% of 100\r",
      "Cluster 012 :    [#########################---------------]  62.0% of 100\r",
      "Cluster 012 :    [##########################--------------]  64.0% of 100\r",
      "Cluster 012 :    [##########################--------------]  66.0% of 100\r"
     ]
    },
    {
     "name": "stdout",
     "output_type": "stream",
     "text": [
      "Cluster 012 :    [###########################-------------]  68.0% of 100\r",
      "Cluster 012 :    [############################------------]  70.0% of 100\r",
      "Cluster 012 :    [#############################-----------]  72.0% of 100\r"
     ]
    },
    {
     "name": "stdout",
     "output_type": "stream",
     "text": [
      "Cluster 012 :    [##############################----------]  74.0% of 100\r",
      "Cluster 012 :    [##############################----------]  76.0% of 100\r",
      "Cluster 012 :    [###############################---------]  78.0% of 100\r",
      "Cluster 012 :    [################################--------]  80.0% of 100\r"
     ]
    },
    {
     "name": "stdout",
     "output_type": "stream",
     "text": [
      "Cluster 012 :    [#################################-------]  82.0% of 100\r",
      "Cluster 012 :    [##################################------]  84.0% of 100\r",
      "Cluster 012 :    [##################################------]  86.0% of 100\r",
      "Cluster 012 :    [###################################-----]  88.0% of 100\r"
     ]
    },
    {
     "name": "stdout",
     "output_type": "stream",
     "text": [
      "Cluster 012 :    [####################################----]  90.0% of 100\r",
      "Cluster 012 :    [#####################################---]  92.0% of 100\r",
      "Cluster 012 :    [######################################--]  94.0% of 100\r",
      "Cluster 012 :    [######################################--]  96.0% of 100\r"
     ]
    },
    {
     "name": "stdout",
     "output_type": "stream",
     "text": [
      "Cluster 012 :    [#######################################-]  98.0% of 100\r",
      "Cluster 012 :    [########################################] 100.0% of 100\n"
     ]
    },
    {
     "name": "stdout",
     "output_type": "stream",
     "text": [
      "Cluster 013 :    [#---------------------------------------]   2.0% of 100\r",
      "Cluster 013 :    [##--------------------------------------]   4.0% of 100\r",
      "Cluster 013 :    [##--------------------------------------]   6.0% of 100\r",
      "Cluster 013 :    [###-------------------------------------]   8.0% of 100\r"
     ]
    },
    {
     "name": "stdout",
     "output_type": "stream",
     "text": [
      "Cluster 013 :    [####------------------------------------]  10.0% of 100\r",
      "Cluster 013 :    [#####-----------------------------------]  12.0% of 100\r",
      "Cluster 013 :    [######----------------------------------]  14.0% of 100\r"
     ]
    },
    {
     "name": "stdout",
     "output_type": "stream",
     "text": [
      "Cluster 013 :    [######----------------------------------]  16.0% of 100\r",
      "Cluster 013 :    [#######---------------------------------]  18.0% of 100\r",
      "Cluster 013 :    [########--------------------------------]  20.0% of 100\r",
      "Cluster 013 :    [#########-------------------------------]  22.0% of 100\r"
     ]
    },
    {
     "name": "stdout",
     "output_type": "stream",
     "text": [
      "Cluster 013 :    [##########------------------------------]  24.0% of 100\r",
      "Cluster 013 :    [##########------------------------------]  26.0% of 100\r",
      "Cluster 013 :    [###########-----------------------------]  28.0% of 100\r",
      "Cluster 013 :    [############----------------------------]  30.0% of 100\r"
     ]
    },
    {
     "name": "stdout",
     "output_type": "stream",
     "text": [
      "Cluster 013 :    [#############---------------------------]  32.0% of 100\r",
      "Cluster 013 :    [##############--------------------------]  34.0% of 100\r",
      "Cluster 013 :    [##############--------------------------]  36.0% of 100\r",
      "Cluster 013 :    [###############-------------------------]  38.0% of 100\r"
     ]
    },
    {
     "name": "stdout",
     "output_type": "stream",
     "text": [
      "Cluster 013 :    [################------------------------]  40.0% of 100\r",
      "Cluster 013 :    [#################-----------------------]  42.0% of 100\r",
      "Cluster 013 :    [##################----------------------]  44.0% of 100\r",
      "Cluster 013 :    [##################----------------------]  46.0% of 100\r"
     ]
    },
    {
     "name": "stdout",
     "output_type": "stream",
     "text": [
      "Cluster 013 :    [###################---------------------]  48.0% of 100\r",
      "Cluster 013 :    [####################--------------------]  50.0% of 100\r",
      "Cluster 013 :    [#####################-------------------]  52.0% of 100\r"
     ]
    },
    {
     "name": "stdout",
     "output_type": "stream",
     "text": [
      "Cluster 013 :    [######################------------------]  54.0% of 100\r",
      "Cluster 013 :    [######################------------------]  56.0% of 100\r",
      "Cluster 013 :    [#######################-----------------]  58.0% of 100\r"
     ]
    },
    {
     "name": "stdout",
     "output_type": "stream",
     "text": [
      "Cluster 013 :    [########################----------------]  60.0% of 100\r",
      "Cluster 013 :    [#########################---------------]  62.0% of 100\r",
      "Cluster 013 :    [##########################--------------]  64.0% of 100\r",
      "Cluster 013 :    [##########################--------------]  66.0% of 100\r"
     ]
    },
    {
     "name": "stdout",
     "output_type": "stream",
     "text": [
      "Cluster 013 :    [###########################-------------]  68.0% of 100\r",
      "Cluster 013 :    [############################------------]  70.0% of 100\r",
      "Cluster 013 :    [#############################-----------]  72.0% of 100\r",
      "Cluster 013 :    [##############################----------]  74.0% of 100\r"
     ]
    },
    {
     "name": "stdout",
     "output_type": "stream",
     "text": [
      "Cluster 013 :    [##############################----------]  76.0% of 100\r",
      "Cluster 013 :    [###############################---------]  78.0% of 100\r"
     ]
    },
    {
     "name": "stdout",
     "output_type": "stream",
     "text": [
      "Cluster 013 :    [################################--------]  80.0% of 100\r",
      "Cluster 013 :    [#################################-------]  82.0% of 100\r",
      "Cluster 013 :    [##################################------]  84.0% of 100\r"
     ]
    },
    {
     "name": "stdout",
     "output_type": "stream",
     "text": [
      "Cluster 013 :    [##################################------]  86.0% of 100\r",
      "Cluster 013 :    [###################################-----]  88.0% of 100\r",
      "Cluster 013 :    [####################################----]  90.0% of 100\r"
     ]
    },
    {
     "name": "stdout",
     "output_type": "stream",
     "text": [
      "Cluster 013 :    [#####################################---]  92.0% of 100\r",
      "Cluster 013 :    [######################################--]  94.0% of 100\r",
      "Cluster 013 :    [######################################--]  96.0% of 100\r"
     ]
    },
    {
     "name": "stdout",
     "output_type": "stream",
     "text": [
      "Cluster 013 :    [#######################################-]  98.0% of 100\r",
      "Cluster 013 :    [########################################] 100.0% of 100\n"
     ]
    },
    {
     "name": "stdout",
     "output_type": "stream",
     "text": [
      "Cluster 014 :    [#---------------------------------------]   2.0% of 100\r",
      "Cluster 014 :    [##--------------------------------------]   4.0% of 100\r",
      "Cluster 014 :    [##--------------------------------------]   6.0% of 100\r",
      "Cluster 014 :    [###-------------------------------------]   8.0% of 100\r"
     ]
    },
    {
     "name": "stdout",
     "output_type": "stream",
     "text": [
      "Cluster 014 :    [####------------------------------------]  10.0% of 100\r",
      "Cluster 014 :    [#####-----------------------------------]  12.0% of 100\r",
      "Cluster 014 :    [######----------------------------------]  14.0% of 100\r"
     ]
    },
    {
     "name": "stdout",
     "output_type": "stream",
     "text": [
      "Cluster 014 :    [######----------------------------------]  16.0% of 100\r",
      "Cluster 014 :    [#######---------------------------------]  18.0% of 100\r"
     ]
    },
    {
     "name": "stdout",
     "output_type": "stream",
     "text": [
      "Cluster 014 :    [########--------------------------------]  20.0% of 100\r",
      "Cluster 014 :    [#########-------------------------------]  22.0% of 100\r",
      "Cluster 014 :    [##########------------------------------]  24.0% of 100\r",
      "Cluster 014 :    [##########------------------------------]  26.0% of 100\r"
     ]
    },
    {
     "name": "stdout",
     "output_type": "stream",
     "text": [
      "Cluster 014 :    [###########-----------------------------]  28.0% of 100\r",
      "Cluster 014 :    [############----------------------------]  30.0% of 100\r",
      "Cluster 014 :    [#############---------------------------]  32.0% of 100\r",
      "Cluster 014 :    [##############--------------------------]  34.0% of 100\r"
     ]
    },
    {
     "name": "stdout",
     "output_type": "stream",
     "text": [
      "Cluster 014 :    [##############--------------------------]  36.0% of 100\r",
      "Cluster 014 :    [###############-------------------------]  38.0% of 100\r",
      "Cluster 014 :    [################------------------------]  40.0% of 100\r",
      "Cluster 014 :    [#################-----------------------]  42.0% of 100\r"
     ]
    },
    {
     "name": "stdout",
     "output_type": "stream",
     "text": [
      "Cluster 014 :    [##################----------------------]  44.0% of 100\r",
      "Cluster 014 :    [##################----------------------]  46.0% of 100\r",
      "Cluster 014 :    [###################---------------------]  48.0% of 100\r"
     ]
    },
    {
     "name": "stdout",
     "output_type": "stream",
     "text": [
      "Cluster 014 :    [####################--------------------]  50.0% of 100\r",
      "Cluster 014 :    [#####################-------------------]  52.0% of 100\r",
      "Cluster 014 :    [######################------------------]  54.0% of 100\r",
      "Cluster 014 :    [######################------------------]  56.0% of 100\r"
     ]
    },
    {
     "name": "stdout",
     "output_type": "stream",
     "text": [
      "Cluster 014 :    [#######################-----------------]  58.0% of 100\r",
      "Cluster 014 :    [########################----------------]  60.0% of 100\r",
      "Cluster 014 :    [#########################---------------]  62.0% of 100\r",
      "Cluster 014 :    [##########################--------------]  64.0% of 100\r"
     ]
    },
    {
     "name": "stdout",
     "output_type": "stream",
     "text": [
      "Cluster 014 :    [##########################--------------]  66.0% of 100\r",
      "Cluster 014 :    [###########################-------------]  68.0% of 100\r",
      "Cluster 014 :    [############################------------]  70.0% of 100\r",
      "Cluster 014 :    [#############################-----------]  72.0% of 100\r"
     ]
    },
    {
     "name": "stdout",
     "output_type": "stream",
     "text": [
      "Cluster 014 :    [##############################----------]  74.0% of 100\r",
      "Cluster 014 :    [##############################----------]  76.0% of 100\r",
      "Cluster 014 :    [###############################---------]  78.0% of 100\r"
     ]
    },
    {
     "name": "stdout",
     "output_type": "stream",
     "text": [
      "Cluster 014 :    [################################--------]  80.0% of 100\r",
      "Cluster 014 :    [#################################-------]  82.0% of 100\r",
      "Cluster 014 :    [##################################------]  84.0% of 100\r",
      "Cluster 014 :    [##################################------]  86.0% of 100\r"
     ]
    },
    {
     "name": "stdout",
     "output_type": "stream",
     "text": [
      "Cluster 014 :    [###################################-----]  88.0% of 100\r",
      "Cluster 014 :    [####################################----]  90.0% of 100\r",
      "Cluster 014 :    [#####################################---]  92.0% of 100\r"
     ]
    },
    {
     "name": "stdout",
     "output_type": "stream",
     "text": [
      "Cluster 014 :    [######################################--]  94.0% of 100\r",
      "Cluster 014 :    [######################################--]  96.0% of 100\r",
      "Cluster 014 :    [#######################################-]  98.0% of 100\r",
      "Cluster 014 :    [########################################] 100.0% of 100\n"
     ]
    },
    {
     "name": "stdout",
     "output_type": "stream",
     "text": [
      "Cluster 015 :    [#---------------------------------------]   2.0% of 100\r",
      "Cluster 015 :    [##--------------------------------------]   4.0% of 100\r",
      "Cluster 015 :    [##--------------------------------------]   6.0% of 100\r"
     ]
    },
    {
     "name": "stdout",
     "output_type": "stream",
     "text": [
      "Cluster 015 :    [###-------------------------------------]   8.0% of 100\r",
      "Cluster 015 :    [####------------------------------------]  10.0% of 100\r",
      "Cluster 015 :    [#####-----------------------------------]  12.0% of 100\r"
     ]
    },
    {
     "name": "stdout",
     "output_type": "stream",
     "text": [
      "Cluster 015 :    [######----------------------------------]  14.0% of 100\r",
      "Cluster 015 :    [######----------------------------------]  16.0% of 100\r",
      "Cluster 015 :    [#######---------------------------------]  18.0% of 100\r",
      "Cluster 015 :    [########--------------------------------]  20.0% of 100\r"
     ]
    },
    {
     "name": "stdout",
     "output_type": "stream",
     "text": [
      "Cluster 015 :    [#########-------------------------------]  22.0% of 100\r",
      "Cluster 015 :    [##########------------------------------]  24.0% of 100\r",
      "Cluster 015 :    [##########------------------------------]  26.0% of 100\r",
      "Cluster 015 :    [###########-----------------------------]  28.0% of 100\r"
     ]
    },
    {
     "name": "stdout",
     "output_type": "stream",
     "text": [
      "Cluster 015 :    [############----------------------------]  30.0% of 100\r",
      "Cluster 015 :    [#############---------------------------]  32.0% of 100\r",
      "Cluster 015 :    [##############--------------------------]  34.0% of 100\r",
      "Cluster 015 :    [##############--------------------------]  36.0% of 100\r"
     ]
    },
    {
     "name": "stdout",
     "output_type": "stream",
     "text": [
      "Cluster 015 :    [###############-------------------------]  38.0% of 100\r",
      "Cluster 015 :    [################------------------------]  40.0% of 100\r",
      "Cluster 015 :    [#################-----------------------]  42.0% of 100\r",
      "Cluster 015 :    [##################----------------------]  44.0% of 100\r"
     ]
    },
    {
     "name": "stdout",
     "output_type": "stream",
     "text": [
      "Cluster 015 :    [##################----------------------]  46.0% of 100\r",
      "Cluster 015 :    [###################---------------------]  48.0% of 100\r",
      "Cluster 015 :    [####################--------------------]  50.0% of 100\r",
      "Cluster 015 :    [#####################-------------------]  52.0% of 100\r",
      "Cluster 015 :    [######################------------------]  54.0% of 100\r"
     ]
    },
    {
     "name": "stdout",
     "output_type": "stream",
     "text": [
      "Cluster 015 :    [######################------------------]  56.0% of 100\r",
      "Cluster 015 :    [#######################-----------------]  58.0% of 100\r",
      "Cluster 015 :    [########################----------------]  60.0% of 100\r",
      "Cluster 015 :    [#########################---------------]  62.0% of 100\r"
     ]
    },
    {
     "name": "stdout",
     "output_type": "stream",
     "text": [
      "Cluster 015 :    [##########################--------------]  64.0% of 100\r",
      "Cluster 015 :    [##########################--------------]  66.0% of 100\r",
      "Cluster 015 :    [###########################-------------]  68.0% of 100\r"
     ]
    },
    {
     "name": "stdout",
     "output_type": "stream",
     "text": [
      "Cluster 015 :    [############################------------]  70.0% of 100\r",
      "Cluster 015 :    [#############################-----------]  72.0% of 100\r",
      "Cluster 015 :    [##############################----------]  74.0% of 100\r",
      "Cluster 015 :    [##############################----------]  76.0% of 100\r"
     ]
    },
    {
     "name": "stdout",
     "output_type": "stream",
     "text": [
      "Cluster 015 :    [###############################---------]  78.0% of 100\r",
      "Cluster 015 :    [################################--------]  80.0% of 100\r",
      "Cluster 015 :    [#################################-------]  82.0% of 100\r",
      "Cluster 015 :    [##################################------]  84.0% of 100\r"
     ]
    },
    {
     "name": "stdout",
     "output_type": "stream",
     "text": [
      "Cluster 015 :    [##################################------]  86.0% of 100\r",
      "Cluster 015 :    [###################################-----]  88.0% of 100\r",
      "Cluster 015 :    [####################################----]  90.0% of 100\r",
      "Cluster 015 :    [#####################################---]  92.0% of 100\r"
     ]
    },
    {
     "name": "stdout",
     "output_type": "stream",
     "text": [
      "Cluster 015 :    [######################################--]  94.0% of 100\r",
      "Cluster 015 :    [######################################--]  96.0% of 100\r",
      "Cluster 015 :    [#######################################-]  98.0% of 100\r",
      "Cluster 015 :    [########################################] 100.0% of 100\n"
     ]
    },
    {
     "name": "stdout",
     "output_type": "stream",
     "text": [
      "Cluster 016 :    [#---------------------------------------]   2.0% of 100\r",
      "Cluster 016 :    [##--------------------------------------]   4.0% of 100\r",
      "Cluster 016 :    [##--------------------------------------]   6.0% of 100\r",
      "Cluster 016 :    [###-------------------------------------]   8.0% of 100\r"
     ]
    },
    {
     "name": "stdout",
     "output_type": "stream",
     "text": [
      "Cluster 016 :    [####------------------------------------]  10.0% of 100\r",
      "Cluster 016 :    [#####-----------------------------------]  12.0% of 100\r",
      "Cluster 016 :    [######----------------------------------]  14.0% of 100\r",
      "Cluster 016 :    [######----------------------------------]  16.0% of 100\r",
      "Cluster 016 :    [#######---------------------------------]  18.0% of 100\r"
     ]
    },
    {
     "name": "stdout",
     "output_type": "stream",
     "text": [
      "Cluster 016 :    [########--------------------------------]  20.0% of 100\r",
      "Cluster 016 :    [#########-------------------------------]  22.0% of 100\r",
      "Cluster 016 :    [##########------------------------------]  24.0% of 100\r",
      "Cluster 016 :    [##########------------------------------]  26.0% of 100\r"
     ]
    },
    {
     "name": "stdout",
     "output_type": "stream",
     "text": [
      "Cluster 016 :    [###########-----------------------------]  28.0% of 100\r",
      "Cluster 016 :    [############----------------------------]  30.0% of 100\r",
      "Cluster 016 :    [#############---------------------------]  32.0% of 100\r",
      "Cluster 016 :    [##############--------------------------]  34.0% of 100\r",
      "Cluster 016 :    [##############--------------------------]  36.0% of 100\r",
      "Cluster 016 :    [###############-------------------------]  38.0% of 100\r"
     ]
    },
    {
     "name": "stdout",
     "output_type": "stream",
     "text": [
      "Cluster 016 :    [################------------------------]  40.0% of 100\r",
      "Cluster 016 :    [#################-----------------------]  42.0% of 100\r",
      "Cluster 016 :    [##################----------------------]  44.0% of 100\r",
      "Cluster 016 :    [##################----------------------]  46.0% of 100\r"
     ]
    },
    {
     "name": "stdout",
     "output_type": "stream",
     "text": [
      "Cluster 016 :    [###################---------------------]  48.0% of 100\r",
      "Cluster 016 :    [####################--------------------]  50.0% of 100\r",
      "Cluster 016 :    [#####################-------------------]  52.0% of 100\r",
      "Cluster 016 :    [######################------------------]  54.0% of 100\r",
      "Cluster 016 :    [######################------------------]  56.0% of 100\r"
     ]
    },
    {
     "name": "stdout",
     "output_type": "stream",
     "text": [
      "Cluster 016 :    [#######################-----------------]  58.0% of 100\r",
      "Cluster 016 :    [########################----------------]  60.0% of 100\r",
      "Cluster 016 :    [#########################---------------]  62.0% of 100\r",
      "Cluster 016 :    [##########################--------------]  64.0% of 100\r"
     ]
    },
    {
     "name": "stdout",
     "output_type": "stream",
     "text": [
      "Cluster 016 :    [##########################--------------]  66.0% of 100\r",
      "Cluster 016 :    [###########################-------------]  68.0% of 100\r",
      "Cluster 016 :    [############################------------]  70.0% of 100\r",
      "Cluster 016 :    [#############################-----------]  72.0% of 100\r"
     ]
    },
    {
     "name": "stdout",
     "output_type": "stream",
     "text": [
      "Cluster 016 :    [##############################----------]  74.0% of 100\r",
      "Cluster 016 :    [##############################----------]  76.0% of 100\r",
      "Cluster 016 :    [###############################---------]  78.0% of 100\r"
     ]
    },
    {
     "name": "stdout",
     "output_type": "stream",
     "text": [
      "Cluster 016 :    [################################--------]  80.0% of 100\r",
      "Cluster 016 :    [#################################-------]  82.0% of 100\r",
      "Cluster 016 :    [##################################------]  84.0% of 100\r",
      "Cluster 016 :    [##################################------]  86.0% of 100\r"
     ]
    },
    {
     "name": "stdout",
     "output_type": "stream",
     "text": [
      "Cluster 016 :    [###################################-----]  88.0% of 100\r",
      "Cluster 016 :    [####################################----]  90.0% of 100\r",
      "Cluster 016 :    [#####################################---]  92.0% of 100\r"
     ]
    },
    {
     "name": "stdout",
     "output_type": "stream",
     "text": [
      "Cluster 016 :    [######################################--]  94.0% of 100\r",
      "Cluster 016 :    [######################################--]  96.0% of 100\r",
      "Cluster 016 :    [#######################################-]  98.0% of 100\r"
     ]
    },
    {
     "name": "stdout",
     "output_type": "stream",
     "text": [
      "Cluster 016 :    [########################################] 100.0% of 100\n"
     ]
    },
    {
     "name": "stdout",
     "output_type": "stream",
     "text": [
      "Cluster 017 :    [#---------------------------------------]   2.0% of 100\r",
      "Cluster 017 :    [##--------------------------------------]   4.0% of 100\r",
      "Cluster 017 :    [##--------------------------------------]   6.0% of 100\r",
      "Cluster 017 :    [###-------------------------------------]   8.0% of 100\r"
     ]
    },
    {
     "name": "stdout",
     "output_type": "stream",
     "text": [
      "Cluster 017 :    [####------------------------------------]  10.0% of 100\r",
      "Cluster 017 :    [#####-----------------------------------]  12.0% of 100\r",
      "Cluster 017 :    [######----------------------------------]  14.0% of 100\r",
      "Cluster 017 :    [######----------------------------------]  16.0% of 100\r"
     ]
    },
    {
     "name": "stdout",
     "output_type": "stream",
     "text": [
      "Cluster 017 :    [#######---------------------------------]  18.0% of 100\r",
      "Cluster 017 :    [########--------------------------------]  20.0% of 100\r",
      "Cluster 017 :    [#########-------------------------------]  22.0% of 100\r"
     ]
    },
    {
     "name": "stdout",
     "output_type": "stream",
     "text": [
      "Cluster 017 :    [##########------------------------------]  24.0% of 100\r",
      "Cluster 017 :    [##########------------------------------]  26.0% of 100\r",
      "Cluster 017 :    [###########-----------------------------]  28.0% of 100\r"
     ]
    },
    {
     "name": "stdout",
     "output_type": "stream",
     "text": [
      "Cluster 017 :    [############----------------------------]  30.0% of 100\r",
      "Cluster 017 :    [#############---------------------------]  32.0% of 100\r",
      "Cluster 017 :    [##############--------------------------]  34.0% of 100\r",
      "Cluster 017 :    [##############--------------------------]  36.0% of 100\r"
     ]
    },
    {
     "name": "stdout",
     "output_type": "stream",
     "text": [
      "Cluster 017 :    [###############-------------------------]  38.0% of 100\r",
      "Cluster 017 :    [################------------------------]  40.0% of 100\r",
      "Cluster 017 :    [#################-----------------------]  42.0% of 100\r",
      "Cluster 017 :    [##################----------------------]  44.0% of 100\r"
     ]
    },
    {
     "name": "stdout",
     "output_type": "stream",
     "text": [
      "Cluster 017 :    [##################----------------------]  46.0% of 100\r",
      "Cluster 017 :    [###################---------------------]  48.0% of 100\r",
      "Cluster 017 :    [####################--------------------]  50.0% of 100\r"
     ]
    },
    {
     "name": "stdout",
     "output_type": "stream",
     "text": [
      "Cluster 017 :    [#####################-------------------]  52.0% of 100\r",
      "Cluster 017 :    [######################------------------]  54.0% of 100\r",
      "Cluster 017 :    [######################------------------]  56.0% of 100\r",
      "Cluster 017 :    [#######################-----------------]  58.0% of 100\r"
     ]
    },
    {
     "name": "stdout",
     "output_type": "stream",
     "text": [
      "Cluster 017 :    [########################----------------]  60.0% of 100\r",
      "Cluster 017 :    [#########################---------------]  62.0% of 100\r",
      "Cluster 017 :    [##########################--------------]  64.0% of 100\r",
      "Cluster 017 :    [##########################--------------]  66.0% of 100\r"
     ]
    },
    {
     "name": "stdout",
     "output_type": "stream",
     "text": [
      "Cluster 017 :    [###########################-------------]  68.0% of 100\r",
      "Cluster 017 :    [############################------------]  70.0% of 100\r",
      "Cluster 017 :    [#############################-----------]  72.0% of 100\r",
      "Cluster 017 :    [##############################----------]  74.0% of 100\r",
      "Cluster 017 :    [##############################----------]  76.0% of 100\r"
     ]
    },
    {
     "name": "stdout",
     "output_type": "stream",
     "text": [
      "Cluster 017 :    [###############################---------]  78.0% of 100\r",
      "Cluster 017 :    [################################--------]  80.0% of 100\r",
      "Cluster 017 :    [#################################-------]  82.0% of 100\r",
      "Cluster 017 :    [##################################------]  84.0% of 100\r"
     ]
    },
    {
     "name": "stdout",
     "output_type": "stream",
     "text": [
      "Cluster 017 :    [##################################------]  86.0% of 100\r",
      "Cluster 017 :    [###################################-----]  88.0% of 100\r",
      "Cluster 017 :    [####################################----]  90.0% of 100\r"
     ]
    },
    {
     "name": "stdout",
     "output_type": "stream",
     "text": [
      "Cluster 017 :    [#####################################---]  92.0% of 100\r",
      "Cluster 017 :    [######################################--]  94.0% of 100\r",
      "Cluster 017 :    [######################################--]  96.0% of 100\r",
      "Cluster 017 :    [#######################################-]  98.0% of 100\r",
      "Cluster 017 :    [########################################] 100.0% of 100\n"
     ]
    },
    {
     "name": "stdout",
     "output_type": "stream",
     "text": [
      "Cluster 018 :    [#---------------------------------------]   2.0% of 100\r",
      "Cluster 018 :    [##--------------------------------------]   4.0% of 100\r",
      "Cluster 018 :    [##--------------------------------------]   6.0% of 100\r",
      "Cluster 018 :    [###-------------------------------------]   8.0% of 100\r"
     ]
    },
    {
     "name": "stdout",
     "output_type": "stream",
     "text": [
      "Cluster 018 :    [####------------------------------------]  10.0% of 100\r",
      "Cluster 018 :    [#####-----------------------------------]  12.0% of 100\r",
      "Cluster 018 :    [######----------------------------------]  14.0% of 100\r"
     ]
    },
    {
     "name": "stdout",
     "output_type": "stream",
     "text": [
      "Cluster 018 :    [######----------------------------------]  16.0% of 100\r",
      "Cluster 018 :    [#######---------------------------------]  18.0% of 100\r",
      "Cluster 018 :    [########--------------------------------]  20.0% of 100\r"
     ]
    },
    {
     "name": "stdout",
     "output_type": "stream",
     "text": [
      "Cluster 018 :    [#########-------------------------------]  22.0% of 100\r",
      "Cluster 018 :    [##########------------------------------]  24.0% of 100\r",
      "Cluster 018 :    [##########------------------------------]  26.0% of 100\r",
      "Cluster 018 :    [###########-----------------------------]  28.0% of 100\r"
     ]
    },
    {
     "name": "stdout",
     "output_type": "stream",
     "text": [
      "Cluster 018 :    [############----------------------------]  30.0% of 100\r",
      "Cluster 018 :    [#############---------------------------]  32.0% of 100\r",
      "Cluster 018 :    [##############--------------------------]  34.0% of 100\r",
      "Cluster 018 :    [##############--------------------------]  36.0% of 100\r"
     ]
    },
    {
     "name": "stdout",
     "output_type": "stream",
     "text": [
      "Cluster 018 :    [###############-------------------------]  38.0% of 100\r",
      "Cluster 018 :    [################------------------------]  40.0% of 100\r",
      "Cluster 018 :    [#################-----------------------]  42.0% of 100\r",
      "Cluster 018 :    [##################----------------------]  44.0% of 100\r"
     ]
    },
    {
     "name": "stdout",
     "output_type": "stream",
     "text": [
      "Cluster 018 :    [##################----------------------]  46.0% of 100\r",
      "Cluster 018 :    [###################---------------------]  48.0% of 100\r",
      "Cluster 018 :    [####################--------------------]  50.0% of 100\r",
      "Cluster 018 :    [#####################-------------------]  52.0% of 100\r"
     ]
    },
    {
     "name": "stdout",
     "output_type": "stream",
     "text": [
      "Cluster 018 :    [######################------------------]  54.0% of 100\r",
      "Cluster 018 :    [######################------------------]  56.0% of 100\r",
      "Cluster 018 :    [#######################-----------------]  58.0% of 100\r",
      "Cluster 018 :    [########################----------------]  60.0% of 100\r"
     ]
    },
    {
     "name": "stdout",
     "output_type": "stream",
     "text": [
      "Cluster 018 :    [#########################---------------]  62.0% of 100\r",
      "Cluster 018 :    [##########################--------------]  64.0% of 100\r",
      "Cluster 018 :    [##########################--------------]  66.0% of 100\r",
      "Cluster 018 :    [###########################-------------]  68.0% of 100\r"
     ]
    },
    {
     "name": "stdout",
     "output_type": "stream",
     "text": [
      "Cluster 018 :    [############################------------]  70.0% of 100\r",
      "Cluster 018 :    [#############################-----------]  72.0% of 100\r",
      "Cluster 018 :    [##############################----------]  74.0% of 100\r",
      "Cluster 018 :    [##############################----------]  76.0% of 100\r"
     ]
    },
    {
     "name": "stdout",
     "output_type": "stream",
     "text": [
      "Cluster 018 :    [###############################---------]  78.0% of 100\r",
      "Cluster 018 :    [################################--------]  80.0% of 100\r",
      "Cluster 018 :    [#################################-------]  82.0% of 100\r"
     ]
    },
    {
     "name": "stdout",
     "output_type": "stream",
     "text": [
      "Cluster 018 :    [##################################------]  84.0% of 100\r",
      "Cluster 018 :    [##################################------]  86.0% of 100\r",
      "Cluster 018 :    [###################################-----]  88.0% of 100\r"
     ]
    },
    {
     "name": "stdout",
     "output_type": "stream",
     "text": [
      "Cluster 018 :    [####################################----]  90.0% of 100\r",
      "Cluster 018 :    [#####################################---]  92.0% of 100\r",
      "Cluster 018 :    [######################################--]  94.0% of 100\r"
     ]
    },
    {
     "name": "stdout",
     "output_type": "stream",
     "text": [
      "Cluster 018 :    [######################################--]  96.0% of 100\r",
      "Cluster 018 :    [#######################################-]  98.0% of 100\r",
      "Cluster 018 :    [########################################] 100.0% of 100\n"
     ]
    },
    {
     "name": "stdout",
     "output_type": "stream",
     "text": [
      "Cluster 019 :    [#---------------------------------------]   2.0% of 100\r",
      "Cluster 019 :    [##--------------------------------------]   4.0% of 100\r",
      "Cluster 019 :    [##--------------------------------------]   6.0% of 100\r",
      "Cluster 019 :    [###-------------------------------------]   8.0% of 100\r"
     ]
    },
    {
     "name": "stdout",
     "output_type": "stream",
     "text": [
      "Cluster 019 :    [####------------------------------------]  10.0% of 100\r",
      "Cluster 019 :    [#####-----------------------------------]  12.0% of 100\r",
      "Cluster 019 :    [######----------------------------------]  14.0% of 100\r",
      "Cluster 019 :    [######----------------------------------]  16.0% of 100\r"
     ]
    },
    {
     "name": "stdout",
     "output_type": "stream",
     "text": [
      "Cluster 019 :    [#######---------------------------------]  18.0% of 100\r",
      "Cluster 019 :    [########--------------------------------]  20.0% of 100\r",
      "Cluster 019 :    [#########-------------------------------]  22.0% of 100\r",
      "Cluster 019 :    [##########------------------------------]  24.0% of 100\r"
     ]
    },
    {
     "name": "stdout",
     "output_type": "stream",
     "text": [
      "Cluster 019 :    [##########------------------------------]  26.0% of 100\r",
      "Cluster 019 :    [###########-----------------------------]  28.0% of 100\r",
      "Cluster 019 :    [############----------------------------]  30.0% of 100\r",
      "Cluster 019 :    [#############---------------------------]  32.0% of 100\r"
     ]
    },
    {
     "name": "stdout",
     "output_type": "stream",
     "text": [
      "Cluster 019 :    [##############--------------------------]  34.0% of 100\r",
      "Cluster 019 :    [##############--------------------------]  36.0% of 100\r",
      "Cluster 019 :    [###############-------------------------]  38.0% of 100\r"
     ]
    },
    {
     "name": "stdout",
     "output_type": "stream",
     "text": [
      "Cluster 019 :    [################------------------------]  40.0% of 100\r",
      "Cluster 019 :    [#################-----------------------]  42.0% of 100\r",
      "Cluster 019 :    [##################----------------------]  44.0% of 100\r",
      "Cluster 019 :    [##################----------------------]  46.0% of 100\r"
     ]
    },
    {
     "name": "stdout",
     "output_type": "stream",
     "text": [
      "Cluster 019 :    [###################---------------------]  48.0% of 100\r",
      "Cluster 019 :    [####################--------------------]  50.0% of 100\r",
      "Cluster 019 :    [#####################-------------------]  52.0% of 100\r"
     ]
    },
    {
     "name": "stdout",
     "output_type": "stream",
     "text": [
      "Cluster 019 :    [######################------------------]  54.0% of 100\r",
      "Cluster 019 :    [######################------------------]  56.0% of 100\r",
      "Cluster 019 :    [#######################-----------------]  58.0% of 100\r",
      "Cluster 019 :    [########################----------------]  60.0% of 100\r"
     ]
    },
    {
     "name": "stdout",
     "output_type": "stream",
     "text": [
      "Cluster 019 :    [#########################---------------]  62.0% of 100\r",
      "Cluster 019 :    [##########################--------------]  64.0% of 100\r",
      "Cluster 019 :    [##########################--------------]  66.0% of 100\r",
      "Cluster 019 :    [###########################-------------]  68.0% of 100\r"
     ]
    },
    {
     "name": "stdout",
     "output_type": "stream",
     "text": [
      "Cluster 019 :    [############################------------]  70.0% of 100\r",
      "Cluster 019 :    [#############################-----------]  72.0% of 100\r",
      "Cluster 019 :    [##############################----------]  74.0% of 100\r",
      "Cluster 019 :    [##############################----------]  76.0% of 100\r"
     ]
    },
    {
     "name": "stdout",
     "output_type": "stream",
     "text": [
      "Cluster 019 :    [###############################---------]  78.0% of 100\r",
      "Cluster 019 :    [################################--------]  80.0% of 100\r",
      "Cluster 019 :    [#################################-------]  82.0% of 100\r",
      "Cluster 019 :    [##################################------]  84.0% of 100\r"
     ]
    },
    {
     "name": "stdout",
     "output_type": "stream",
     "text": [
      "Cluster 019 :    [##################################------]  86.0% of 100\r",
      "Cluster 019 :    [###################################-----]  88.0% of 100\r",
      "Cluster 019 :    [####################################----]  90.0% of 100\r",
      "Cluster 019 :    [#####################################---]  92.0% of 100\r"
     ]
    },
    {
     "name": "stdout",
     "output_type": "stream",
     "text": [
      "Cluster 019 :    [######################################--]  94.0% of 100\r",
      "Cluster 019 :    [######################################--]  96.0% of 100\r",
      "Cluster 019 :    [#######################################-]  98.0% of 100\r",
      "Cluster 019 :    [########################################] 100.0% of 100\n"
     ]
    },
    {
     "name": "stdout",
     "output_type": "stream",
     "text": [
      "Cluster 020 :    [#---------------------------------------]   2.0% of 100\r",
      "Cluster 020 :    [##--------------------------------------]   4.0% of 100\r",
      "Cluster 020 :    [##--------------------------------------]   6.0% of 100\r",
      "Cluster 020 :    [###-------------------------------------]   8.0% of 100\r"
     ]
    },
    {
     "name": "stdout",
     "output_type": "stream",
     "text": [
      "Cluster 020 :    [####------------------------------------]  10.0% of 100\r",
      "Cluster 020 :    [#####-----------------------------------]  12.0% of 100\r",
      "Cluster 020 :    [######----------------------------------]  14.0% of 100\r",
      "Cluster 020 :    [######----------------------------------]  16.0% of 100\r"
     ]
    },
    {
     "name": "stdout",
     "output_type": "stream",
     "text": [
      "Cluster 020 :    [#######---------------------------------]  18.0% of 100\r",
      "Cluster 020 :    [########--------------------------------]  20.0% of 100\r",
      "Cluster 020 :    [#########-------------------------------]  22.0% of 100\r"
     ]
    },
    {
     "name": "stdout",
     "output_type": "stream",
     "text": [
      "Cluster 020 :    [##########------------------------------]  24.0% of 100\r"
     ]
    },
    {
     "data": {
      "text/markdown": [
       "<br>**Conclusion :**"
      ],
      "text/plain": [
       "<IPython.core.display.Markdown object>"
      ]
     },
     "metadata": {},
     "output_type": "display_data"
    },
    {
     "name": "stdout",
     "output_type": "stream",
     "text": [
      "Duration     :  0:01:11\n",
      "Size         :  1.4 Go\n"
     ]
    }
   ],
   "source": [
    "# ---- Build clusters\n",
    "#\n",
    "lx,ly        = image_size\n",
    "cluster_dir  = f'{output_dir}/clusters-{lx}x{ly}'\n",
    "\n",
    "cluster_nb,duration = read_and_save( dataset_img, dataset_desc,\n",
    "                                     scale         = scale,\n",
    "                                     cluster_size  = cluster_size, \n",
    "                                     cluster_dir   = cluster_dir,\n",
    "                                     image_size    = image_size,\n",
    "                                     exit_if_exist = exit_if_exist)\n",
    "\n",
    "# ---- Conclusion...\n",
    "\n",
    "directory = pathlib.Path(cluster_dir)\n",
    "s=sum(f.stat().st_size for f in directory.glob('**/*') if f.is_file())\n",
    "\n",
    "pwk.subtitle('Conclusion :')\n",
    "print('Duration     : ',pwk.hdelay(duration))\n",
    "print('Size         : ',pwk.hsize(s))"
   ]
  },
  {
   "cell_type": "code",
   "execution_count": 8,
   "metadata": {},
   "outputs": [
    {
     "name": "stdout",
     "output_type": "stream",
     "text": [
      "End time is : Wednesday 27 January 2021, 19:29:08\n",
      "Duration is : 00:01:12 067ms\n",
      "This notebook ends here\n"
     ]
    }
   ],
   "source": [
    "pwk.end()"
   ]
  },
  {
   "cell_type": "markdown",
   "metadata": {},
   "source": [
    "---\n",
    "<img width=\"80px\" src=\"../fidle/img/00-Fidle-logo-01.svg\"></img>"
   ]
  }
 ],
 "metadata": {
  "kernelspec": {
   "display_name": "Python 3",
   "language": "python",
   "name": "python3"
  },
  "language_info": {
   "codemirror_mode": {
    "name": "ipython",
    "version": 3
   },
   "file_extension": ".py",
   "mimetype": "text/x-python",
   "name": "python",
   "nbconvert_exporter": "python",
   "pygments_lexer": "ipython3",
   "version": "3.7.7"
  }
 },
 "nbformat": 4,
 "nbformat_minor": 4
}
