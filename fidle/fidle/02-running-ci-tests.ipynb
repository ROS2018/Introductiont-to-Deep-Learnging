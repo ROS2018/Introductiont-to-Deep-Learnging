{
 "cells": [
  {
   "cell_type": "markdown",
   "metadata": {},
   "source": [
    "<img width=\"800px\" src=\"../fidle/img/00-Fidle-header-01.svg\"></img>\n",
    "\n",
    "\n",
    "# Gestion des tests d'intégration continue\n",
    "\n",
    "**La liste des notebooks a éxécuter** et de leurs paramètres (override) est définie dans un **profile**.  \n",
    " - Un profile est un fichier yaml\n",
    " - Un profile par défaut (à complété !) peut être généré.\n",
    "\n",
    "Lorqu'un **profile** est prêt, il peut être soumis pour **éxécution**\n",
    " - Pour chaque notebook, les paramètres sont positionnés (variables d'env.)\n",
    " - Le notebook est lu, puis éxécuté\n",
    " - Après éxécution, le notebook est sauvegardé sous son nom taggé (output_tag)\n",
    "\n",
    "Un **rapport d'éxécution** est généré durant l'éxécution des tests.  \n",
    "A la fin des tests, ce rapport peut être visualisé via le notebook : [./03-ci-report.ipynb](./03-ci-report.ipynb)\n"
   ]
  },
  {
   "cell_type": "code",
   "execution_count": null,
   "metadata": {},
   "outputs": [],
   "source": [
    "import cookci\n",
    "import os"
   ]
  },
  {
   "cell_type": "markdown",
   "metadata": {},
   "source": [
    "## Create default profile\n",
    "Génère un profile par défaut comprenant tous les notebooks du moment...  \n",
    "...avec la liste des overrides disponibles :-)"
   ]
  },
  {
   "cell_type": "code",
   "execution_count": null,
   "metadata": {},
   "outputs": [],
   "source": [
    "profile = cookci.get_default_profile()\n",
    "cookci.save_profile(profile, './ci/default.yml')"
   ]
  },
  {
   "cell_type": "markdown",
   "metadata": {},
   "source": [
    "## Profile"
   ]
  },
  {
   "cell_type": "code",
   "execution_count": null,
   "metadata": {},
   "outputs": [],
   "source": [
    "# ---- Profile of tests\n",
    "#\n",
    "profile_name = './ci/full_fad_s01.yml'"
   ]
  },
  {
   "cell_type": "markdown",
   "metadata": {},
   "source": [
    "## Run it"
   ]
  },
  {
   "cell_type": "code",
   "execution_count": null,
   "metadata": {},
   "outputs": [],
   "source": [
    "# ---- Override for batch mode\n",
    "#\n",
    "profile_name = os.getenv('FIDLE_OVERRIDE_PROFILE', profile_name )\n",
    "\n",
    "cookci.run_profile(profile_name, report_name='./logs/ci_report.json')"
   ]
  },
  {
   "cell_type": "code",
   "execution_count": null,
   "metadata": {},
   "outputs": [],
   "source": [
    "%%bash\n",
    "find .. -name \"*==*==.ipynb\" -ls | sort -k11\n",
    "# rm $(find .. -name \"*==*==.ipynb\")"
   ]
  },
  {
   "cell_type": "markdown",
   "metadata": {},
   "source": [
    "---\n",
    "<img width=\"80px\" src=\"../fidle/img/00-Fidle-logo-01.svg\"></img>"
   ]
  }
 ],
 "metadata": {
  "kernelspec": {
   "display_name": "Python 3",
   "language": "python",
   "name": "python3"
  },
  "language_info": {
   "codemirror_mode": {
    "name": "ipython",
    "version": 3
   },
   "file_extension": ".py",
   "mimetype": "text/x-python",
   "name": "python",
   "nbconvert_exporter": "python",
   "pygments_lexer": "ipython3",
   "version": "3.8.5"
  }
 },
 "nbformat": 4,
 "nbformat_minor": 4
}
